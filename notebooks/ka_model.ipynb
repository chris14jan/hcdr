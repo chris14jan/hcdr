{
 "cells": [
  {
   "cell_type": "markdown",
   "id": "33d870c0",
   "metadata": {},
   "source": [
    "**Random Forest and HistGradientBoosting**"
   ]
  },
  {
   "cell_type": "markdown",
   "id": "87770cba",
   "metadata": {},
   "source": [
    "# Imports"
   ]
  },
  {
   "cell_type": "code",
   "execution_count": 1,
   "id": "f6adca57",
   "metadata": {
    "ExecuteTime": {
     "end_time": "2021-06-25T10:51:25.702298Z",
     "start_time": "2021-06-25T10:51:24.073512Z"
    }
   },
   "outputs": [
    {
     "name": "stdout",
     "output_type": "stream",
     "text": [
      "Requirement already satisfied: scikit-learn==0.24.2 in /Users/Keji/.pyenv/versions/3.8.6/envs/lewagon/lib/python3.8/site-packages (0.24.2)\r\n",
      "Requirement already satisfied: threadpoolctl>=2.0.0 in /Users/Keji/.pyenv/versions/3.8.6/envs/lewagon/lib/python3.8/site-packages (from scikit-learn==0.24.2) (2.1.0)\r\n",
      "Requirement already satisfied: numpy>=1.13.3 in /Users/Keji/.pyenv/versions/3.8.6/envs/lewagon/lib/python3.8/site-packages (from scikit-learn==0.24.2) (1.18.5)\r\n",
      "Requirement already satisfied: scipy>=0.19.1 in /Users/Keji/.pyenv/versions/3.8.6/envs/lewagon/lib/python3.8/site-packages (from scikit-learn==0.24.2) (1.6.3)\r\n",
      "Requirement already satisfied: joblib>=0.11 in /Users/Keji/.pyenv/versions/3.8.6/envs/lewagon/lib/python3.8/site-packages (from scikit-learn==0.24.2) (1.0.1)\r\n"
     ]
    }
   ],
   "source": [
    "!pip install scikit-learn==0.24.2"
   ]
  },
  {
   "cell_type": "code",
   "execution_count": 2,
   "id": "05657f71",
   "metadata": {
    "ExecuteTime": {
     "end_time": "2021-06-25T10:51:29.053442Z",
     "start_time": "2021-06-25T10:51:25.704246Z"
    }
   },
   "outputs": [],
   "source": [
    "import pandas as pd\n",
    "from hcdr.data.data import Data\n",
    "import numpy as np\n",
    "from hcdr.modeling.preproc import preproc_pipeline\n",
    "from hcdr.data.merged_data import merge_dfs\n",
    "from sklearn.ensemble import RandomForestRegressor, RandomForestClassifier\n",
    "from sklearn.linear_model import LogisticRegression\n",
    "from sklearn.model_selection import train_test_split, cross_validate, cross_val_predict\n",
    "from sklearn.model_selection import GridSearchCV, RandomizedSearchCV\n",
    "import seaborn as sns\n",
    "import matplotlib.pyplot as plt\n",
    "import pickle\n",
    "\n",
    "# explicitly require this experimental feature\n",
    "from sklearn.experimental import enable_hist_gradient_boosting   \n",
    "# now you can import normally from ensemble\n",
    "from sklearn.ensemble import HistGradientBoostingClassifier\n",
    "\n",
    "from sklearn.metrics import roc_auc_score, plot_confusion_matrix\n",
    "from sklearn.metrics import plot_roc_curve, plot_precision_recall_curve"
   ]
  },
  {
   "cell_type": "markdown",
   "id": "278050ba",
   "metadata": {},
   "source": [
    "# Data"
   ]
  },
  {
   "cell_type": "code",
   "execution_count": 3,
   "id": "45cb30d8",
   "metadata": {
    "ExecuteTime": {
     "end_time": "2021-06-25T10:54:23.591887Z",
     "start_time": "2021-06-25T10:51:29.054830Z"
    },
    "collapsed": true
   },
   "outputs": [
    {
     "name": "stdout",
     "output_type": "stream",
     "text": [
      "Aggregating non-application dataframes...\n",
      "application_train:       122 --> 72. Dropped 50 columns\n",
      "application_test:       121 --> 71. Dropped 50 columns\n",
      "previous_application:       37 --> 26. Dropped 11 columns\n",
      "Loading credit card balance data table...\n",
      "23 --> 23. Dropped 0 columns\n",
      "optimized size by 26.0 % | 0.0103558 GB\n",
      "Loading 'bureau' AND 'bureau_balance' data tables...\n",
      "Running get_bureau_final function...\n",
      "Running get_bureau_balance_final function...\n",
      "optimized size by 65.99999999999999 % | 0.156472346 GB\n",
      "Loading isntallments payments data table...\n",
      "8 --> 8. Dropped 0 columns\n",
      "optimized size by 19.999999999999996 % | 0.010866784 GB\n",
      "Loading POS_CASH_balance data table...\n",
      "8 --> 8. Dropped 0 columns\n",
      "optimized size by 32.99999999999999 % | 0.010792064 GB\n",
      "application_train:       72 --> 72. Dropped 0 columns\n",
      "application_test:       71 --> 71. Dropped 0 columns\n",
      "previous_application:       26 --> 26. Dropped 0 columns\n",
      "credit_card_balance:       23 --> 16. Dropped 7 columns\n",
      "bureau:       505 --> 491. Dropped 14 columns\n",
      "installments_payments:       6 --> 6. Dropped 0 columns\n",
      "POS_CASH_balance:       6 --> 6. Dropped 0 columns\n",
      "Merging previous_application table ...\n",
      "Original shape: 307511, shape after merge: 307511\n",
      "Merging credit_card_balance table ...\n",
      "Original shape: 307511, shape after merge: 307511\n",
      "Merging bureau table ...\n",
      "Original shape: 307511, shape after merge: 307511\n",
      "Merging installments_payments table ...\n",
      "Original shape: 307511, shape after merge: 307511\n",
      "Merging POS_CASH_balance table ...\n",
      "Original shape: 307511, shape after merge: 307511\n",
      "CPU times: user 2min 3s, sys: 49.3 s, total: 2min 52s\n",
      "Wall time: 2min 54s\n"
     ]
    }
   ],
   "source": [
    "%%time\n",
    "df_merged = merge_dfs(df_app=\"application_train\", verbose=True)"
   ]
  },
  {
   "cell_type": "code",
   "execution_count": 4,
   "id": "bf66d09a",
   "metadata": {
    "ExecuteTime": {
     "end_time": "2021-06-25T10:54:25.924495Z",
     "start_time": "2021-06-25T10:54:23.593716Z"
    }
   },
   "outputs": [
    {
     "name": "stdout",
     "output_type": "stream",
     "text": [
      "CPU times: user 899 ms, sys: 1.41 s, total: 2.31 s\n",
      "Wall time: 2.33 s\n"
     ]
    }
   ],
   "source": [
    "%%time\n",
    "df_merged = df_merged.replace(to_replace=np.inf,value=np.nan).replace(to_replace=-np.inf,value=np.nan)\n",
    "X = df_merged.drop(columns=[\"SK_ID_CURR\", \"TARGET\"])\n",
    "y = df_merged[\"TARGET\"]"
   ]
  },
  {
   "cell_type": "markdown",
   "id": "f4cf1a21",
   "metadata": {},
   "source": [
    "## preprocessing"
   ]
  },
  {
   "cell_type": "code",
   "execution_count": 5,
   "id": "5f4e3b3c",
   "metadata": {
    "ExecuteTime": {
     "end_time": "2021-06-25T10:54:36.060546Z",
     "start_time": "2021-06-25T10:54:25.927088Z"
    }
   },
   "outputs": [
    {
     "name": "stdout",
     "output_type": "stream",
     "text": [
      "Running preprocessor...\n",
      "scaler_type=None\n"
     ]
    }
   ],
   "source": [
    "preproc = preproc_pipeline(scaler_type=None)\n",
    "X_transformed = preproc.fit_transform(X)"
   ]
  },
  {
   "cell_type": "markdown",
   "id": "eccd56c0",
   "metadata": {
    "heading_collapsed": true
   },
   "source": [
    "## train test split"
   ]
  },
  {
   "cell_type": "code",
   "execution_count": 6,
   "id": "a55ff8cc",
   "metadata": {
    "ExecuteTime": {
     "end_time": "2021-06-25T10:54:36.815891Z",
     "start_time": "2021-06-25T10:54:36.061823Z"
    },
    "hidden": true
   },
   "outputs": [],
   "source": [
    "X_train, X_test, y_train, y_test = train_test_split(X_transformed, y, test_size=0.3, random_state=42)"
   ]
  },
  {
   "cell_type": "code",
   "execution_count": 7,
   "id": "c445eda0",
   "metadata": {
    "ExecuteTime": {
     "end_time": "2021-06-25T10:54:36.826317Z",
     "start_time": "2021-06-25T10:54:36.823467Z"
    },
    "hidden": true
   },
   "outputs": [
    {
     "name": "stdout",
     "output_type": "stream",
     "text": [
      "(215257, 691)\n",
      "(92254, 691)\n",
      "(215257,)\n",
      "(92254,)\n"
     ]
    }
   ],
   "source": [
    "# doublecheck\n",
    "\n",
    "print(X_train.shape)\n",
    "print(X_test.shape)\n",
    "print(y_train.shape) \n",
    "print(y_test.shape)"
   ]
  },
  {
   "cell_type": "markdown",
   "id": "442296c9",
   "metadata": {
    "heading_collapsed": true
   },
   "source": [
    "# Random Forest"
   ]
  },
  {
   "cell_type": "code",
   "execution_count": 8,
   "id": "3a636520",
   "metadata": {
    "ExecuteTime": {
     "end_time": "2021-06-25T10:54:36.833630Z",
     "start_time": "2021-06-25T10:54:36.830324Z"
    },
    "hidden": true
   },
   "outputs": [
    {
     "name": "stdout",
     "output_type": "stream",
     "text": [
      "CPU times: user 50 µs, sys: 66 µs, total: 116 µs\n",
      "Wall time: 117 µs\n"
     ]
    }
   ],
   "source": [
    "%%time\n",
    "forest = RandomForestClassifier(n_estimators = 50, random_state=10, \n",
    "                                verbose = 1, n_jobs = -1)\n",
    "# max_depth=4, class_weight = 'balanced',\n",
    "# average precision, average recall\n",
    "# max_depth and min_samples\n",
    "# predict on app_test\n",
    "# create classification report / confusion matrix\n",
    "# draw roc curve (dataviz)\n",
    "# precision-recall curve"
   ]
  },
  {
   "cell_type": "markdown",
   "id": "ba7727f0",
   "metadata": {
    "hidden": true
   },
   "source": [
    "## cross-val"
   ]
  },
  {
   "cell_type": "code",
   "execution_count": 9,
   "id": "eda217d9",
   "metadata": {
    "ExecuteTime": {
     "end_time": "2021-06-25T10:56:30.842172Z",
     "start_time": "2021-06-25T10:54:36.835925Z"
    },
    "hidden": true
   },
   "outputs": [
    {
     "name": "stderr",
     "output_type": "stream",
     "text": [
      "[Parallel(n_jobs=-1)]: Using backend LokyBackend with 8 concurrent workers.\n",
      "[Parallel(n_jobs=-1)]: Done  34 tasks      | elapsed:   18.5s\n",
      "[Parallel(n_jobs=-1)]: Done  50 out of  50 | elapsed:   23.1s finished\n",
      "[Parallel(n_jobs=8)]: Using backend ThreadingBackend with 8 concurrent workers.\n",
      "[Parallel(n_jobs=8)]: Done  34 tasks      | elapsed:    0.2s\n",
      "[Parallel(n_jobs=8)]: Done  50 out of  50 | elapsed:    0.2s finished\n",
      "[Parallel(n_jobs=-1)]: Using backend LokyBackend with 8 concurrent workers.\n",
      "[Parallel(n_jobs=-1)]: Done  34 tasks      | elapsed:   16.9s\n",
      "[Parallel(n_jobs=-1)]: Done  50 out of  50 | elapsed:   22.2s finished\n",
      "[Parallel(n_jobs=8)]: Using backend ThreadingBackend with 8 concurrent workers.\n",
      "[Parallel(n_jobs=8)]: Done  34 tasks      | elapsed:    0.1s\n",
      "[Parallel(n_jobs=8)]: Done  50 out of  50 | elapsed:    0.2s finished\n",
      "[Parallel(n_jobs=-1)]: Using backend LokyBackend with 8 concurrent workers.\n",
      "[Parallel(n_jobs=-1)]: Done  34 tasks      | elapsed:   15.3s\n",
      "[Parallel(n_jobs=-1)]: Done  50 out of  50 | elapsed:   20.2s finished\n",
      "[Parallel(n_jobs=8)]: Using backend ThreadingBackend with 8 concurrent workers.\n",
      "[Parallel(n_jobs=8)]: Done  34 tasks      | elapsed:    0.2s\n",
      "[Parallel(n_jobs=8)]: Done  50 out of  50 | elapsed:    0.2s finished\n",
      "[Parallel(n_jobs=-1)]: Using backend LokyBackend with 8 concurrent workers.\n",
      "[Parallel(n_jobs=-1)]: Done  34 tasks      | elapsed:   16.0s\n",
      "[Parallel(n_jobs=-1)]: Done  50 out of  50 | elapsed:   21.0s finished\n",
      "[Parallel(n_jobs=8)]: Using backend ThreadingBackend with 8 concurrent workers.\n",
      "[Parallel(n_jobs=8)]: Done  34 tasks      | elapsed:    0.2s\n",
      "[Parallel(n_jobs=8)]: Done  50 out of  50 | elapsed:    0.2s finished\n",
      "[Parallel(n_jobs=-1)]: Using backend LokyBackend with 8 concurrent workers.\n",
      "[Parallel(n_jobs=-1)]: Done  34 tasks      | elapsed:   16.1s\n",
      "[Parallel(n_jobs=-1)]: Done  50 out of  50 | elapsed:   21.5s finished\n",
      "[Parallel(n_jobs=8)]: Using backend ThreadingBackend with 8 concurrent workers.\n",
      "[Parallel(n_jobs=8)]: Done  34 tasks      | elapsed:    0.1s\n",
      "[Parallel(n_jobs=8)]: Done  50 out of  50 | elapsed:    0.2s finished\n"
     ]
    },
    {
     "data": {
      "text/plain": [
       "{'fit_time': array([23.96046686, 23.22674108, 20.8919909 , 21.74494505, 22.35194016]),\n",
       " 'score_time': array([0.35681915, 0.25680399, 0.28920722, 0.29909301, 0.25242496]),\n",
       " 'test_roc_auc': array([0.70835233, 0.69734629, 0.69742842, 0.7049668 , 0.70123708])}"
      ]
     },
     "execution_count": 9,
     "metadata": {},
     "output_type": "execute_result"
    }
   ],
   "source": [
    "cv_results = cross_validate(forest, X_train, y_train, scoring = ['roc_auc'], cv=5)\n",
    "cv_results"
   ]
  },
  {
   "cell_type": "code",
   "execution_count": 10,
   "id": "fcb935c2",
   "metadata": {
    "ExecuteTime": {
     "end_time": "2021-06-25T10:56:30.846735Z",
     "start_time": "2021-06-25T10:56:30.843432Z"
    },
    "hidden": true
   },
   "outputs": [
    {
     "data": {
      "text/plain": [
       "0.7018661849830595"
      ]
     },
     "execution_count": 10,
     "metadata": {},
     "output_type": "execute_result"
    }
   ],
   "source": [
    "cv_results['test_roc_auc'].mean()"
   ]
  },
  {
   "cell_type": "markdown",
   "id": "83209f13",
   "metadata": {
    "hidden": true
   },
   "source": [
    "## fit and predict"
   ]
  },
  {
   "cell_type": "code",
   "execution_count": 11,
   "id": "03ffa4ff",
   "metadata": {
    "ExecuteTime": {
     "end_time": "2021-06-25T10:56:54.222678Z",
     "start_time": "2021-06-25T10:56:30.847866Z"
    },
    "hidden": true
   },
   "outputs": [
    {
     "name": "stderr",
     "output_type": "stream",
     "text": [
      "[Parallel(n_jobs=-1)]: Using backend ThreadingBackend with 8 concurrent workers.\n",
      "[Parallel(n_jobs=-1)]: Done  34 tasks      | elapsed:   17.5s\n"
     ]
    },
    {
     "name": "stdout",
     "output_type": "stream",
     "text": [
      "CPU times: user 1min 58s, sys: 1.84 s, total: 2min\n",
      "Wall time: 23.4 s\n"
     ]
    },
    {
     "name": "stderr",
     "output_type": "stream",
     "text": [
      "[Parallel(n_jobs=-1)]: Done  50 out of  50 | elapsed:   23.0s finished\n"
     ]
    },
    {
     "data": {
      "text/plain": [
       "RandomForestClassifier(n_estimators=50, n_jobs=-1, random_state=10, verbose=1)"
      ]
     },
     "execution_count": 11,
     "metadata": {},
     "output_type": "execute_result"
    }
   ],
   "source": [
    "%%time\n",
    "forest.fit(X_train,y_train)"
   ]
  },
  {
   "cell_type": "code",
   "execution_count": 12,
   "id": "fe37c05b",
   "metadata": {
    "ExecuteTime": {
     "end_time": "2021-06-25T10:56:55.011290Z",
     "start_time": "2021-06-25T10:56:54.223647Z"
    },
    "hidden": true
   },
   "outputs": [
    {
     "name": "stderr",
     "output_type": "stream",
     "text": [
      "[Parallel(n_jobs=8)]: Using backend ThreadingBackend with 8 concurrent workers.\n"
     ]
    },
    {
     "name": "stdout",
     "output_type": "stream",
     "text": [
      "CPU times: user 2.56 s, sys: 261 ms, total: 2.82 s\n",
      "Wall time: 784 ms\n"
     ]
    },
    {
     "name": "stderr",
     "output_type": "stream",
     "text": [
      "[Parallel(n_jobs=8)]: Done  34 tasks      | elapsed:    0.3s\n",
      "[Parallel(n_jobs=8)]: Done  50 out of  50 | elapsed:    0.5s finished\n"
     ]
    },
    {
     "data": {
      "text/plain": [
       "array([0.1 , 0.06, 0.08, ..., 0.1 , 0.02, 0.18])"
      ]
     },
     "execution_count": 12,
     "metadata": {},
     "output_type": "execute_result"
    }
   ],
   "source": [
    "%%time\n",
    "y_prob = forest.predict_proba(X_test)[:,1]\n",
    "y_prob"
   ]
  },
  {
   "cell_type": "code",
   "execution_count": 13,
   "id": "cfffcded",
   "metadata": {
    "ExecuteTime": {
     "end_time": "2021-06-25T10:56:55.039824Z",
     "start_time": "2021-06-25T10:56:55.012623Z"
    },
    "hidden": true
   },
   "outputs": [
    {
     "data": {
      "text/plain": [
       "0.7017093621996584"
      ]
     },
     "execution_count": 13,
     "metadata": {},
     "output_type": "execute_result"
    }
   ],
   "source": [
    "roc_auc_rf = roc_auc_score(y_test,y_prob)\n",
    "roc_auc_rf"
   ]
  },
  {
   "cell_type": "code",
   "execution_count": 14,
   "id": "78fd57fb",
   "metadata": {
    "ExecuteTime": {
     "end_time": "2021-06-25T10:56:55.044837Z",
     "start_time": "2021-06-25T10:56:55.042216Z"
    },
    "hidden": true
   },
   "outputs": [],
   "source": [
    "# 0.7637768333036232"
   ]
  },
  {
   "cell_type": "markdown",
   "id": "6cc52d15",
   "metadata": {
    "hidden": true
   },
   "source": [
    "## RandomizedSearch"
   ]
  },
  {
   "cell_type": "code",
   "execution_count": 15,
   "id": "9b55b9c8",
   "metadata": {
    "ExecuteTime": {
     "end_time": "2021-06-25T10:56:55.050646Z",
     "start_time": "2021-06-25T10:56:55.047374Z"
    },
    "hidden": true
   },
   "outputs": [],
   "source": [
    "# # Number of trees in random forest\n",
    "# n_estimators = [50,100,150]\n",
    "\n",
    "# # Number of features to consider at every split\n",
    "# # max_features = ['auto', 'sqrt']\n",
    "\n",
    "# # Maximum number of levels in tree\n",
    "# max_depth = [7,10,12]\n",
    "\n",
    "# # Minimum number of samples required to split a node\n",
    "# min_samples_split = [2, 5, 10]\n",
    "\n",
    "# # Minimum number of samples required at each leaf node\n",
    "# min_samples_leaf = [1, 2, 4]\n",
    "\n",
    "# # Method of selecting samples for training each tree\n",
    "# bootstrap = [True, False]\n",
    "\n",
    "# # Create the random grid\n",
    "# random_grid = {'n_estimators': n_estimators,\n",
    "#                'max_features': max_features,\n",
    "#                'max_depth': max_depth,\n",
    "#                'min_samples_split': min_samples_split,\n",
    "#                'min_samples_leaf': min_samples_leaf,\n",
    "#                'bootstrap': bootstrap}\n",
    "\n",
    "# print(random_grid)"
   ]
  },
  {
   "cell_type": "code",
   "execution_count": 16,
   "id": "e520536f",
   "metadata": {
    "ExecuteTime": {
     "end_time": "2021-06-25T10:56:55.059449Z",
     "start_time": "2021-06-25T10:56:55.052686Z"
    },
    "hidden": true
   },
   "outputs": [],
   "source": [
    "# %%time\n",
    "# # Use the random grid to search for best hyperparameters\n",
    "\n",
    "# # First create the base model to tune\n",
    "# rf = RandomForestRegressor()\n",
    "\n",
    "# # Random search of parameters, using 3 fold cross validation, \n",
    "# # search across 50 different combinations, and use all available cores\n",
    "# rf_random = RandomizedSearchCV(estimator = rf, param_distributions = random_grid, \n",
    "#                                n_iter = 50, cv = 3, verbose=2, random_state=42, n_jobs = -1)\n",
    "\n",
    "# # Fit the random search model\n",
    "# rf_random.fit(X_train, y_train)"
   ]
  },
  {
   "cell_type": "code",
   "execution_count": 17,
   "id": "da1df1f9",
   "metadata": {
    "ExecuteTime": {
     "end_time": "2021-06-25T10:56:55.064426Z",
     "start_time": "2021-06-25T10:56:55.061442Z"
    },
    "hidden": true
   },
   "outputs": [],
   "source": [
    "# rf_random.best_params_"
   ]
  },
  {
   "cell_type": "markdown",
   "id": "886ecc36",
   "metadata": {
    "hidden": true
   },
   "source": [
    "## Feature importance "
   ]
  },
  {
   "cell_type": "code",
   "execution_count": 18,
   "id": "4aa7b9e3",
   "metadata": {
    "ExecuteTime": {
     "end_time": "2021-06-25T10:56:55.073103Z",
     "start_time": "2021-06-25T10:56:55.067842Z"
    },
    "hidden": true
   },
   "outputs": [
    {
     "data": {
      "text/plain": [
       "595"
      ]
     },
     "execution_count": 18,
     "metadata": {},
     "output_type": "execute_result"
    }
   ],
   "source": [
    "# create feature names list\n",
    "feat_names = list(X.columns)\n",
    "len(feat_names)"
   ]
  },
  {
   "cell_type": "code",
   "execution_count": 19,
   "id": "d4397817",
   "metadata": {
    "ExecuteTime": {
     "end_time": "2021-06-25T10:56:55.097597Z",
     "start_time": "2021-06-25T10:56:55.074565Z"
    },
    "hidden": true
   },
   "outputs": [
    {
     "data": {
      "text/plain": [
       "(691,)"
      ]
     },
     "execution_count": 19,
     "metadata": {},
     "output_type": "execute_result"
    }
   ],
   "source": [
    "# retrieve feature importance values\n",
    "feat_importance_values = forest.feature_importances_\n",
    "feat_importance_values.shape"
   ]
  },
  {
   "cell_type": "code",
   "execution_count": 20,
   "id": "2ad42e04",
   "metadata": {
    "ExecuteTime": {
     "end_time": "2021-06-25T10:56:55.100722Z",
     "start_time": "2021-06-25T10:56:55.098667Z"
    },
    "hidden": true,
    "scrolled": true
   },
   "outputs": [],
   "source": [
    "# create df to view feature importance\n",
    "\n",
    "# df_feat_importance = pd.DataFrame({'Feature':feat_names,'Importance': feat_importance_values})"
   ]
  },
  {
   "cell_type": "code",
   "execution_count": 21,
   "id": "02e4a428",
   "metadata": {
    "ExecuteTime": {
     "end_time": "2021-06-25T10:56:55.105534Z",
     "start_time": "2021-06-25T10:56:55.101798Z"
    },
    "hidden": true
   },
   "outputs": [],
   "source": [
    "# plot feature importance - results in error because pipeline one-hot encodes\n",
    "# after bootcamp, re-run without pipeline and check model score\n",
    "\n",
    "# def plot_feat_importance(df,numFeat=10):\n",
    "\n",
    "#     df = df.sort_values('Importance',ascending=False).reset_index()\n",
    "#     top_feat = df.head(numFeat)\n",
    "#     bottom_feat = df.tail(numFeat)\n",
    "\n",
    "#     fig,axes = plt.subplots(1,2,figsize=(15,10))\n",
    "#     ax0 = sns.barplot(x='Feature',y='Importance',data=top_feat, ax=axes[0])\n",
    "#     ax0.set_title('Top {} features'.format(numFeat))\n",
    "#     for item in ax0.get_xticklabels():\n",
    "#         item.set_rotation(90)\n",
    "#     ax1 = sns.barplot(x='Feature',y='Importance',data=bottom_feat, ax=axes[1])\n",
    "#     for item in ax1.get_xticklabels():\n",
    "#         item.set_rotation(90)\n",
    "#     ax1.set_title('Bottom {} features'.format(numFeat))\n",
    "\n",
    "#     return"
   ]
  },
  {
   "cell_type": "code",
   "execution_count": 22,
   "id": "c000bd03",
   "metadata": {
    "ExecuteTime": {
     "end_time": "2021-06-25T10:56:55.440636Z",
     "start_time": "2021-06-25T10:56:55.113998Z"
    },
    "hidden": true
   },
   "outputs": [
    {
     "data": {
      "text/plain": [
       "<seaborn.axisgrid.FacetGrid at 0x1472df1f0>"
      ]
     },
     "execution_count": 22,
     "metadata": {},
     "output_type": "execute_result"
    },
    {
     "data": {
      "image/png": "[encoded data removed]",
      "text/plain": [
       "<Figure size 360x360 with 1 Axes>"
      ]
     },
     "metadata": {
      "needs_background": "light"
     },
     "output_type": "display_data"
    }
   ],
   "source": [
    "sns.displot(feat_importance_values) # most features do not impact model"
   ]
  },
  {
   "cell_type": "markdown",
   "id": "d84b71b2",
   "metadata": {},
   "source": [
    "# HistGradientBoosting"
   ]
  },
  {
   "cell_type": "code",
   "execution_count": 23,
   "id": "51b6fd63",
   "metadata": {
    "ExecuteTime": {
     "end_time": "2021-06-25T10:57:45.507446Z",
     "start_time": "2021-06-25T10:56:55.443846Z"
    },
    "collapsed": true
   },
   "outputs": [
    {
     "name": "stdout",
     "output_type": "stream",
     "text": [
      "Binning 1.071 GB of training data: 8.876 s\n",
      "Binning 0.119 GB of validation data: 0.246 s\n",
      "Fitting gradient boosted rounds:\n",
      "[1/100] 1 tree, 31 leaves, max depth = 8, train score: 0.70968, val score: 0.71281, in 0.355s\n",
      "[2/100] 1 tree, 31 leaves, max depth = 9, train score: 0.71103, val score: 0.71752, in 0.344s\n",
      "[3/100] 1 tree, 31 leaves, max depth = 8, train score: 0.71308, val score: 0.72217, in 0.356s\n",
      "[4/100] 1 tree, 31 leaves, max depth = 9, train score: 0.71726, val score: 0.72571, in 0.381s\n",
      "[5/100] 1 tree, 31 leaves, max depth = 9, train score: 0.72217, val score: 0.72910, in 0.383s\n",
      "[6/100] 1 tree, 31 leaves, max depth = 8, train score: 0.72364, val score: 0.73130, in 0.372s\n",
      "[7/100] 1 tree, 31 leaves, max depth = 10, train score: 0.72607, val score: 0.73263, in 0.371s\n",
      "[8/100] 1 tree, 31 leaves, max depth = 8, train score: 0.72849, val score: 0.73469, in 0.384s\n",
      "[9/100] 1 tree, 31 leaves, max depth = 9, train score: 0.73133, val score: 0.73644, in 0.378s\n",
      "[10/100] 1 tree, 31 leaves, max depth = 8, train score: 0.73322, val score: 0.73737, in 0.384s\n",
      "[11/100] 1 tree, 31 leaves, max depth = 9, train score: 0.73623, val score: 0.73921, in 0.389s\n",
      "[12/100] 1 tree, 31 leaves, max depth = 10, train score: 0.73712, val score: 0.74085, in 0.390s\n",
      "[13/100] 1 tree, 31 leaves, max depth = 12, train score: 0.73950, val score: 0.74246, in 0.370s\n",
      "[14/100] 1 tree, 31 leaves, max depth = 10, train score: 0.74144, val score: 0.74401, in 0.382s\n",
      "[15/100] 1 tree, 31 leaves, max depth = 11, train score: 0.74294, val score: 0.74554, in 0.387s\n",
      "[16/100] 1 tree, 31 leaves, max depth = 11, train score: 0.74478, val score: 0.74741, in 0.385s\n",
      "[17/100] 1 tree, 31 leaves, max depth = 10, train score: 0.74661, val score: 0.74832, in 0.381s\n",
      "[18/100] 1 tree, 31 leaves, max depth = 8, train score: 0.74804, val score: 0.74950, in 0.377s\n",
      "[19/100] 1 tree, 31 leaves, max depth = 10, train score: 0.74939, val score: 0.75041, in 0.392s\n",
      "[20/100] 1 tree, 31 leaves, max depth = 10, train score: 0.75050, val score: 0.75152, in 0.369s\n",
      "[21/100] 1 tree, 31 leaves, max depth = 10, train score: 0.75200, val score: 0.75253, in 0.382s\n",
      "[22/100] 1 tree, 31 leaves, max depth = 9, train score: 0.75280, val score: 0.75294, in 0.376s\n",
      "[23/100] 1 tree, 31 leaves, max depth = 10, train score: 0.75422, val score: 0.75413, in 0.384s\n",
      "[24/100] 1 tree, 31 leaves, max depth = 12, train score: 0.75593, val score: 0.75542, in 0.374s\n",
      "[25/100] 1 tree, 31 leaves, max depth = 10, train score: 0.75761, val score: 0.75597, in 0.369s\n",
      "[26/100] 1 tree, 31 leaves, max depth = 11, train score: 0.75860, val score: 0.75683, in 0.390s\n",
      "[27/100] 1 tree, 31 leaves, max depth = 11, train score: 0.75900, val score: 0.75725, in 0.357s\n",
      "[28/100] 1 tree, 31 leaves, max depth = 10, train score: 0.76058, val score: 0.75786, in 0.404s\n",
      "[29/100] 1 tree, 31 leaves, max depth = 12, train score: 0.76124, val score: 0.75821, in 0.371s\n",
      "[30/100] 1 tree, 31 leaves, max depth = 11, train score: 0.76235, val score: 0.75867, in 0.361s\n",
      "[31/100] 1 tree, 31 leaves, max depth = 9, train score: 0.76394, val score: 0.75952, in 0.406s\n",
      "[32/100] 1 tree, 31 leaves, max depth = 14, train score: 0.76538, val score: 0.76038, in 0.381s\n",
      "[33/100] 1 tree, 31 leaves, max depth = 7, train score: 0.76567, val score: 0.76070, in 0.383s\n",
      "[34/100] 1 tree, 31 leaves, max depth = 15, train score: 0.76714, val score: 0.76169, in 0.404s\n",
      "[35/100] 1 tree, 31 leaves, max depth = 9, train score: 0.76786, val score: 0.76238, in 0.399s\n",
      "[36/100] 1 tree, 31 leaves, max depth = 9, train score: 0.77016, val score: 0.76296, in 0.399s\n",
      "[37/100] 1 tree, 31 leaves, max depth = 12, train score: 0.77091, val score: 0.76331, in 0.380s\n",
      "[38/100] 1 tree, 31 leaves, max depth = 12, train score: 0.77150, val score: 0.76324, in 0.394s\n",
      "[39/100] 1 tree, 31 leaves, max depth = 10, train score: 0.77188, val score: 0.76339, in 0.402s\n",
      "[40/100] 1 tree, 31 leaves, max depth = 11, train score: 0.77276, val score: 0.76381, in 0.392s\n",
      "[41/100] 1 tree, 31 leaves, max depth = 14, train score: 0.77370, val score: 0.76433, in 0.358s\n",
      "[42/100] 1 tree, 31 leaves, max depth = 10, train score: 0.77455, val score: 0.76461, in 0.376s\n",
      "[43/100] 1 tree, 31 leaves, max depth = 13, train score: 0.77507, val score: 0.76501, in 0.430s\n",
      "[44/100] 1 tree, 31 leaves, max depth = 11, train score: 0.77600, val score: 0.76533, in 0.392s\n",
      "[45/100] 1 tree, 31 leaves, max depth = 15, train score: 0.77668, val score: 0.76560, in 0.356s\n",
      "[46/100] 1 tree, 31 leaves, max depth = 11, train score: 0.77735, val score: 0.76549, in 0.384s\n",
      "[47/100] 1 tree, 31 leaves, max depth = 11, train score: 0.77809, val score: 0.76554, in 0.365s\n",
      "[48/100] 1 tree, 31 leaves, max depth = 11, train score: 0.77863, val score: 0.76574, in 0.349s\n",
      "[49/100] 1 tree, 31 leaves, max depth = 9, train score: 0.77900, val score: 0.76587, in 0.359s\n",
      "[50/100] 1 tree, 31 leaves, max depth = 11, train score: 0.77956, val score: 0.76610, in 0.383s\n",
      "[51/100] 1 tree, 31 leaves, max depth = 11, train score: 0.78009, val score: 0.76603, in 0.422s\n",
      "[52/100] 1 tree, 31 leaves, max depth = 11, train score: 0.78075, val score: 0.76625, in 0.390s\n",
      "[53/100] 1 tree, 31 leaves, max depth = 11, train score: 0.78158, val score: 0.76642, in 0.398s\n",
      "[54/100] 1 tree, 31 leaves, max depth = 14, train score: 0.78227, val score: 0.76672, in 0.418s\n",
      "[55/100] 1 tree, 31 leaves, max depth = 10, train score: 0.78285, val score: 0.76683, in 0.362s\n",
      "[56/100] 1 tree, 31 leaves, max depth = 13, train score: 0.78353, val score: 0.76665, in 0.392s\n",
      "[57/100] 1 tree, 31 leaves, max depth = 11, train score: 0.78394, val score: 0.76662, in 0.401s\n",
      "[58/100] 1 tree, 31 leaves, max depth = 9, train score: 0.78473, val score: 0.76690, in 0.392s\n",
      "[59/100] 1 tree, 31 leaves, max depth = 12, train score: 0.78503, val score: 0.76679, in 0.343s\n",
      "[60/100] 1 tree, 31 leaves, max depth = 7, train score: 0.78573, val score: 0.76679, in 0.379s\n",
      "[61/100] 1 tree, 31 leaves, max depth = 11, train score: 0.78623, val score: 0.76704, in 0.374s\n",
      "[62/100] 1 tree, 31 leaves, max depth = 15, train score: 0.78682, val score: 0.76719, in 0.355s\n",
      "[63/100] 1 tree, 31 leaves, max depth = 14, train score: 0.78707, val score: 0.76746, in 0.403s\n",
      "[64/100] 1 tree, 31 leaves, max depth = 14, train score: 0.78736, val score: 0.76756, in 0.413s\n",
      "[65/100] 1 tree, 31 leaves, max depth = 11, train score: 0.78815, val score: 0.76778, in 0.415s\n",
      "[66/100] 1 tree, 31 leaves, max depth = 12, train score: 0.78914, val score: 0.76796, in 0.376s\n",
      "[67/100] 1 tree, 31 leaves, max depth = 12, train score: 0.79034, val score: 0.76804, in 0.415s\n",
      "[68/100] 1 tree, 31 leaves, max depth = 9, train score: 0.79049, val score: 0.76801, in 0.383s\n",
      "[69/100] 1 tree, 31 leaves, max depth = 8, train score: 0.79135, val score: 0.76809, in 0.401s\n",
      "[70/100] 1 tree, 31 leaves, max depth = 12, train score: 0.79167, val score: 0.76816, in 0.402s\n",
      "[71/100] 1 tree, 31 leaves, max depth = 10, train score: 0.79202, val score: 0.76830, in 0.400s\n",
      "[72/100] 1 tree, 31 leaves, max depth = 15, train score: 0.79238, val score: 0.76851, in 0.388s\n",
      "[73/100] 1 tree, 31 leaves, max depth = 12, train score: 0.79295, val score: 0.76858, in 0.401s\n",
      "[74/100] 1 tree, 31 leaves, max depth = 14, train score: 0.79420, val score: 0.76858, in 0.429s\n",
      "[75/100] 1 tree, 31 leaves, max depth = 10, train score: 0.79507, val score: 0.76862, in 0.320s\n",
      "[76/100] 1 tree, 31 leaves, max depth = 15, train score: 0.79564, val score: 0.76883, in 0.369s\n",
      "[77/100] 1 tree, 31 leaves, max depth = 11, train score: 0.79597, val score: 0.76908, in 0.384s\n",
      "[78/100] 1 tree, 31 leaves, max depth = 14, train score: 0.79610, val score: 0.76906, in 0.419s\n",
      "[79/100] 1 tree, 31 leaves, max depth = 10, train score: 0.79654, val score: 0.76911, in 0.370s\n",
      "[80/100] 1 tree, 31 leaves, max depth = 12, train score: 0.79723, val score: 0.76908, in 0.398s\n",
      "[81/100] 1 tree, 31 leaves, max depth = 12, train score: 0.79953, val score: 0.76898, in 0.329s\n",
      "[82/100] 1 tree, 31 leaves, max depth = 15, train score: 0.80016, val score: 0.76914, in 0.373s\n",
      "[83/100] 1 tree, 31 leaves, max depth = 15, train score: 0.80054, val score: 0.76902, in 0.328s\n",
      "[84/100] 1 tree, 31 leaves, max depth = 12, train score: 0.80164, val score: 0.76895, in 0.331s\n",
      "[85/100] 1 tree, 31 leaves, max depth = 10, train score: 0.80201, val score: 0.76913, in 0.321s\n"
     ]
    },
    {
     "name": "stdout",
     "output_type": "stream",
     "text": [
      "[86/100] 1 tree, 31 leaves, max depth = 12, train score: 0.80281, val score: 0.76915, in 0.421s\n",
      "[87/100] 1 tree, 31 leaves, max depth = 10, train score: 0.80340, val score: 0.76920, in 0.425s\n",
      "[88/100] 1 tree, 31 leaves, max depth = 11, train score: 0.80392, val score: 0.76929, in 0.368s\n",
      "[89/100] 1 tree, 31 leaves, max depth = 15, train score: 0.80482, val score: 0.76924, in 0.382s\n",
      "[90/100] 1 tree, 31 leaves, max depth = 11, train score: 0.80518, val score: 0.76917, in 0.326s\n",
      "[91/100] 1 tree, 31 leaves, max depth = 12, train score: 0.80565, val score: 0.76942, in 0.410s\n",
      "[92/100] 1 tree, 31 leaves, max depth = 12, train score: 0.80638, val score: 0.76949, in 0.333s\n",
      "[93/100] 1 tree, 31 leaves, max depth = 11, train score: 0.80685, val score: 0.76947, in 0.316s\n",
      "[94/100] 1 tree, 31 leaves, max depth = 13, train score: 0.80742, val score: 0.76966, in 0.380s\n",
      "[95/100] 1 tree, 31 leaves, max depth = 13, train score: 0.80824, val score: 0.76958, in 0.383s\n",
      "[96/100] 1 tree, 31 leaves, max depth = 10, train score: 0.80841, val score: 0.76958, in 0.405s\n",
      "[97/100] 1 tree, 31 leaves, max depth = 12, train score: 0.80864, val score: 0.76955, in 0.443s\n",
      "[98/100] 1 tree, 31 leaves, max depth = 10, train score: 0.80902, val score: 0.76967, in 0.318s\n",
      "[99/100] 1 tree, 31 leaves, max depth = 13, train score: 0.81029, val score: 0.76974, in 0.352s\n",
      "[100/100] 1 tree, 31 leaves, max depth = 10, train score: 0.81111, val score: 0.76979, in 0.452s\n",
      "Fit 100 trees in 47.822 s, (3100 total leaves)\n",
      "Time spent computing histograms: 15.177s\n",
      "Time spent finding best splits:  1.498s\n",
      "Time spent applying splits:      1.163s\n",
      "Time spent predicting:           0.063s\n",
      "CPU times: user 3min 42s, sys: 21.3 s, total: 4min 3s\n",
      "Wall time: 50.1 s\n"
     ]
    },
    {
     "data": {
      "text/plain": [
       "0.9213777020027223"
      ]
     },
     "execution_count": 23,
     "metadata": {},
     "output_type": "execute_result"
    }
   ],
   "source": [
    "%%time\n",
    "# can do grid search to fine tune hyperparams\n",
    "hgb = HistGradientBoostingClassifier(max_depth=15, scoring='roc_auc',verbose = 1)\n",
    "clf = hgb.fit(X_train, y_train)\n",
    "\n",
    "clf.score(X_train, y_train)"
   ]
  },
  {
   "cell_type": "code",
   "execution_count": 24,
   "id": "30ca36ba",
   "metadata": {
    "ExecuteTime": {
     "end_time": "2021-06-25T10:57:45.511794Z",
     "start_time": "2021-06-25T10:57:45.509442Z"
    }
   },
   "outputs": [
    {
     "data": {
      "text/plain": [
       "HistGradientBoostingClassifier(max_depth=15, scoring='roc_auc', verbose=1)"
      ]
     },
     "execution_count": 24,
     "metadata": {},
     "output_type": "execute_result"
    }
   ],
   "source": [
    "clf"
   ]
  },
  {
   "cell_type": "code",
   "execution_count": 25,
   "id": "c3c95bcc",
   "metadata": {
    "ExecuteTime": {
     "end_time": "2021-06-25T10:57:46.595755Z",
     "start_time": "2021-06-25T10:57:45.512788Z"
    }
   },
   "outputs": [
    {
     "data": {
      "text/plain": [
       "0.9197866759164914"
      ]
     },
     "execution_count": 25,
     "metadata": {},
     "output_type": "execute_result"
    }
   ],
   "source": [
    "clf.score(X_test, y_test)"
   ]
  },
  {
   "cell_type": "code",
   "execution_count": 26,
   "id": "9f9d28ed",
   "metadata": {
    "ExecuteTime": {
     "end_time": "2021-06-25T10:57:47.599081Z",
     "start_time": "2021-06-25T10:57:46.597273Z"
    }
   },
   "outputs": [],
   "source": [
    "y_prob_hgb = clf.predict_proba(X_test)[:,1]"
   ]
  },
  {
   "cell_type": "code",
   "execution_count": 27,
   "id": "a7fd3d7e",
   "metadata": {
    "ExecuteTime": {
     "end_time": "2021-06-25T10:57:47.623467Z",
     "start_time": "2021-06-25T10:57:47.600166Z"
    }
   },
   "outputs": [
    {
     "data": {
      "text/plain": [
       "0.7629614850297578"
      ]
     },
     "execution_count": 27,
     "metadata": {},
     "output_type": "execute_result"
    }
   ],
   "source": [
    "roc_auc_hgb = roc_auc_score(y_test,y_prob_hgb)\n",
    "roc_auc_hgb"
   ]
  },
  {
   "cell_type": "markdown",
   "id": "1bcd7b4f",
   "metadata": {},
   "source": [
    "0.7638817947220536"
   ]
  },
  {
   "cell_type": "code",
   "execution_count": 28,
   "id": "3ff2ffad",
   "metadata": {
    "ExecuteTime": {
     "end_time": "2021-06-25T10:57:47.633704Z",
     "start_time": "2021-06-25T10:57:47.625184Z"
    }
   },
   "outputs": [],
   "source": [
    "filename = 'finalized_hgb_model.sav'\n",
    "pickle.dump(clf, open(filename, 'wb'))"
   ]
  },
  {
   "cell_type": "code",
   "execution_count": 29,
   "id": "c0a51d62",
   "metadata": {
    "ExecuteTime": {
     "end_time": "2021-06-25T10:57:48.708485Z",
     "start_time": "2021-06-25T10:57:47.635210Z"
    }
   },
   "outputs": [
    {
     "name": "stdout",
     "output_type": "stream",
     "text": [
      "0.7629614850297578\n"
     ]
    }
   ],
   "source": [
    "loaded_model = pickle.load(open(filename, 'rb'))\n",
    "result_prob = loaded_model.predict_proba(X_test)[:,1]\n",
    "result = roc_auc_score(y_test,result_prob)\n",
    "print(result)"
   ]
  },
  {
   "cell_type": "code",
   "execution_count": 30,
   "id": "344a1749",
   "metadata": {
    "ExecuteTime": {
     "end_time": "2021-06-25T10:57:50.072269Z",
     "start_time": "2021-06-25T10:57:48.710630Z"
    }
   },
   "outputs": [
    {
     "data": {
      "text/plain": [
       "<sklearn.metrics._plot.roc_curve.RocCurveDisplay at 0x14968b280>"
      ]
     },
     "execution_count": 30,
     "metadata": {},
     "output_type": "execute_result"
    },
    {
     "data": {
      "image/png": "[encoded data removed]",
      "text/plain": [
       "<Figure size 432x288 with 1 Axes>"
      ]
     },
     "metadata": {
      "needs_background": "light"
     },
     "output_type": "display_data"
    }
   ],
   "source": [
    "plot_roc_curve(clf, X_test, y_test)  "
   ]
  },
  {
   "cell_type": "markdown",
   "id": "6136b0b6",
   "metadata": {},
   "source": [
    "# Submission"
   ]
  },
  {
   "cell_type": "code",
   "execution_count": 31,
   "id": "a9031c14",
   "metadata": {
    "ExecuteTime": {
     "end_time": "2021-06-25T10:58:21.808773Z",
     "start_time": "2021-06-25T10:57:50.075702Z"
    }
   },
   "outputs": [
    {
     "name": "stdout",
     "output_type": "stream",
     "text": [
      "CPU times: user 27.5 s, sys: 3.35 s, total: 30.9 s\n",
      "Wall time: 31.7 s\n"
     ]
    }
   ],
   "source": [
    "%%time\n",
    "data = Data()\n",
    "df_dict = data.get_data()"
   ]
  },
  {
   "cell_type": "code",
   "execution_count": 32,
   "id": "638e1027",
   "metadata": {
    "ExecuteTime": {
     "end_time": "2021-06-25T10:58:21.812030Z",
     "start_time": "2021-06-25T10:58:21.810103Z"
    }
   },
   "outputs": [],
   "source": [
    "app_test = df_dict['application_test']"
   ]
  },
  {
   "cell_type": "code",
   "execution_count": 33,
   "id": "69d9bbc2",
   "metadata": {
    "ExecuteTime": {
     "end_time": "2021-06-25T11:00:01.753422Z",
     "start_time": "2021-06-25T10:58:21.813467Z"
    },
    "collapsed": true
   },
   "outputs": [
    {
     "name": "stdout",
     "output_type": "stream",
     "text": [
      "Aggregating non-application dataframes...\n",
      "application_train:       122 --> 72. Dropped 50 columns\n",
      "application_test:       121 --> 71. Dropped 50 columns\n",
      "previous_application:       37 --> 26. Dropped 11 columns\n",
      "Loading credit card balance data table...\n",
      "23 --> 23. Dropped 0 columns\n",
      "optimized size by 26.0 % | 0.0103558 GB\n",
      "Loading 'bureau' AND 'bureau_balance' data tables...\n",
      "Running get_bureau_final function...\n",
      "Running get_bureau_balance_final function...\n",
      "optimized size by 65.99999999999999 % | 0.156472346 GB\n",
      "Loading isntallments payments data table...\n",
      "8 --> 8. Dropped 0 columns\n",
      "optimized size by 19.999999999999996 % | 0.010866784 GB\n",
      "Loading POS_CASH_balance data table...\n",
      "8 --> 8. Dropped 0 columns\n",
      "optimized size by 32.99999999999999 % | 0.010792064 GB\n",
      "application_train:       72 --> 72. Dropped 0 columns\n",
      "application_test:       71 --> 71. Dropped 0 columns\n",
      "previous_application:       26 --> 26. Dropped 0 columns\n",
      "credit_card_balance:       23 --> 16. Dropped 7 columns\n",
      "bureau:       505 --> 491. Dropped 14 columns\n",
      "installments_payments:       6 --> 6. Dropped 0 columns\n",
      "POS_CASH_balance:       6 --> 6. Dropped 0 columns\n",
      "Merging previous_application table ...\n",
      "Original shape: 48744, shape after merge: 48744\n",
      "Merging credit_card_balance table ...\n",
      "Original shape: 48744, shape after merge: 48744\n",
      "Merging bureau table ...\n",
      "Original shape: 48744, shape after merge: 48744\n",
      "Merging installments_payments table ...\n",
      "Original shape: 48744, shape after merge: 48744\n",
      "Merging POS_CASH_balance table ...\n",
      "Original shape: 48744, shape after merge: 48744\n",
      "CPU times: user 1min 14s, sys: 24.5 s, total: 1min 38s\n",
      "Wall time: 1min 39s\n"
     ]
    }
   ],
   "source": [
    "%%time\n",
    "df_test = merge_dfs(df_app=\"application_test\", verbose=True)"
   ]
  },
  {
   "cell_type": "code",
   "execution_count": 34,
   "id": "13d8c294",
   "metadata": {
    "ExecuteTime": {
     "end_time": "2021-06-25T11:00:01.964253Z",
     "start_time": "2021-06-25T11:00:01.755333Z"
    }
   },
   "outputs": [],
   "source": [
    "df_test = df_test.replace(to_replace=np.inf,value=np.nan).replace(to_replace=-np.inf,value=np.nan)"
   ]
  },
  {
   "cell_type": "code",
   "execution_count": 35,
   "id": "0c854c0e",
   "metadata": {
    "ExecuteTime": {
     "end_time": "2021-06-25T11:00:02.020338Z",
     "start_time": "2021-06-25T11:00:01.966898Z"
    }
   },
   "outputs": [],
   "source": [
    "X_test = df_test.drop(columns=[\"SK_ID_CURR\"])"
   ]
  },
  {
   "cell_type": "code",
   "execution_count": 36,
   "id": "c924637e",
   "metadata": {
    "ExecuteTime": {
     "end_time": "2021-06-25T11:00:02.044565Z",
     "start_time": "2021-06-25T11:00:02.022665Z"
    }
   },
   "outputs": [],
   "source": [
    "a = X_test.copy()"
   ]
  },
  {
   "cell_type": "code",
   "execution_count": 37,
   "id": "df284fa9",
   "metadata": {
    "ExecuteTime": {
     "end_time": "2021-06-25T11:00:02.727582Z",
     "start_time": "2021-06-25T11:00:02.047328Z"
    }
   },
   "outputs": [],
   "source": [
    "b = preproc.transform(a)"
   ]
  },
  {
   "cell_type": "code",
   "execution_count": 38,
   "id": "17cce67b",
   "metadata": {
    "ExecuteTime": {
     "end_time": "2021-06-25T11:00:02.730624Z",
     "start_time": "2021-06-25T11:00:02.728679Z"
    }
   },
   "outputs": [
    {
     "name": "stdout",
     "output_type": "stream",
     "text": [
      "(307511, 691)\n",
      "(48744, 691)\n"
     ]
    }
   ],
   "source": [
    "print(X_transformed.shape)\n",
    "print(b.shape)"
   ]
  },
  {
   "cell_type": "code",
   "execution_count": 40,
   "id": "7d07c8da",
   "metadata": {
    "ExecuteTime": {
     "end_time": "2021-06-25T11:01:49.101860Z",
     "start_time": "2021-06-25T11:00:37.204457Z"
    },
    "collapsed": true
   },
   "outputs": [
    {
     "name": "stdout",
     "output_type": "stream",
     "text": [
      "Binning 1.530 GB of training data: 11.415 s\n",
      "Binning 0.170 GB of validation data: 0.395 s\n",
      "Fitting gradient boosted rounds:\n",
      "[1/20000] 1 tree, 31 leaves, max depth = 8, train score: 0.69561, val score: 0.69861, in 0.494s\n",
      "[2/20000] 1 tree, 31 leaves, max depth = 9, train score: 0.69903, val score: 0.70691, in 0.478s\n",
      "[3/20000] 1 tree, 31 leaves, max depth = 9, train score: 0.70050, val score: 0.71019, in 0.480s\n",
      "[4/20000] 1 tree, 31 leaves, max depth = 9, train score: 0.70741, val score: 0.71120, in 0.496s\n",
      "[5/20000] 1 tree, 31 leaves, max depth = 9, train score: 0.71048, val score: 0.71392, in 0.497s\n",
      "[6/20000] 1 tree, 31 leaves, max depth = 8, train score: 0.71406, val score: 0.71572, in 0.515s\n",
      "[7/20000] 1 tree, 31 leaves, max depth = 8, train score: 0.71690, val score: 0.71695, in 0.524s\n",
      "[8/20000] 1 tree, 31 leaves, max depth = 11, train score: 0.71881, val score: 0.72023, in 0.488s\n",
      "[9/20000] 1 tree, 31 leaves, max depth = 9, train score: 0.72274, val score: 0.72279, in 0.479s\n",
      "[10/20000] 1 tree, 31 leaves, max depth = 10, train score: 0.72554, val score: 0.72421, in 0.497s\n",
      "[11/20000] 1 tree, 31 leaves, max depth = 8, train score: 0.72764, val score: 0.72669, in 0.480s\n",
      "[12/20000] 1 tree, 31 leaves, max depth = 11, train score: 0.72856, val score: 0.72829, in 0.482s\n",
      "[13/20000] 1 tree, 31 leaves, max depth = 9, train score: 0.73036, val score: 0.73019, in 0.515s\n",
      "[14/20000] 1 tree, 31 leaves, max depth = 12, train score: 0.73310, val score: 0.73175, in 0.524s\n",
      "[15/20000] 1 tree, 31 leaves, max depth = 9, train score: 0.73500, val score: 0.73340, in 0.522s\n",
      "[16/20000] 1 tree, 31 leaves, max depth = 12, train score: 0.73635, val score: 0.73451, in 0.514s\n",
      "[17/20000] 1 tree, 31 leaves, max depth = 9, train score: 0.73777, val score: 0.73542, in 0.514s\n",
      "[18/20000] 1 tree, 31 leaves, max depth = 11, train score: 0.73909, val score: 0.73689, in 0.507s\n",
      "[19/20000] 1 tree, 31 leaves, max depth = 11, train score: 0.74056, val score: 0.73848, in 0.512s\n",
      "[20/20000] 1 tree, 31 leaves, max depth = 10, train score: 0.74117, val score: 0.73963, in 0.508s\n",
      "[21/20000] 1 tree, 31 leaves, max depth = 8, train score: 0.74334, val score: 0.74112, in 0.552s\n",
      "[22/20000] 1 tree, 31 leaves, max depth = 12, train score: 0.74425, val score: 0.74222, in 0.553s\n",
      "[23/20000] 1 tree, 31 leaves, max depth = 11, train score: 0.74570, val score: 0.74342, in 0.505s\n",
      "[24/20000] 1 tree, 31 leaves, max depth = 9, train score: 0.74740, val score: 0.74461, in 0.538s\n",
      "[25/20000] 1 tree, 31 leaves, max depth = 9, train score: 0.74864, val score: 0.74583, in 0.560s\n",
      "[26/20000] 1 tree, 31 leaves, max depth = 11, train score: 0.75009, val score: 0.74694, in 0.503s\n",
      "[27/20000] 1 tree, 31 leaves, max depth = 10, train score: 0.75122, val score: 0.74776, in 0.573s\n",
      "[28/20000] 1 tree, 31 leaves, max depth = 10, train score: 0.75158, val score: 0.74876, in 0.501s\n",
      "[29/20000] 1 tree, 31 leaves, max depth = 12, train score: 0.75282, val score: 0.74935, in 0.557s\n",
      "[30/20000] 1 tree, 31 leaves, max depth = 10, train score: 0.75378, val score: 0.74993, in 0.617s\n",
      "[31/20000] 1 tree, 31 leaves, max depth = 11, train score: 0.75515, val score: 0.75112, in 0.642s\n",
      "[32/20000] 1 tree, 31 leaves, max depth = 10, train score: 0.75575, val score: 0.75177, in 0.551s\n",
      "[33/20000] 1 tree, 31 leaves, max depth = 12, train score: 0.75590, val score: 0.75217, in 0.498s\n",
      "[34/20000] 1 tree, 31 leaves, max depth = 13, train score: 0.75693, val score: 0.75275, in 0.518s\n",
      "[35/20000] 1 tree, 31 leaves, max depth = 12, train score: 0.75768, val score: 0.75316, in 0.501s\n",
      "[36/20000] 1 tree, 31 leaves, max depth = 11, train score: 0.75876, val score: 0.75391, in 0.509s\n",
      "[37/20000] 1 tree, 31 leaves, max depth = 11, train score: 0.75919, val score: 0.75417, in 0.505s\n",
      "[38/20000] 1 tree, 31 leaves, max depth = 8, train score: 0.75996, val score: 0.75491, in 0.538s\n",
      "[39/20000] 1 tree, 31 leaves, max depth = 10, train score: 0.76053, val score: 0.75503, in 0.525s\n",
      "[40/20000] 1 tree, 31 leaves, max depth = 9, train score: 0.76186, val score: 0.75534, in 0.492s\n",
      "[41/20000] 1 tree, 31 leaves, max depth = 11, train score: 0.76260, val score: 0.75548, in 0.502s\n",
      "[42/20000] 1 tree, 31 leaves, max depth = 10, train score: 0.76299, val score: 0.75599, in 0.526s\n",
      "[43/20000] 1 tree, 31 leaves, max depth = 9, train score: 0.76414, val score: 0.75639, in 0.526s\n",
      "[44/20000] 1 tree, 31 leaves, max depth = 13, train score: 0.76502, val score: 0.75669, in 0.499s\n",
      "[45/20000] 1 tree, 31 leaves, max depth = 13, train score: 0.76589, val score: 0.75701, in 0.492s\n",
      "[46/20000] 1 tree, 31 leaves, max depth = 12, train score: 0.76644, val score: 0.75703, in 0.508s\n",
      "[47/20000] 1 tree, 31 leaves, max depth = 13, train score: 0.76661, val score: 0.75719, in 0.517s\n",
      "[48/20000] 1 tree, 31 leaves, max depth = 11, train score: 0.76728, val score: 0.75732, in 0.501s\n",
      "[49/20000] 1 tree, 31 leaves, max depth = 11, train score: 0.76764, val score: 0.75769, in 0.532s\n",
      "[50/20000] 1 tree, 31 leaves, max depth = 8, train score: 0.76844, val score: 0.75772, in 0.522s\n",
      "[51/20000] 1 tree, 31 leaves, max depth = 11, train score: 0.76947, val score: 0.75784, in 0.563s\n",
      "[52/20000] 1 tree, 31 leaves, max depth = 11, train score: 0.77006, val score: 0.75803, in 0.566s\n",
      "[53/20000] 1 tree, 31 leaves, max depth = 13, train score: 0.77033, val score: 0.75834, in 0.545s\n",
      "[54/20000] 1 tree, 31 leaves, max depth = 13, train score: 0.77081, val score: 0.75864, in 0.548s\n",
      "[55/20000] 1 tree, 31 leaves, max depth = 13, train score: 0.77122, val score: 0.75890, in 0.519s\n",
      "[56/20000] 1 tree, 31 leaves, max depth = 14, train score: 0.77202, val score: 0.75915, in 0.549s\n",
      "[57/20000] 1 tree, 31 leaves, max depth = 15, train score: 0.77244, val score: 0.75939, in 0.547s\n",
      "[58/20000] 1 tree, 31 leaves, max depth = 13, train score: 0.77318, val score: 0.75956, in 0.521s\n",
      "[59/20000] 1 tree, 31 leaves, max depth = 15, train score: 0.77344, val score: 0.75971, in 0.540s\n",
      "[60/20000] 1 tree, 31 leaves, max depth = 11, train score: 0.77394, val score: 0.75996, in 0.533s\n",
      "[61/20000] 1 tree, 31 leaves, max depth = 13, train score: 0.77493, val score: 0.76000, in 0.530s\n",
      "[62/20000] 1 tree, 31 leaves, max depth = 12, train score: 0.77533, val score: 0.76007, in 0.478s\n",
      "[63/20000] 1 tree, 31 leaves, max depth = 14, train score: 0.77615, val score: 0.76037, in 0.541s\n",
      "[64/20000] 1 tree, 31 leaves, max depth = 15, train score: 0.77649, val score: 0.76055, in 0.545s\n",
      "[65/20000] 1 tree, 31 leaves, max depth = 13, train score: 0.77680, val score: 0.76076, in 0.638s\n",
      "[66/20000] 1 tree, 31 leaves, max depth = 10, train score: 0.77750, val score: 0.76101, in 0.564s\n",
      "[67/20000] 1 tree, 31 leaves, max depth = 11, train score: 0.77801, val score: 0.76108, in 0.577s\n",
      "[68/20000] 1 tree, 31 leaves, max depth = 10, train score: 0.77855, val score: 0.76144, in 0.562s\n",
      "[69/20000] 1 tree, 31 leaves, max depth = 11, train score: 0.77936, val score: 0.76158, in 0.514s\n",
      "[70/20000] 1 tree, 31 leaves, max depth = 12, train score: 0.77964, val score: 0.76179, in 0.507s\n",
      "[71/20000] 1 tree, 31 leaves, max depth = 13, train score: 0.78024, val score: 0.76194, in 0.491s\n",
      "[72/20000] 1 tree, 31 leaves, max depth = 13, train score: 0.78074, val score: 0.76197, in 0.551s\n",
      "[73/20000] 1 tree, 31 leaves, max depth = 12, train score: 0.78091, val score: 0.76230, in 0.652s\n",
      "[74/20000] 1 tree, 31 leaves, max depth = 9, train score: 0.78166, val score: 0.76237, in 0.625s\n",
      "[75/20000] 1 tree, 31 leaves, max depth = 10, train score: 0.78287, val score: 0.76250, in 0.589s\n",
      "[76/20000] 1 tree, 31 leaves, max depth = 10, train score: 0.78364, val score: 0.76254, in 0.546s\n",
      "[77/20000] 1 tree, 31 leaves, max depth = 15, train score: 0.78402, val score: 0.76267, in 0.600s\n",
      "[78/20000] 1 tree, 31 leaves, max depth = 14, train score: 0.78428, val score: 0.76296, in 0.585s\n",
      "[79/20000] 1 tree, 31 leaves, max depth = 12, train score: 0.78437, val score: 0.76308, in 0.549s\n",
      "[80/20000] 1 tree, 31 leaves, max depth = 13, train score: 0.78480, val score: 0.76319, in 0.553s\n",
      "[81/20000] 1 tree, 31 leaves, max depth = 15, train score: 0.78557, val score: 0.76321, in 0.560s\n",
      "[82/20000] 1 tree, 31 leaves, max depth = 12, train score: 0.78727, val score: 0.76340, in 0.445s\n",
      "[83/20000] 1 tree, 31 leaves, max depth = 13, train score: 0.78739, val score: 0.76340, in 0.506s\n"
     ]
    },
    {
     "name": "stdout",
     "output_type": "stream",
     "text": [
      "[84/20000] 1 tree, 31 leaves, max depth = 14, train score: 0.78762, val score: 0.76344, in 0.445s\n",
      "[85/20000] 1 tree, 31 leaves, max depth = 9, train score: 0.78774, val score: 0.76347, in 0.485s\n",
      "[86/20000] 1 tree, 31 leaves, max depth = 12, train score: 0.78839, val score: 0.76345, in 0.402s\n",
      "[87/20000] 1 tree, 31 leaves, max depth = 9, train score: 0.78860, val score: 0.76362, in 0.538s\n",
      "[88/20000] 1 tree, 31 leaves, max depth = 10, train score: 0.78887, val score: 0.76365, in 0.447s\n",
      "[89/20000] 1 tree, 31 leaves, max depth = 12, train score: 0.78960, val score: 0.76375, in 0.428s\n",
      "[90/20000] 1 tree, 31 leaves, max depth = 11, train score: 0.78978, val score: 0.76376, in 0.573s\n",
      "[91/20000] 1 tree, 31 leaves, max depth = 13, train score: 0.79032, val score: 0.76381, in 0.512s\n",
      "[92/20000] 1 tree, 31 leaves, max depth = 9, train score: 0.79097, val score: 0.76373, in 0.534s\n",
      "[93/20000] 1 tree, 31 leaves, max depth = 12, train score: 0.79140, val score: 0.76396, in 0.521s\n",
      "[94/20000] 1 tree, 31 leaves, max depth = 12, train score: 0.79240, val score: 0.76393, in 0.541s\n",
      "[95/20000] 1 tree, 31 leaves, max depth = 13, train score: 0.79298, val score: 0.76400, in 0.518s\n",
      "[96/20000] 1 tree, 31 leaves, max depth = 13, train score: 0.79333, val score: 0.76394, in 0.528s\n",
      "[97/20000] 1 tree, 31 leaves, max depth = 14, train score: 0.79376, val score: 0.76395, in 0.774s\n",
      "[98/20000] 1 tree, 31 leaves, max depth = 10, train score: 0.79424, val score: 0.76398, in 0.553s\n",
      "[99/20000] 1 tree, 31 leaves, max depth = 11, train score: 0.79466, val score: 0.76388, in 0.483s\n",
      "[100/20000] 1 tree, 31 leaves, max depth = 15, train score: 0.79512, val score: 0.76417, in 0.543s\n",
      "[101/20000] 1 tree, 31 leaves, max depth = 12, train score: 0.79511, val score: 0.76414, in 0.502s\n",
      "[102/20000] 1 tree, 31 leaves, max depth = 8, train score: 0.79589, val score: 0.76404, in 0.470s\n",
      "[103/20000] 1 tree, 31 leaves, max depth = 15, train score: 0.79623, val score: 0.76394, in 0.455s\n",
      "[104/20000] 1 tree, 31 leaves, max depth = 10, train score: 0.79649, val score: 0.76393, in 0.532s\n",
      "[105/20000] 1 tree, 31 leaves, max depth = 15, train score: 0.79672, val score: 0.76389, in 0.562s\n",
      "[106/20000] 1 tree, 31 leaves, max depth = 10, train score: 0.79691, val score: 0.76392, in 0.546s\n",
      "[107/20000] 1 tree, 31 leaves, max depth = 13, train score: 0.79778, val score: 0.76394, in 0.562s\n",
      "[108/20000] 1 tree, 31 leaves, max depth = 8, train score: 0.79796, val score: 0.76399, in 0.516s\n",
      "[109/20000] 1 tree, 31 leaves, max depth = 15, train score: 0.79874, val score: 0.76404, in 0.529s\n",
      "[110/20000] 1 tree, 31 leaves, max depth = 8, train score: 0.79950, val score: 0.76405, in 0.513s\n",
      "Fit 110 trees in 71.794 s, (3410 total leaves)\n",
      "Time spent computing histograms: 23.416s\n",
      "Time spent finding best splits:  1.823s\n",
      "Time spent applying splits:      1.471s\n",
      "Time spent predicting:           0.087s\n",
      "CPU times: user 5min 16s, sys: 29.5 s, total: 5min 46s\n",
      "Wall time: 1min 11s\n"
     ]
    }
   ],
   "source": [
    "%%time\n",
    "# Retrained model based on optimised parameters\n",
    "hgb = HistGradientBoostingClassifier(max_depth=15, max_iter = 20_000, scoring = 'roc_auc',verbose = 1)\n",
    "model_hgb = hgb.fit(X_transformed, y)"
   ]
  },
  {
   "cell_type": "code",
   "execution_count": 46,
   "id": "079cbd73",
   "metadata": {
    "ExecuteTime": {
     "end_time": "2021-06-25T11:39:06.507579Z",
     "start_time": "2021-06-25T11:39:06.485262Z"
    }
   },
   "outputs": [],
   "source": [
    "filename = 'finalized_hgb_model.sav'\n",
    "pickle.dump(model_hgb, open(filename, 'wb'))"
   ]
  },
  {
   "cell_type": "code",
   "execution_count": 41,
   "id": "b1df77cf",
   "metadata": {
    "ExecuteTime": {
     "end_time": "2021-06-25T11:02:01.590072Z",
     "start_time": "2021-06-25T11:02:00.918198Z"
    }
   },
   "outputs": [
    {
     "name": "stdout",
     "output_type": "stream",
     "text": [
      "CPU times: user 3.2 s, sys: 381 ms, total: 3.58 s\n",
      "Wall time: 667 ms\n"
     ]
    }
   ],
   "source": [
    "%%time\n",
    "hgb_pred = model_hgb.predict_proba(b)[:,1]"
   ]
  },
  {
   "cell_type": "code",
   "execution_count": 44,
   "id": "9dfef998",
   "metadata": {
    "ExecuteTime": {
     "end_time": "2021-06-25T11:02:55.711821Z",
     "start_time": "2021-06-25T11:02:55.695258Z"
    }
   },
   "outputs": [
    {
     "name": "stdout",
     "output_type": "stream",
     "text": [
      "   SK_ID_CURR    TARGET\n",
      "0      100001  0.067817\n",
      "1      100005  0.196298\n",
      "2      100013  0.020908\n",
      "3      100028  0.033838\n",
      "4      100038  0.145111\n",
      "(48744, 2)\n"
     ]
    },
    {
     "name": "stderr",
     "output_type": "stream",
     "text": [
      "<ipython-input-44-fec20039861a>:2: SettingWithCopyWarning: \n",
      "A value is trying to be set on a copy of a slice from a DataFrame.\n",
      "Try using .loc[row_indexer,col_indexer] = value instead\n",
      "\n",
      "See the caveats in the documentation: https://pandas.pydata.org/pandas-docs/stable/user_guide/indexing.html#returning-a-view-versus-a-copy\n",
      "  submit['TARGET'] = hgb_pred\n"
     ]
    }
   ],
   "source": [
    "submit = df_test[['SK_ID_CURR']]\n",
    "submit['TARGET'] = hgb_pred\n",
    "print(submit.head())\n",
    "print(submit.shape)"
   ]
  },
  {
   "cell_type": "code",
   "execution_count": 45,
   "id": "544cb5d5",
   "metadata": {
    "ExecuteTime": {
     "end_time": "2021-06-25T11:04:05.552389Z",
     "start_time": "2021-06-25T11:04:05.426073Z"
    }
   },
   "outputs": [],
   "source": [
    "submit.to_csv('hgb_hcdr.csv',index=False)"
   ]
  },
  {
   "cell_type": "code",
   "execution_count": null,
   "id": "05061e54",
   "metadata": {},
   "outputs": [],
   "source": []
  },
  {
   "cell_type": "code",
   "execution_count": null,
   "id": "7953ac82",
   "metadata": {},
   "outputs": [],
   "source": []
  },
  {
   "cell_type": "markdown",
   "id": "4b1aee1c",
   "metadata": {},
   "source": [
    "# other work"
   ]
  },
  {
   "cell_type": "code",
   "execution_count": null,
   "id": "e1ca6289",
   "metadata": {
    "ExecuteTime": {
     "end_time": "2021-06-25T11:00:02.893600Z",
     "start_time": "2021-06-25T10:51:24.121Z"
    }
   },
   "outputs": [],
   "source": [
    "# parameters = {\n",
    "#     \"loss\":['auto', 'binary_crossentropy', 'categorical_crossentropy'],\n",
    "#     \"max_iter\": [50,100,150],\n",
    "#     \"min_samples_leaf\": np.linspace(1,5,12),\n",
    "#     \"max_depth\":[8,12,15],\n",
    "#     \"scoring\": ['roc_auc']\n",
    "#     }\n",
    "\n",
    "# clf = GridSearchCV(HistGradientBoostingClassifier(verbose = 1), parameters, cv=3, n_jobs=-1)"
   ]
  },
  {
   "cell_type": "code",
   "execution_count": null,
   "id": "e08a8230",
   "metadata": {
    "ExecuteTime": {
     "end_time": "2021-06-25T11:00:02.894301Z",
     "start_time": "2021-06-25T10:51:24.122Z"
    }
   },
   "outputs": [],
   "source": [
    "# HistGradientBoostingClassifier().get_params().keys()"
   ]
  },
  {
   "cell_type": "code",
   "execution_count": null,
   "id": "8234cdb0",
   "metadata": {
    "ExecuteTime": {
     "end_time": "2021-06-25T11:00:02.894881Z",
     "start_time": "2021-06-25T10:51:24.123Z"
    }
   },
   "outputs": [],
   "source": [
    "# %%time\n",
    "# clf.fit(X_train, y_train)\n",
    "# print(clf.score(X_train, y_train))\n",
    "# print(clf.best_params_)"
   ]
  },
  {
   "cell_type": "code",
   "execution_count": null,
   "id": "7e141771",
   "metadata": {
    "ExecuteTime": {
     "end_time": "2021-06-25T11:00:02.895446Z",
     "start_time": "2021-06-25T10:51:24.124Z"
    }
   },
   "outputs": [],
   "source": [
    "# plot_roc_curve(clf, X_test, y_test)  "
   ]
  },
  {
   "cell_type": "code",
   "execution_count": null,
   "id": "221d5016",
   "metadata": {
    "ExecuteTime": {
     "end_time": "2021-06-25T11:00:02.896098Z",
     "start_time": "2021-06-25T10:51:24.125Z"
    },
    "scrolled": true
   },
   "outputs": [],
   "source": [
    "# plot_precision_recall_curve(clf,X_test,y_test)"
   ]
  },
  {
   "cell_type": "code",
   "execution_count": null,
   "id": "65ecb337",
   "metadata": {
    "ExecuteTime": {
     "end_time": "2021-06-25T11:00:02.896852Z",
     "start_time": "2021-06-25T10:51:24.126Z"
    }
   },
   "outputs": [],
   "source": [
    "# plot_confusion_matrix(clf, X_test, y_test)  \n",
    "# plt.show()  "
   ]
  },
  {
   "cell_type": "code",
   "execution_count": null,
   "id": "1bff8bfa",
   "metadata": {
    "ExecuteTime": {
     "end_time": "2021-06-25T11:00:02.897753Z",
     "start_time": "2021-06-25T10:51:24.127Z"
    }
   },
   "outputs": [],
   "source": [
    "#sklearn wrapper"
   ]
  }
 ],
 "metadata": {
  "kernelspec": {
   "display_name": "Python 3",
   "language": "python",
   "name": "python3"
  },
  "language_info": {
   "codemirror_mode": {
    "name": "ipython",
    "version": 3
   },
   "file_extension": ".py",
   "mimetype": "text/x-python",
   "name": "python",
   "nbconvert_exporter": "python",
   "pygments_lexer": "ipython3",
   "version": "3.8.6"
  },
  "toc": {
   "base_numbering": 1,
   "nav_menu": {},
   "number_sections": true,
   "sideBar": true,
   "skip_h1_title": false,
   "title_cell": "Table of Contents",
   "title_sidebar": "Contents",
   "toc_cell": false,
   "toc_position": {},
   "toc_section_display": true,
   "toc_window_display": true
  },
  "varInspector": {
   "cols": {
    "lenName": 16,
    "lenType": 16,
    "lenVar": 40
   },
   "kernels_config": {
    "python": {
     "delete_cmd_postfix": "",
     "delete_cmd_prefix": "del ",
     "library": "var_list.py",
     "varRefreshCmd": "print(var_dic_list())"
    },
    "r": {
     "delete_cmd_postfix": ") ",
     "delete_cmd_prefix": "rm(",
     "library": "var_list.r",
     "varRefreshCmd": "cat(var_dic_list()) "
    }
   },
   "types_to_exclude": [
    "module",
    "function",
    "builtin_function_or_method",
    "instance",
    "_Feature"
   ],
   "window_display": false
  }
 },
 "nbformat": 4,
 "nbformat_minor": 5
}
