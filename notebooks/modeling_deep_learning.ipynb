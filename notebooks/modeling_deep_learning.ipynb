{
 "cells": [
  {
   "cell_type": "markdown",
   "id": "cc70d3c1",
   "metadata": {},
   "source": [
    "# Lib Imports"
   ]
  },
  {
   "cell_type": "code",
   "execution_count": 1,
   "id": "4ab3f813",
   "metadata": {},
   "outputs": [],
   "source": [
    "import pandas as pd\n",
    "import numpy as np\n",
    "import seaborn as sns\n",
    "import matplotlib.pyplot as plt\n",
    "\n",
    "from hcdr.modeling.preproc import preproc_pipeline\n",
    "from hcdr.data.merged_data import merge_dfs\n",
    "from sklearn.model_selection import train_test_split"
   ]
  },
  {
   "cell_type": "code",
   "execution_count": 2,
   "id": "5b6c536e",
   "metadata": {},
   "outputs": [],
   "source": [
    "from sklearn import set_config; set_config(display='diagram')\n",
    "\n",
    "%load_ext autoreload\n",
    "%autoreload 2"
   ]
  },
  {
   "cell_type": "markdown",
   "id": "50d658e4",
   "metadata": {},
   "source": [
    "# Get Merged df"
   ]
  },
  {
   "cell_type": "code",
   "execution_count": 3,
   "id": "9dbc5cc1",
   "metadata": {
    "scrolled": true
   },
   "outputs": [
    {
     "data": {
      "text/plain": [
       "'Code to create new df_merged df'"
      ]
     },
     "execution_count": 3,
     "metadata": {},
     "output_type": "execute_result"
    }
   ],
   "source": [
    "\"\"\"Code to create new df_merged df\"\"\"\n",
    "# %%time\n",
    "# df_merged = merge_dfs(df_app=\"application_train\", verbose=True)\n",
    "# df_merged_test = merge_dfs(df_app=\"application_test\", verbose=True)"
   ]
  },
  {
   "cell_type": "code",
   "execution_count": 4,
   "id": "0dac4e34",
   "metadata": {},
   "outputs": [],
   "source": [
    "# Use instead of running script to create merged df everytime.\n",
    "\"\"\"Save df_merged\"\"\"\n",
    "df_merged_path = \"../raw_data/df_merged.pkl\"\n",
    "df_merged_test_path = \"../raw_data/df_merged_test.pkl\"\n",
    "\n",
    "# df_merged.to_pickle(df_merged_path)\n",
    "# df_merged_test.to_pickle(df_merged_test_path)\n",
    "\n",
    "\"\"\"Load df_merged\"\"\"\n",
    "df_merged = pd.read_pickle(df_merged_path)\n",
    "df_merged_test = pd.read_pickle(df_merged_test_path)\n"
   ]
  },
  {
   "cell_type": "code",
   "execution_count": 5,
   "id": "a34a4e61",
   "metadata": {},
   "outputs": [],
   "source": [
    "# df_merged = df_merged.replace(to_replace=np.inf,value=np.nan).replace(to_replace=-np.inf,value=np.nan)"
   ]
  },
  {
   "cell_type": "markdown",
   "id": "be3f7804",
   "metadata": {},
   "source": [
    "# X & y"
   ]
  },
  {
   "cell_type": "code",
   "execution_count": 10,
   "id": "9e76ce68",
   "metadata": {},
   "outputs": [],
   "source": [
    "X_train = df_merged.drop(columns=[\"SK_ID_CURR\", \"TARGET\"])\n",
    "y_train = df_merged[\"TARGET\"]\n",
    "\n",
    "X_test = df_merged_test.drop(columns=[\"SK_ID_CURR\"])\n",
    "\n",
    "del df_merged\n",
    "del df_merged_test"
   ]
  },
  {
   "cell_type": "code",
   "execution_count": 11,
   "id": "9f4e50fa",
   "metadata": {},
   "outputs": [],
   "source": [
    "from sklearn.model_selection import train_test_split\n",
    "X_train, X_val, y_train, y_val = train_test_split(X_train, y_train, test_size=0.3)"
   ]
  },
  {
   "cell_type": "markdown",
   "id": "b09f8842",
   "metadata": {},
   "source": [
    "# Preprocess df"
   ]
  },
  {
   "cell_type": "code",
   "execution_count": 12,
   "id": "f1e4f9b6",
   "metadata": {},
   "outputs": [
    {
     "name": "stdout",
     "output_type": "stream",
     "text": [
      "Running preprocessor...\n",
      "scaler_type=standard\n"
     ]
    },
    {
     "data": {
      "text/html": [
       "<style>#sk-c995b0f9-7ef9-4e8a-9b34-f5ae66b0a251 {color: black;background-color: white;}#sk-c995b0f9-7ef9-4e8a-9b34-f5ae66b0a251 pre{padding: 0;}#sk-c995b0f9-7ef9-4e8a-9b34-f5ae66b0a251 div.sk-toggleable {background-color: white;}#sk-c995b0f9-7ef9-4e8a-9b34-f5ae66b0a251 label.sk-toggleable__label {cursor: pointer;display: block;width: 100%;margin-bottom: 0;padding: 0.2em 0.3em;box-sizing: border-box;text-align: center;}#sk-c995b0f9-7ef9-4e8a-9b34-f5ae66b0a251 div.sk-toggleable__content {max-height: 0;max-width: 0;overflow: hidden;text-align: left;background-color: #f0f8ff;}#sk-c995b0f9-7ef9-4e8a-9b34-f5ae66b0a251 div.sk-toggleable__content pre {margin: 0.2em;color: black;border-radius: 0.25em;background-color: #f0f8ff;}#sk-c995b0f9-7ef9-4e8a-9b34-f5ae66b0a251 input.sk-toggleable__control:checked~div.sk-toggleable__content {max-height: 200px;max-width: 100%;overflow: auto;}#sk-c995b0f9-7ef9-4e8a-9b34-f5ae66b0a251 div.sk-estimator input.sk-toggleable__control:checked~label.sk-toggleable__label {background-color: #d4ebff;}#sk-c995b0f9-7ef9-4e8a-9b34-f5ae66b0a251 div.sk-label input.sk-toggleable__control:checked~label.sk-toggleable__label {background-color: #d4ebff;}#sk-c995b0f9-7ef9-4e8a-9b34-f5ae66b0a251 input.sk-hidden--visually {border: 0;clip: rect(1px 1px 1px 1px);clip: rect(1px, 1px, 1px, 1px);height: 1px;margin: -1px;overflow: hidden;padding: 0;position: absolute;width: 1px;}#sk-c995b0f9-7ef9-4e8a-9b34-f5ae66b0a251 div.sk-estimator {font-family: monospace;background-color: #f0f8ff;margin: 0.25em 0.25em;border: 1px dotted black;border-radius: 0.25em;box-sizing: border-box;}#sk-c995b0f9-7ef9-4e8a-9b34-f5ae66b0a251 div.sk-estimator:hover {background-color: #d4ebff;}#sk-c995b0f9-7ef9-4e8a-9b34-f5ae66b0a251 div.sk-parallel-item::after {content: \"\";width: 100%;border-bottom: 1px solid gray;flex-grow: 1;}#sk-c995b0f9-7ef9-4e8a-9b34-f5ae66b0a251 div.sk-label:hover label.sk-toggleable__label {background-color: #d4ebff;}#sk-c995b0f9-7ef9-4e8a-9b34-f5ae66b0a251 div.sk-serial::before {content: \"\";position: absolute;border-left: 1px solid gray;box-sizing: border-box;top: 2em;bottom: 0;left: 50%;}#sk-c995b0f9-7ef9-4e8a-9b34-f5ae66b0a251 div.sk-serial {display: flex;flex-direction: column;align-items: center;background-color: white;}#sk-c995b0f9-7ef9-4e8a-9b34-f5ae66b0a251 div.sk-item {z-index: 1;}#sk-c995b0f9-7ef9-4e8a-9b34-f5ae66b0a251 div.sk-parallel {display: flex;align-items: stretch;justify-content: center;background-color: white;}#sk-c995b0f9-7ef9-4e8a-9b34-f5ae66b0a251 div.sk-parallel-item {display: flex;flex-direction: column;position: relative;background-color: white;}#sk-c995b0f9-7ef9-4e8a-9b34-f5ae66b0a251 div.sk-parallel-item:first-child::after {align-self: flex-end;width: 50%;}#sk-c995b0f9-7ef9-4e8a-9b34-f5ae66b0a251 div.sk-parallel-item:last-child::after {align-self: flex-start;width: 50%;}#sk-c995b0f9-7ef9-4e8a-9b34-f5ae66b0a251 div.sk-parallel-item:only-child::after {width: 0;}#sk-c995b0f9-7ef9-4e8a-9b34-f5ae66b0a251 div.sk-dashed-wrapped {border: 1px dashed gray;margin: 0.2em;box-sizing: border-box;padding-bottom: 0.1em;background-color: white;position: relative;}#sk-c995b0f9-7ef9-4e8a-9b34-f5ae66b0a251 div.sk-label label {font-family: monospace;font-weight: bold;background-color: white;display: inline-block;line-height: 1.2em;}#sk-c995b0f9-7ef9-4e8a-9b34-f5ae66b0a251 div.sk-label-container {position: relative;z-index: 2;text-align: center;}#sk-c995b0f9-7ef9-4e8a-9b34-f5ae66b0a251 div.sk-container {display: inline-block;position: relative;}</style><div id=\"sk-c995b0f9-7ef9-4e8a-9b34-f5ae66b0a251\" class\"sk-top-container\"><div class=\"sk-container\"><div class=\"sk-item sk-dashed-wrapped\"><div class=\"sk-label-container\"><div class=\"sk-label sk-toggleable\"><input class=\"sk-toggleable__control sk-hidden--visually\" id=\"42bb3ac2-af34-43ed-b7f0-8250d18a0dd8\" type=\"checkbox\" ><label class=\"sk-toggleable__label\" for=\"42bb3ac2-af34-43ed-b7f0-8250d18a0dd8\">Pipeline</label><div class=\"sk-toggleable__content\"><pre>Pipeline(steps=[('preprocessor1',\n",
       "                 ColumnTransformer(transformers=[('num_transformer',\n",
       "                                                  Pipeline(steps=[('imputer',\n",
       "                                                                   SimpleImputer())]),\n",
       "                                                  <sklearn.compose._column_transformer.make_column_selector object at 0x7f8a440bdac0>),\n",
       "                                                 ('cat_transformer',\n",
       "                                                  Pipeline(steps=[('imputer',\n",
       "                                                                   SimpleImputer(fill_value='missing',\n",
       "                                                                                 strategy='constant')),\n",
       "                                                                  ('ohe',\n",
       "                                                                   OneHotEncoder(handle_unknown='ignore',\n",
       "                                                                                 sparse=False))]),\n",
       "                                                  <sklearn.compose._column_transformer.make_column_selector object at 0x7f8a440bdfd0>)])),\n",
       "                ('scaler', StandardScaler())])</pre></div></div></div><div class=\"sk-serial\"><div class=\"sk-item sk-dashed-wrapped\"><div class=\"sk-label-container\"><div class=\"sk-label sk-toggleable\"><input class=\"sk-toggleable__control sk-hidden--visually\" id=\"2b818629-fa2b-47a3-82e4-a3551ac11e2a\" type=\"checkbox\" ><label class=\"sk-toggleable__label\" for=\"2b818629-fa2b-47a3-82e4-a3551ac11e2a\">preprocessor1: ColumnTransformer</label><div class=\"sk-toggleable__content\"><pre>ColumnTransformer(transformers=[('num_transformer',\n",
       "                                 Pipeline(steps=[('imputer', SimpleImputer())]),\n",
       "                                 <sklearn.compose._column_transformer.make_column_selector object at 0x7f8a440bdac0>),\n",
       "                                ('cat_transformer',\n",
       "                                 Pipeline(steps=[('imputer',\n",
       "                                                  SimpleImputer(fill_value='missing',\n",
       "                                                                strategy='constant')),\n",
       "                                                 ('ohe',\n",
       "                                                  OneHotEncoder(handle_unknown='ignore',\n",
       "                                                                sparse=False))]),\n",
       "                                 <sklearn.compose._column_transformer.make_column_selector object at 0x7f8a440bdfd0>)])</pre></div></div></div><div class=\"sk-parallel\"><div class=\"sk-parallel-item\"><div class=\"sk-item\"><div class=\"sk-label-container\"><div class=\"sk-label sk-toggleable\"><input class=\"sk-toggleable__control sk-hidden--visually\" id=\"7a984968-26e3-4f46-bb44-40ec3308e2d6\" type=\"checkbox\" ><label class=\"sk-toggleable__label\" for=\"7a984968-26e3-4f46-bb44-40ec3308e2d6\">num_transformer</label><div class=\"sk-toggleable__content\"><pre><sklearn.compose._column_transformer.make_column_selector object at 0x7f8a440bdac0></pre></div></div></div><div class=\"sk-serial\"><div class=\"sk-item\"><div class=\"sk-serial\"><div class=\"sk-item\"><div class=\"sk-estimator sk-toggleable\"><input class=\"sk-toggleable__control sk-hidden--visually\" id=\"cf8c5bef-952e-4bbd-92e8-1570b57022ca\" type=\"checkbox\" ><label class=\"sk-toggleable__label\" for=\"cf8c5bef-952e-4bbd-92e8-1570b57022ca\">SimpleImputer</label><div class=\"sk-toggleable__content\"><pre>SimpleImputer()</pre></div></div></div></div></div></div></div></div><div class=\"sk-parallel-item\"><div class=\"sk-item\"><div class=\"sk-label-container\"><div class=\"sk-label sk-toggleable\"><input class=\"sk-toggleable__control sk-hidden--visually\" id=\"2a4eae44-14eb-493b-9f9b-7837c5866f8d\" type=\"checkbox\" ><label class=\"sk-toggleable__label\" for=\"2a4eae44-14eb-493b-9f9b-7837c5866f8d\">cat_transformer</label><div class=\"sk-toggleable__content\"><pre><sklearn.compose._column_transformer.make_column_selector object at 0x7f8a440bdfd0></pre></div></div></div><div class=\"sk-serial\"><div class=\"sk-item\"><div class=\"sk-serial\"><div class=\"sk-item\"><div class=\"sk-estimator sk-toggleable\"><input class=\"sk-toggleable__control sk-hidden--visually\" id=\"e48b5dd9-d15b-41a4-9ae4-11cbfb4bcf32\" type=\"checkbox\" ><label class=\"sk-toggleable__label\" for=\"e48b5dd9-d15b-41a4-9ae4-11cbfb4bcf32\">SimpleImputer</label><div class=\"sk-toggleable__content\"><pre>SimpleImputer(fill_value='missing', strategy='constant')</pre></div></div></div><div class=\"sk-item\"><div class=\"sk-estimator sk-toggleable\"><input class=\"sk-toggleable__control sk-hidden--visually\" id=\"ed2e8bce-b21c-42bc-a463-54e9d0ef2e7a\" type=\"checkbox\" ><label class=\"sk-toggleable__label\" for=\"ed2e8bce-b21c-42bc-a463-54e9d0ef2e7a\">OneHotEncoder</label><div class=\"sk-toggleable__content\"><pre>OneHotEncoder(handle_unknown='ignore', sparse=False)</pre></div></div></div></div></div></div></div></div></div></div><div class=\"sk-item\"><div class=\"sk-estimator sk-toggleable\"><input class=\"sk-toggleable__control sk-hidden--visually\" id=\"aa6b422b-ba83-4ebd-8e78-b5d75c228490\" type=\"checkbox\" ><label class=\"sk-toggleable__label\" for=\"aa6b422b-ba83-4ebd-8e78-b5d75c228490\">StandardScaler</label><div class=\"sk-toggleable__content\"><pre>StandardScaler()</pre></div></div></div></div></div></div></div>"
      ],
      "text/plain": [
       "Pipeline(steps=[('preprocessor1',\n",
       "                 ColumnTransformer(transformers=[('num_transformer',\n",
       "                                                  Pipeline(steps=[('imputer',\n",
       "                                                                   SimpleImputer())]),\n",
       "                                                  <sklearn.compose._column_transformer.make_column_selector object at 0x7f8a440bdac0>),\n",
       "                                                 ('cat_transformer',\n",
       "                                                  Pipeline(steps=[('imputer',\n",
       "                                                                   SimpleImputer(fill_value='missing',\n",
       "                                                                                 strategy='constant')),\n",
       "                                                                  ('ohe',\n",
       "                                                                   OneHotEncoder(handle_unknown='ignore',\n",
       "                                                                                 sparse=False))]),\n",
       "                                                  <sklearn.compose._column_transformer.make_column_selector object at 0x7f8a440bdfd0>)])),\n",
       "                ('scaler', StandardScaler())])"
      ]
     },
     "execution_count": 12,
     "metadata": {},
     "output_type": "execute_result"
    }
   ],
   "source": [
    "# Use standard scaler for DL:\n",
    "preproc = preproc_pipeline(scaler_type=\"standard\")\n",
    "preproc"
   ]
  },
  {
   "cell_type": "markdown",
   "id": "bb42297a",
   "metadata": {},
   "source": [
    "## fit and transform X"
   ]
  },
  {
   "cell_type": "code",
   "execution_count": 13,
   "id": "64738238",
   "metadata": {
    "scrolled": true
   },
   "outputs": [],
   "source": [
    "preproc.fit(X_train)\n",
    "X_train_xformed = preproc.transform(X_train)\n",
    "del X_train\n",
    "\n",
    "X_val_xformed = preproc.transform(X_val)\n",
    "del X_val\n",
    "\n",
    "X_test_xformed = preproc.transform(X_test)\n",
    "del X_test"
   ]
  },
  {
   "cell_type": "code",
   "execution_count": 14,
   "id": "a3c6cef4",
   "metadata": {},
   "outputs": [],
   "source": [
    "from imblearn.under_sampling import RandomUnderSampler\n",
    "undersample = RandomUnderSampler(sampling_strategy=0.2, replacement=True)\n",
    "X_train_xformed_under, y_train_under = undersample.fit_resample(X_train_xformed, y_train)"
   ]
  },
  {
   "cell_type": "code",
   "execution_count": 15,
   "id": "9909e4ec",
   "metadata": {
    "scrolled": true
   },
   "outputs": [
    {
     "data": {
      "text/plain": [
       "((215257, 691), (104514, 691), (92254, 691))"
      ]
     },
     "execution_count": 15,
     "metadata": {},
     "output_type": "execute_result"
    }
   ],
   "source": [
    "X_train_xformed.shape, X_train_xformed_under.shape, X_val_xformed.shape"
   ]
  },
  {
   "cell_type": "code",
   "execution_count": 16,
   "id": "54248085",
   "metadata": {},
   "outputs": [
    {
     "data": {
      "text/plain": [
       "0    87095\n",
       "1    17419\n",
       "Name: TARGET, dtype: int64"
      ]
     },
     "execution_count": 16,
     "metadata": {},
     "output_type": "execute_result"
    }
   ],
   "source": [
    "y_train_under.value_counts()"
   ]
  },
  {
   "cell_type": "code",
   "execution_count": 17,
   "id": "9d3ab0d0",
   "metadata": {},
   "outputs": [
    {
     "data": {
      "text/plain": [
       "0    0.833333\n",
       "1    0.166667\n",
       "Name: TARGET, dtype: float64"
      ]
     },
     "execution_count": 17,
     "metadata": {},
     "output_type": "execute_result"
    }
   ],
   "source": [
    "y_train_under.value_counts(normalize=True)"
   ]
  },
  {
   "cell_type": "markdown",
   "id": "c4977270",
   "metadata": {},
   "source": [
    "# Model Setup"
   ]
  },
  {
   "cell_type": "code",
   "execution_count": 4,
   "id": "588ac85e",
   "metadata": {},
   "outputs": [],
   "source": [
    "from tensorflow.keras import models\n",
    "from tensorflow.keras import layers\n",
    "import tensorflow as tf"
   ]
  },
  {
   "cell_type": "markdown",
   "id": "bd10657a",
   "metadata": {},
   "source": [
    "Kaggle metric is ROC_AUC."
   ]
  },
  {
   "cell_type": "code",
   "execution_count": 5,
   "id": "eac360dd",
   "metadata": {
    "scrolled": true
   },
   "outputs": [
    {
     "ename": "NameError",
     "evalue": "name 'X_train_xformed' is not defined",
     "output_type": "error",
     "traceback": [
      "\u001b[0;31m---------------------------------------------------------------------------\u001b[0m",
      "\u001b[0;31mNameError\u001b[0m                                 Traceback (most recent call last)",
      "\u001b[0;32m<ipython-input-5-b3677d6bdead>\u001b[0m in \u001b[0;36m<module>\u001b[0;34m\u001b[0m\n\u001b[1;32m     13\u001b[0m     \u001b[0;32mreturn\u001b[0m \u001b[0mmodel\u001b[0m\u001b[0;34m\u001b[0m\u001b[0;34m\u001b[0m\u001b[0m\n\u001b[1;32m     14\u001b[0m \u001b[0;34m\u001b[0m\u001b[0m\n\u001b[0;32m---> 15\u001b[0;31m \u001b[0minput_dim\u001b[0m \u001b[0;34m=\u001b[0m \u001b[0mX_train_xformed\u001b[0m\u001b[0;34m.\u001b[0m\u001b[0mshape\u001b[0m\u001b[0;34m[\u001b[0m\u001b[0;36m1\u001b[0m\u001b[0;34m]\u001b[0m\u001b[0;34m\u001b[0m\u001b[0;34m\u001b[0m\u001b[0m\n\u001b[0m\u001b[1;32m     16\u001b[0m \u001b[0mmodel\u001b[0m \u001b[0;34m=\u001b[0m \u001b[0minitialize_model\u001b[0m\u001b[0;34m(\u001b[0m\u001b[0minput_dim\u001b[0m\u001b[0;34m)\u001b[0m\u001b[0;34m\u001b[0m\u001b[0;34m\u001b[0m\u001b[0m\n\u001b[1;32m     17\u001b[0m \u001b[0mmodel\u001b[0m\u001b[0;34m.\u001b[0m\u001b[0msummary\u001b[0m\u001b[0;34m(\u001b[0m\u001b[0;34m)\u001b[0m\u001b[0;34m\u001b[0m\u001b[0;34m\u001b[0m\u001b[0m\n",
      "\u001b[0;31mNameError\u001b[0m: name 'X_train_xformed' is not defined"
     ]
    }
   ],
   "source": [
    "def initialize_model(input_dim):\n",
    "    \"\"\"\"\"\"\n",
    "    model = models.Sequential()\n",
    "\n",
    "    model.add(layers.Dense(16, activation='relu', input_dim=input_dim))\n",
    "    model.add(layers.Dense(8, activation='relu'))\n",
    "    model.add(layers.Dense(1, activation='sigmoid'))\n",
    "    \n",
    "    ### Model optimization : Optimizer, loss and metric \n",
    "    model.compile(optimizer='adam',\n",
    "                  loss=tf.keras.losses.BinaryCrossentropy(), # \"binary_crossentropy\"\n",
    "                  metrics=[tf.keras.metrics.AUC(), \"accuracy\"]) # \"accuracy\"\n",
    "    return model\n",
    "\n",
    "input_dim = X_train_xformed.shape[1]\n",
    "model = initialize_model(input_dim)\n",
    "model.summary()"
   ]
  },
  {
   "cell_type": "code",
   "execution_count": 20,
   "id": "5876065e",
   "metadata": {},
   "outputs": [],
   "source": [
    "from tensorflow.keras.callbacks import EarlyStopping"
   ]
  },
  {
   "cell_type": "code",
   "execution_count": 22,
   "id": "4f8d633c",
   "metadata": {},
   "outputs": [],
   "source": [
    "es = EarlyStopping(patience=2)"
   ]
  },
  {
   "cell_type": "code",
   "execution_count": 23,
   "id": "44a57dc1",
   "metadata": {
    "scrolled": false
   },
   "outputs": [
    {
     "name": "stdout",
     "output_type": "stream",
     "text": [
      "Epoch 1/1000\n",
      "1634/1634 [==============================] - 15s 9ms/step - loss: 0.4223 - auc: 0.7040 - accuracy: 0.8276 - val_loss: 0.2873 - val_auc: 0.7320 - val_accuracy: 0.9152\n",
      "Epoch 2/1000\n",
      "1634/1634 [==============================] - 5s 3ms/step - loss: 0.3968 - auc: 0.7436 - accuracy: 0.8354 - val_loss: 0.2820 - val_auc: 0.7392 - val_accuracy: 0.9146\n",
      "Epoch 3/1000\n",
      "1634/1634 [==============================] - 5s 3ms/step - loss: 0.3919 - auc: 0.7519 - accuracy: 0.8374 - val_loss: 0.2790 - val_auc: 0.7369 - val_accuracy: 0.9159\n",
      "Epoch 4/1000\n",
      "1634/1634 [==============================] - 4s 3ms/step - loss: 0.3896 - auc: 0.7558 - accuracy: 0.8380 - val_loss: 0.2758 - val_auc: 0.7374 - val_accuracy: 0.9145\n",
      "Epoch 5/1000\n",
      "1634/1634 [==============================] - 4s 3ms/step - loss: 0.3868 - auc: 0.7608 - accuracy: 0.8389 - val_loss: 0.2848 - val_auc: 0.7429 - val_accuracy: 0.9115\n",
      "Epoch 6/1000\n",
      "1634/1634 [==============================] - 4s 3ms/step - loss: 0.3848 - auc: 0.7645 - accuracy: 0.8395 - val_loss: 0.2890 - val_auc: 0.7454 - val_accuracy: 0.9089\n"
     ]
    }
   ],
   "source": [
    "history = model.fit(X_train_xformed_under, y_train_under,\n",
    "                    validation_data=(X_val_xformed, y_val),\n",
    "                    epochs=1_000, \n",
    "                    batch_size=64, \n",
    "                    verbose=1,\n",
    "                    callbacks=[es]\n",
    "                    )"
   ]
  },
  {
   "cell_type": "code",
   "execution_count": 31,
   "id": "886ee492",
   "metadata": {},
   "outputs": [],
   "source": [
    "from pickle import dump\n",
    "from pickle import load"
   ]
  },
  {
   "cell_type": "code",
   "execution_count": 29,
   "id": "21130104",
   "metadata": {},
   "outputs": [],
   "source": [
    "import pickle"
   ]
  },
  {
   "cell_type": "code",
   "execution_count": 30,
   "id": "bb750282",
   "metadata": {},
   "outputs": [],
   "source": [
    "preproc_filepath = \"../modeling/prepocesor.pkl\"\n",
    "dump(preproc, open(preproc_filepath, 'wb'))"
   ]
  },
  {
   "cell_type": "code",
   "execution_count": 33,
   "id": "b6842e27",
   "metadata": {},
   "outputs": [
    {
     "data": {
      "text/html": [
       "<style>#sk-860d2b35-ed6c-4f0b-9e6f-7cef6009c668 {color: black;background-color: white;}#sk-860d2b35-ed6c-4f0b-9e6f-7cef6009c668 pre{padding: 0;}#sk-860d2b35-ed6c-4f0b-9e6f-7cef6009c668 div.sk-toggleable {background-color: white;}#sk-860d2b35-ed6c-4f0b-9e6f-7cef6009c668 label.sk-toggleable__label {cursor: pointer;display: block;width: 100%;margin-bottom: 0;padding: 0.2em 0.3em;box-sizing: border-box;text-align: center;}#sk-860d2b35-ed6c-4f0b-9e6f-7cef6009c668 div.sk-toggleable__content {max-height: 0;max-width: 0;overflow: hidden;text-align: left;background-color: #f0f8ff;}#sk-860d2b35-ed6c-4f0b-9e6f-7cef6009c668 div.sk-toggleable__content pre {margin: 0.2em;color: black;border-radius: 0.25em;background-color: #f0f8ff;}#sk-860d2b35-ed6c-4f0b-9e6f-7cef6009c668 input.sk-toggleable__control:checked~div.sk-toggleable__content {max-height: 200px;max-width: 100%;overflow: auto;}#sk-860d2b35-ed6c-4f0b-9e6f-7cef6009c668 div.sk-estimator input.sk-toggleable__control:checked~label.sk-toggleable__label {background-color: #d4ebff;}#sk-860d2b35-ed6c-4f0b-9e6f-7cef6009c668 div.sk-label input.sk-toggleable__control:checked~label.sk-toggleable__label {background-color: #d4ebff;}#sk-860d2b35-ed6c-4f0b-9e6f-7cef6009c668 input.sk-hidden--visually {border: 0;clip: rect(1px 1px 1px 1px);clip: rect(1px, 1px, 1px, 1px);height: 1px;margin: -1px;overflow: hidden;padding: 0;position: absolute;width: 1px;}#sk-860d2b35-ed6c-4f0b-9e6f-7cef6009c668 div.sk-estimator {font-family: monospace;background-color: #f0f8ff;margin: 0.25em 0.25em;border: 1px dotted black;border-radius: 0.25em;box-sizing: border-box;}#sk-860d2b35-ed6c-4f0b-9e6f-7cef6009c668 div.sk-estimator:hover {background-color: #d4ebff;}#sk-860d2b35-ed6c-4f0b-9e6f-7cef6009c668 div.sk-parallel-item::after {content: \"\";width: 100%;border-bottom: 1px solid gray;flex-grow: 1;}#sk-860d2b35-ed6c-4f0b-9e6f-7cef6009c668 div.sk-label:hover label.sk-toggleable__label {background-color: #d4ebff;}#sk-860d2b35-ed6c-4f0b-9e6f-7cef6009c668 div.sk-serial::before {content: \"\";position: absolute;border-left: 1px solid gray;box-sizing: border-box;top: 2em;bottom: 0;left: 50%;}#sk-860d2b35-ed6c-4f0b-9e6f-7cef6009c668 div.sk-serial {display: flex;flex-direction: column;align-items: center;background-color: white;}#sk-860d2b35-ed6c-4f0b-9e6f-7cef6009c668 div.sk-item {z-index: 1;}#sk-860d2b35-ed6c-4f0b-9e6f-7cef6009c668 div.sk-parallel {display: flex;align-items: stretch;justify-content: center;background-color: white;}#sk-860d2b35-ed6c-4f0b-9e6f-7cef6009c668 div.sk-parallel-item {display: flex;flex-direction: column;position: relative;background-color: white;}#sk-860d2b35-ed6c-4f0b-9e6f-7cef6009c668 div.sk-parallel-item:first-child::after {align-self: flex-end;width: 50%;}#sk-860d2b35-ed6c-4f0b-9e6f-7cef6009c668 div.sk-parallel-item:last-child::after {align-self: flex-start;width: 50%;}#sk-860d2b35-ed6c-4f0b-9e6f-7cef6009c668 div.sk-parallel-item:only-child::after {width: 0;}#sk-860d2b35-ed6c-4f0b-9e6f-7cef6009c668 div.sk-dashed-wrapped {border: 1px dashed gray;margin: 0.2em;box-sizing: border-box;padding-bottom: 0.1em;background-color: white;position: relative;}#sk-860d2b35-ed6c-4f0b-9e6f-7cef6009c668 div.sk-label label {font-family: monospace;font-weight: bold;background-color: white;display: inline-block;line-height: 1.2em;}#sk-860d2b35-ed6c-4f0b-9e6f-7cef6009c668 div.sk-label-container {position: relative;z-index: 2;text-align: center;}#sk-860d2b35-ed6c-4f0b-9e6f-7cef6009c668 div.sk-container {display: inline-block;position: relative;}</style><div id=\"sk-860d2b35-ed6c-4f0b-9e6f-7cef6009c668\" class\"sk-top-container\"><div class=\"sk-container\"><div class=\"sk-item sk-dashed-wrapped\"><div class=\"sk-label-container\"><div class=\"sk-label sk-toggleable\"><input class=\"sk-toggleable__control sk-hidden--visually\" id=\"710a5e66-b834-464b-a4a7-d37f9962f47a\" type=\"checkbox\" ><label class=\"sk-toggleable__label\" for=\"710a5e66-b834-464b-a4a7-d37f9962f47a\">Pipeline</label><div class=\"sk-toggleable__content\"><pre>Pipeline(steps=[('preprocessor1',\n",
       "                 ColumnTransformer(transformers=[('num_transformer',\n",
       "                                                  Pipeline(steps=[('imputer',\n",
       "                                                                   SimpleImputer())]),\n",
       "                                                  <sklearn.compose._column_transformer.make_column_selector object at 0x7f89c164e940>),\n",
       "                                                 ('cat_transformer',\n",
       "                                                  Pipeline(steps=[('imputer',\n",
       "                                                                   SimpleImputer(fill_value='missing',\n",
       "                                                                                 strategy='constant')),\n",
       "                                                                  ('ohe',\n",
       "                                                                   OneHotEncoder(handle_unknown='ignore',\n",
       "                                                                                 sparse=False))]),\n",
       "                                                  <sklearn.compose._column_transformer.make_column_selector object at 0x7f89c164efa0>)])),\n",
       "                ('scaler', StandardScaler())])</pre></div></div></div><div class=\"sk-serial\"><div class=\"sk-item sk-dashed-wrapped\"><div class=\"sk-label-container\"><div class=\"sk-label sk-toggleable\"><input class=\"sk-toggleable__control sk-hidden--visually\" id=\"7090fa49-e6f2-4723-bdb9-86afce6d6854\" type=\"checkbox\" ><label class=\"sk-toggleable__label\" for=\"7090fa49-e6f2-4723-bdb9-86afce6d6854\">preprocessor1: ColumnTransformer</label><div class=\"sk-toggleable__content\"><pre>ColumnTransformer(transformers=[('num_transformer',\n",
       "                                 Pipeline(steps=[('imputer', SimpleImputer())]),\n",
       "                                 <sklearn.compose._column_transformer.make_column_selector object at 0x7f89c164e940>),\n",
       "                                ('cat_transformer',\n",
       "                                 Pipeline(steps=[('imputer',\n",
       "                                                  SimpleImputer(fill_value='missing',\n",
       "                                                                strategy='constant')),\n",
       "                                                 ('ohe',\n",
       "                                                  OneHotEncoder(handle_unknown='ignore',\n",
       "                                                                sparse=False))]),\n",
       "                                 <sklearn.compose._column_transformer.make_column_selector object at 0x7f89c164efa0>)])</pre></div></div></div><div class=\"sk-parallel\"><div class=\"sk-parallel-item\"><div class=\"sk-item\"><div class=\"sk-label-container\"><div class=\"sk-label sk-toggleable\"><input class=\"sk-toggleable__control sk-hidden--visually\" id=\"d3858b67-4001-424e-b07d-c9bc37d3d6af\" type=\"checkbox\" ><label class=\"sk-toggleable__label\" for=\"d3858b67-4001-424e-b07d-c9bc37d3d6af\">num_transformer</label><div class=\"sk-toggleable__content\"><pre><sklearn.compose._column_transformer.make_column_selector object at 0x7f89c164e940></pre></div></div></div><div class=\"sk-serial\"><div class=\"sk-item\"><div class=\"sk-serial\"><div class=\"sk-item\"><div class=\"sk-estimator sk-toggleable\"><input class=\"sk-toggleable__control sk-hidden--visually\" id=\"e4f31a1d-08e2-4448-aa3d-620f3e1ab58c\" type=\"checkbox\" ><label class=\"sk-toggleable__label\" for=\"e4f31a1d-08e2-4448-aa3d-620f3e1ab58c\">SimpleImputer</label><div class=\"sk-toggleable__content\"><pre>SimpleImputer()</pre></div></div></div></div></div></div></div></div><div class=\"sk-parallel-item\"><div class=\"sk-item\"><div class=\"sk-label-container\"><div class=\"sk-label sk-toggleable\"><input class=\"sk-toggleable__control sk-hidden--visually\" id=\"deac42f2-7bdb-48d8-898a-edefacd496cc\" type=\"checkbox\" ><label class=\"sk-toggleable__label\" for=\"deac42f2-7bdb-48d8-898a-edefacd496cc\">cat_transformer</label><div class=\"sk-toggleable__content\"><pre><sklearn.compose._column_transformer.make_column_selector object at 0x7f89c164efa0></pre></div></div></div><div class=\"sk-serial\"><div class=\"sk-item\"><div class=\"sk-serial\"><div class=\"sk-item\"><div class=\"sk-estimator sk-toggleable\"><input class=\"sk-toggleable__control sk-hidden--visually\" id=\"55ca5ce4-a227-490c-ab2f-f14a44f01fa8\" type=\"checkbox\" ><label class=\"sk-toggleable__label\" for=\"55ca5ce4-a227-490c-ab2f-f14a44f01fa8\">SimpleImputer</label><div class=\"sk-toggleable__content\"><pre>SimpleImputer(fill_value='missing', strategy='constant')</pre></div></div></div><div class=\"sk-item\"><div class=\"sk-estimator sk-toggleable\"><input class=\"sk-toggleable__control sk-hidden--visually\" id=\"7fcd5a94-fbe1-48c7-b84b-0b25fcc7af59\" type=\"checkbox\" ><label class=\"sk-toggleable__label\" for=\"7fcd5a94-fbe1-48c7-b84b-0b25fcc7af59\">OneHotEncoder</label><div class=\"sk-toggleable__content\"><pre>OneHotEncoder(handle_unknown='ignore', sparse=False)</pre></div></div></div></div></div></div></div></div></div></div><div class=\"sk-item\"><div class=\"sk-estimator sk-toggleable\"><input class=\"sk-toggleable__control sk-hidden--visually\" id=\"1405eba5-33e8-4bd8-a8d0-7e54025c9616\" type=\"checkbox\" ><label class=\"sk-toggleable__label\" for=\"1405eba5-33e8-4bd8-a8d0-7e54025c9616\">StandardScaler</label><div class=\"sk-toggleable__content\"><pre>StandardScaler()</pre></div></div></div></div></div></div></div>"
      ],
      "text/plain": [
       "Pipeline(steps=[('preprocessor1',\n",
       "                 ColumnTransformer(transformers=[('num_transformer',\n",
       "                                                  Pipeline(steps=[('imputer',\n",
       "                                                                   SimpleImputer())]),\n",
       "                                                  <sklearn.compose._column_transformer.make_column_selector object at 0x7f89c164e940>),\n",
       "                                                 ('cat_transformer',\n",
       "                                                  Pipeline(steps=[('imputer',\n",
       "                                                                   SimpleImputer(fill_value='missing',\n",
       "                                                                                 strategy='constant')),\n",
       "                                                                  ('ohe',\n",
       "                                                                   OneHotEncoder(handle_unknown='ignore',\n",
       "                                                                                 sparse=False))]),\n",
       "                                                  <sklearn.compose._column_transformer.make_column_selector object at 0x7f89c164efa0>)])),\n",
       "                ('scaler', StandardScaler())])"
      ]
     },
     "execution_count": 33,
     "metadata": {},
     "output_type": "execute_result"
    }
   ],
   "source": [
    "load(open(preproc_filepath, 'rb'))"
   ]
  },
  {
   "cell_type": "code",
   "execution_count": null,
   "id": "c774eccf",
   "metadata": {},
   "outputs": [],
   "source": [
    "pd.DataFrame().to_feather()"
   ]
  },
  {
   "cell_type": "code",
   "execution_count": 44,
   "id": "c44d5987",
   "metadata": {},
   "outputs": [
    {
     "name": "stdout",
     "output_type": "stream",
     "text": [
      "WARNING:tensorflow:Compiled the loaded model, but the compiled metrics have yet to be built. `model.compile_metrics` will be empty until you train or evaluate the model.\n",
      "INFO:tensorflow:Assets written to: ../modeling/tf_model/assets\n"
     ]
    }
   ],
   "source": [
    "model_path = \"../modeling/tf_model\"\n",
    "model.save(filepath=model_path)"
   ]
  },
  {
   "cell_type": "code",
   "execution_count": 45,
   "id": "51190871",
   "metadata": {},
   "outputs": [
    {
     "name": "stdout",
     "output_type": "stream",
     "text": [
      "WARNING:tensorflow:No training configuration found in save file, so the model was *not* compiled. Compile it manually.\n"
     ]
    }
   ],
   "source": [
    "loaded_model = tf.keras.models.load_model(model_path)"
   ]
  },
  {
   "cell_type": "code",
   "execution_count": null,
   "id": "f2b1aed6",
   "metadata": {},
   "outputs": [],
   "source": []
  },
  {
   "cell_type": "code",
   "execution_count": 27,
   "id": "3c15d776",
   "metadata": {},
   "outputs": [
    {
     "data": {
      "text/plain": [
       "array([[0.48013777],\n",
       "       [0.09331658],\n",
       "       [0.46074903],\n",
       "       ...,\n",
       "       [0.05221599],\n",
       "       [0.19670162],\n",
       "       [0.2729097 ]], dtype=float32)"
      ]
     },
     "execution_count": 27,
     "metadata": {},
     "output_type": "execute_result"
    }
   ],
   "source": [
    "loaded_model.predict(X_val_xformed)"
   ]
  },
  {
   "cell_type": "code",
   "execution_count": 84,
   "id": "b0e64a23",
   "metadata": {},
   "outputs": [
    {
     "data": {
      "image/png": "[encoded data removed]",
      "text/plain": [
       "<Figure size 432x288 with 1 Axes>"
      ]
     },
     "metadata": {
      "needs_background": "light"
     },
     "output_type": "display_data"
    }
   ],
   "source": [
    "def plot_history(history):\n",
    "    plt.plot(history.history['loss'])\n",
    "    plt.title('Model loss')\n",
    "    plt.ylabel('Loss')\n",
    "    plt.xlabel('Epoch')\n",
    "    plt.show()\n",
    "\n",
    "plot_history(history)"
   ]
  },
  {
   "cell_type": "markdown",
   "id": "2d86acb9",
   "metadata": {},
   "source": [
    "Baseline ROC_AUC = 0.5"
   ]
  },
  {
   "cell_type": "code",
   "execution_count": 15,
   "id": "2fab3b65",
   "metadata": {},
   "outputs": [],
   "source": [
    "from sklearn.metrics import roc_auc_score"
   ]
  },
  {
   "cell_type": "code",
   "execution_count": 85,
   "id": "f2b2bcd7",
   "metadata": {},
   "outputs": [
    {
     "data": {
      "text/plain": [
       "0.7367952898918037"
      ]
     },
     "execution_count": 85,
     "metadata": {},
     "output_type": "execute_result"
    }
   ],
   "source": [
    "y_prob = model.predict(X_val_xformed)\n",
    "roc_auc = roc_auc_score(y_val, y_prob)\n",
    "roc_auc"
   ]
  },
  {
   "cell_type": "markdown",
   "id": "488d9cd3",
   "metadata": {},
   "source": [
    "Baseline Accuracy:"
   ]
  },
  {
   "cell_type": "code",
   "execution_count": 86,
   "id": "7b814b86",
   "metadata": {},
   "outputs": [
    {
     "data": {
      "text/plain": [
       "0    0.833333\n",
       "1    0.166667\n",
       "Name: TARGET, dtype: float64"
      ]
     },
     "execution_count": 86,
     "metadata": {},
     "output_type": "execute_result"
    }
   ],
   "source": [
    "y_train_under.value_counts(normalize=True)"
   ]
  },
  {
   "cell_type": "code",
   "execution_count": 87,
   "id": "c971434f",
   "metadata": {},
   "outputs": [
    {
     "data": {
      "text/plain": [
       "3989"
      ]
     },
     "execution_count": 87,
     "metadata": {},
     "output_type": "execute_result"
    }
   ],
   "source": [
    "(y_prob>0.5).sum()"
   ]
  },
  {
   "cell_type": "code",
   "execution_count": 88,
   "id": "45257ff5",
   "metadata": {
    "scrolled": true
   },
   "outputs": [
    {
     "data": {
      "text/plain": [
       "Text(0.5, 1.0, 'Precision-Recall Curve')"
      ]
     },
     "execution_count": 88,
     "metadata": {},
     "output_type": "execute_result"
    },
    {
     "data": {
      "image/png": "[encoded data removed]",
      "text/plain": [
       "<Figure size 432x288 with 1 Axes>"
      ]
     },
     "metadata": {
      "needs_background": "light"
     },
     "output_type": "display_data"
    }
   ],
   "source": [
    "# Plot Precision-Recall curve using sklearn.\n",
    "from sklearn.metrics import precision_recall_curve\n",
    "precision, recall, treshold = precision_recall_curve(y_val, y_prob)\n",
    "  \n",
    "# Plot the output.\n",
    "plt.plot(treshold, precision[:-1], c ='r', label ='PRECISION')\n",
    "plt.plot(treshold, recall[:-1], c ='b', label ='RECALL')\n",
    "plt.grid()\n",
    "plt.legend()\n",
    "plt.title('Precision-Recall Curve')\n"
   ]
  },
  {
   "cell_type": "markdown",
   "id": "874c9d9d",
   "metadata": {},
   "source": [
    "# Modeling from Package:"
   ]
  },
  {
   "cell_type": "code",
   "execution_count": 49,
   "id": "e4b40bdb",
   "metadata": {},
   "outputs": [],
   "source": [
    "from hcdr.modeling.deep_learning import preprocess_data, train_model"
   ]
  },
  {
   "cell_type": "code",
   "execution_count": 50,
   "id": "ac091d50",
   "metadata": {},
   "outputs": [
    {
     "name": "stdout",
     "output_type": "stream",
     "text": [
      "The autoreload extension is already loaded. To reload it, use:\n",
      "  %reload_ext autoreload\n"
     ]
    }
   ],
   "source": [
    "%load_ext autoreload\n",
    "%autoreload 2"
   ]
  },
  {
   "cell_type": "code",
   "execution_count": 2,
   "id": "f1f86049",
   "metadata": {
    "scrolled": false
   },
   "outputs": [
    {
     "name": "stdout",
     "output_type": "stream",
     "text": [
      "LOADING TRAIN DATA\n",
      "SPLITTING MERGED DF INTO X and Y...\n",
      "DELETING MERGED DF FROM MEMORY...\n",
      "save y_train\n",
      "Creating the preprocessor...\n",
      "Running preprocessor...\n",
      "scaler_type=standard\n",
      "Fitting the preprocessor...\n",
      "Transforming X_train thru fitted pre_processor AND deleting original X_train var...\n",
      "save X_train\n",
      "LOADING TEST DATA\n",
      "Transforming X_test thru fitted pre_processor AND deleting original X_test var...\n",
      "CPU times: user 2min 5s, sys: 2min 41s, total: 4min 47s\n",
      "Wall time: 8min 12s\n"
     ]
    }
   ],
   "source": [
    "%%time\n",
    "preprocess_data()"
   ]
  },
  {
   "cell_type": "code",
   "execution_count": 3,
   "id": "83fefc72",
   "metadata": {},
   "outputs": [],
   "source": [
    "import pandas as pd"
   ]
  },
  {
   "cell_type": "code",
   "execution_count": 6,
   "id": "dca5af34",
   "metadata": {},
   "outputs": [],
   "source": [
    "path_X_train = \"../modeling/X_train_xformed.pkl\"\n",
    "path_y_train = \"../modeling/y_train.pkl\"\n",
    "X_train = pd.read_pickle(path_X_train)\n",
    "y_train = pd.read_pickle(path_y_train)\n"
   ]
  },
  {
   "cell_type": "code",
   "execution_count": null,
   "id": "8f5f6877",
   "metadata": {},
   "outputs": [],
   "source": []
  },
  {
   "cell_type": "code",
   "execution_count": 8,
   "id": "e5f3e937",
   "metadata": {
    "scrolled": true
   },
   "outputs": [
    {
     "name": "stdout",
     "output_type": "stream",
     "text": [
      "Model: \"sequential_1\"\n",
      "_________________________________________________________________\n",
      "Layer (type)                 Output Shape              Param #   \n",
      "=================================================================\n",
      "dense_3 (Dense)              (None, 16)                11072     \n",
      "_________________________________________________________________\n",
      "dense_4 (Dense)              (None, 8)                 136       \n",
      "_________________________________________________________________\n",
      "dense_5 (Dense)              (None, 1)                 9         \n",
      "=================================================================\n",
      "Total params: 11,217\n",
      "Trainable params: 11,217\n",
      "Non-trainable params: 0\n",
      "_________________________________________________________________\n"
     ]
    }
   ],
   "source": [
    "def initialize_model(input_dim):\n",
    "    \"\"\"\"\"\"\n",
    "    model = models.Sequential()\n",
    "\n",
    "    model.add(layers.Dense(16, activation='relu', input_dim=input_dim))\n",
    "    model.add(layers.Dense(8, activation='relu'))\n",
    "    model.add(layers.Dense(1, activation='sigmoid'))\n",
    "    \n",
    "    ### Model optimization : Optimizer, loss and metric \n",
    "    model.compile(optimizer='adam',\n",
    "                  loss=tf.keras.losses.BinaryCrossentropy(), # \"binary_crossentropy\"\n",
    "                  metrics=[tf.keras.metrics.AUC(), \"accuracy\"]) # \"accuracy\"\n",
    "    return model\n",
    "\n",
    "input_dim = X_train.shape[1]\n",
    "model = initialize_model(input_dim)\n",
    "model.summary()"
   ]
  },
  {
   "cell_type": "code",
   "execution_count": null,
   "id": "c753b386",
   "metadata": {},
   "outputs": [],
   "source": [
    "model.fit()"
   ]
  },
  {
   "cell_type": "code",
   "execution_count": null,
   "id": "31f8ad0d",
   "metadata": {},
   "outputs": [],
   "source": []
  },
  {
   "cell_type": "code",
   "execution_count": null,
   "id": "0a0718f0",
   "metadata": {},
   "outputs": [],
   "source": []
  },
  {
   "cell_type": "code",
   "execution_count": null,
   "id": "523fe6a4",
   "metadata": {},
   "outputs": [],
   "source": []
  },
  {
   "cell_type": "code",
   "execution_count": 61,
   "id": "f1226795",
   "metadata": {},
   "outputs": [],
   "source": [
    "from hcdr.modeling.deep_learning import preprocess_data, train_model, initialize_model"
   ]
  },
  {
   "cell_type": "code",
   "execution_count": 62,
   "id": "4817d926",
   "metadata": {},
   "outputs": [
    {
     "name": "stdout",
     "output_type": "stream",
     "text": [
      "The autoreload extension is already loaded. To reload it, use:\n",
      "  %reload_ext autoreload\n"
     ]
    }
   ],
   "source": [
    "# from hcdr.modeling.deep_learning import preprocess_data, train_model, initialize_model\n",
    "%load_ext autoreload\n",
    "%autoreload 2"
   ]
  },
  {
   "cell_type": "code",
   "execution_count": 36,
   "id": "e16284e4",
   "metadata": {},
   "outputs": [
    {
     "name": "stdout",
     "output_type": "stream",
     "text": [
      "Loading saved X_train and y_train\n",
      "Epoch 1/1000\n",
      "3364/3364 [==============================] - 28s 8ms/step - loss: 0.2707 - auc_8: 0.7017 - accuracy: 0.9174 - val_loss: 0.2554 - val_auc_8: 0.7255 - val_accuracy: 0.9204\n",
      "Epoch 2/1000\n",
      "3364/3364 [==============================] - 8s 2ms/step - loss: 0.2554 - auc_8: 0.7357 - accuracy: 0.9187 - val_loss: 0.2500 - val_auc_8: 0.7406 - val_accuracy: 0.9205\n",
      "Epoch 3/1000\n",
      "3364/3364 [==============================] - 9s 3ms/step - loss: 0.2523 - auc_8: 0.7432 - accuracy: 0.9187 - val_loss: 0.2492 - val_auc_8: 0.7438 - val_accuracy: 0.9204\n",
      "Epoch 4/1000\n",
      "3364/3364 [==============================] - 8s 2ms/step - loss: 0.2504 - auc_8: 0.7496 - accuracy: 0.9187 - val_loss: 0.2476 - val_auc_8: 0.7502 - val_accuracy: 0.9205\n",
      "Epoch 5/1000\n",
      "3364/3364 [==============================] - 8s 2ms/step - loss: 0.2492 - auc_8: 0.7533 - accuracy: 0.9187 - val_loss: 0.2483 - val_auc_8: 0.7460 - val_accuracy: 0.9204\n",
      "Epoch 6/1000\n",
      "3364/3364 [==============================] - 8s 2ms/step - loss: 0.2480 - auc_8: 0.7568 - accuracy: 0.9188 - val_loss: 0.2483 - val_auc_8: 0.7480 - val_accuracy: 0.9204\n",
      "Epoch 7/1000\n",
      "3364/3364 [==============================] - 7s 2ms/step - loss: 0.2472 - auc_8: 0.7603 - accuracy: 0.9187 - val_loss: 0.2485 - val_auc_8: 0.7461 - val_accuracy: 0.9205\n",
      "Epoch 8/1000\n",
      "3364/3364 [==============================] - 7s 2ms/step - loss: 0.2465 - auc_8: 0.7624 - accuracy: 0.9188 - val_loss: 0.2485 - val_auc_8: 0.7472 - val_accuracy: 0.9204\n",
      "Epoch 9/1000\n",
      "3364/3364 [==============================] - 7s 2ms/step - loss: 0.2456 - auc_8: 0.7653 - accuracy: 0.9187 - val_loss: 0.2484 - val_auc_8: 0.7482 - val_accuracy: 0.9205\n",
      "INFO:tensorflow:Assets written to: ../modeling/tf_model/assets\n"
     ]
    }
   ],
   "source": [
    "history = train_model(pre_split=False, validation_split=0.3, undersampling=False)"
   ]
  },
  {
   "cell_type": "code",
   "execution_count": 48,
   "id": "8ba227d8",
   "metadata": {},
   "outputs": [
    {
     "name": "stdout",
     "output_type": "stream",
     "text": [
      "Model: \"sequential_10\"\n",
      "_________________________________________________________________\n",
      "Layer (type)                 Output Shape              Param #   \n",
      "=================================================================\n",
      "dense_35 (Dense)             (None, 32)                64        \n",
      "_________________________________________________________________\n",
      "dense_36 (Dense)             (None, 16)                528       \n",
      "_________________________________________________________________\n",
      "dense_37 (Dense)             (None, 8)                 136       \n",
      "_________________________________________________________________\n",
      "dense_38 (Dense)             (None, 4)                 36        \n",
      "_________________________________________________________________\n",
      "dense_39 (Dense)             (None, 2)                 10        \n",
      "=================================================================\n",
      "Total params: 774\n",
      "Trainable params: 774\n",
      "Non-trainable params: 0\n",
      "_________________________________________________________________\n"
     ]
    }
   ],
   "source": [
    "model.summary()"
   ]
  },
  {
   "cell_type": "code",
   "execution_count": null,
   "id": "36e44dde",
   "metadata": {},
   "outputs": [],
   "source": []
  },
  {
   "cell_type": "code",
   "execution_count": 47,
   "id": "b1ec4b53",
   "metadata": {},
   "outputs": [
    {
     "data": {
      "text/plain": [
       "0.748184084892273"
      ]
     },
     "execution_count": 47,
     "metadata": {},
     "output_type": "execute_result"
    }
   ],
   "source": [
    "history.history[\"val_auc_8\"][-1]"
   ]
  },
  {
   "cell_type": "code",
   "execution_count": null,
   "id": "1b34c55f",
   "metadata": {},
   "outputs": [],
   "source": [
    "# Plot Precision-Recall curve using sklearn.\n",
    "from sklearn.metrics import precision_recall_curve\n",
    "precision, recall, treshold = precision_recall_curve(y_val, y_prob)\n",
    "  \n",
    "# Plot the output.\n",
    "plt.plot(treshold, precision[:-1], c ='r', label ='PRECISION')\n",
    "plt.plot(treshold, recall[:-1], c ='b', label ='RECALL')\n",
    "plt.grid()\n",
    "plt.legend()\n",
    "plt.title('Precision-Recall Curve')\n"
   ]
  },
  {
   "cell_type": "code",
   "execution_count": null,
   "id": "071c79cd",
   "metadata": {},
   "outputs": [],
   "source": []
  },
  {
   "cell_type": "code",
   "execution_count": null,
   "id": "e0a963b9",
   "metadata": {},
   "outputs": [],
   "source": []
  },
  {
   "cell_type": "code",
   "execution_count": 41,
   "id": "9bb4a2e4",
   "metadata": {},
   "outputs": [
    {
     "ename": "NameError",
     "evalue": "name 'input_dim' is not defined",
     "output_type": "error",
     "traceback": [
      "\u001b[0;31m---------------------------------------------------------------------------\u001b[0m",
      "\u001b[0;31mNameError\u001b[0m                                 Traceback (most recent call last)",
      "\u001b[0;32m<ipython-input-41-7864a30d8289>\u001b[0m in \u001b[0;36m<module>\u001b[0;34m\u001b[0m\n\u001b[0;32m----> 1\u001b[0;31m \u001b[0mlayers\u001b[0m\u001b[0;34m.\u001b[0m\u001b[0mDense\u001b[0m\u001b[0;34m(\u001b[0m\u001b[0mneurons\u001b[0m\u001b[0;34m,\u001b[0m \u001b[0mactivation\u001b[0m\u001b[0;34m=\u001b[0m\u001b[0;34m'relu'\u001b[0m\u001b[0;34m,\u001b[0m \u001b[0minput_dim\u001b[0m\u001b[0;34m=\u001b[0m\u001b[0minput_dim\u001b[0m\u001b[0;34m,\u001b[0m \u001b[0mkernel_regularizer\u001b[0m\u001b[0;34m=\u001b[0m\u001b[0mtf\u001b[0m\u001b[0;34m.\u001b[0m\u001b[0mkeras\u001b[0m\u001b[0;34m.\u001b[0m\u001b[0mregularizers\u001b[0m\u001b[0;34m.\u001b[0m\u001b[0ml2\u001b[0m\u001b[0;34m(\u001b[0m\u001b[0ml2\u001b[0m\u001b[0;34m=\u001b[0m\u001b[0;36m0.01\u001b[0m\u001b[0;34m)\u001b[0m\u001b[0;34m,\u001b[0m \u001b[0mkernel_initializer\u001b[0m\u001b[0;34m=\u001b[0m\u001b[0;34m\"he_normal\"\u001b[0m\u001b[0;34m)\u001b[0m\u001b[0;34m\u001b[0m\u001b[0;34m\u001b[0m\u001b[0m\n\u001b[0m\u001b[1;32m      2\u001b[0m \u001b[0mtf\u001b[0m\u001b[0;34m.\u001b[0m\u001b[0mkeras\u001b[0m\u001b[0;34m.\u001b[0m\u001b[0moptimizer\u001b[0m\u001b[0;34m.\u001b[0m\u001b[0mAdam\u001b[0m\u001b[0;34m(\u001b[0m\u001b[0;34m)\u001b[0m\u001b[0;34m\u001b[0m\u001b[0;34m\u001b[0m\u001b[0m\n",
      "\u001b[0;31mNameError\u001b[0m: name 'input_dim' is not defined"
     ]
    }
   ],
   "source": [
    "layers.Dense(neurons, activation='relu', input_dim=input_dim, kernel_regularizer=tf.keras.regularizers.l2(l2=0.01), kernel_initializer=\"he_normal\")\n",
    "rlrp = tf.keras.callbacks.ReduceLROnPlateau(monitor='val_loss',\n",
    "                                        factor=0.1,\n",
    "                                        patience=10)"
   ]
  },
  {
   "cell_type": "code",
   "execution_count": 42,
   "id": "7550d91e",
   "metadata": {},
   "outputs": [
    {
     "name": "stdout",
     "output_type": "stream",
     "text": [
      "added layer 0 with 16 neurons. input_dim=1\n",
      "added layer 1 with 32 neurons.\n",
      "added layer 2 with 8 neurons.\n",
      "added layer 3 with 8 neurons.\n"
     ]
    },
    {
     "data": {
      "text/plain": [
       "<tensorflow.python.keras.engine.sequential.Sequential at 0x7f1da03ea700>"
      ]
     },
     "execution_count": 42,
     "metadata": {},
     "output_type": "execute_result"
    }
   ],
   "source": [
    "def initialize_model(neurons_list, input_dim=1):\n",
    "    \"\"\"\"\"\"\n",
    "    model = models.Sequential()\n",
    "    \n",
    "    for i, neurons in enumerate(neurons_list):\n",
    "        if i==0:\n",
    "            model.add(layers.Dense(neurons, activation='relu',\n",
    "                                   input_dim=input_dim,\n",
    "                                   kernel_regularizer=tf.keras.regularizers.l2(l2=0.01), # regularizes the learning rate\n",
    "                                   kernel_initializer=\"he_normal\")) # how the initial weights are randomly generated\n",
    "            \n",
    "            print(f\"added layer {i} with {neurons} neurons. input_dim={input_dim}\")\n",
    "            continue\n",
    "        else:\n",
    "            model.add(layers.Dense(neurons, activation='relu'))\n",
    "            print(f\"added layer {i} with {neurons} neurons.\")\n",
    "    \n",
    "    model.add(layers.Dense(1, activation='sigmoid'))\n",
    "    \n",
    "    ### Model optimization : Optimizer, loss and metric \n",
    "    model.compile(optimizer=tf.keras.optimizers.Adam(learning_rate=0.001),\n",
    "                  loss=tf.keras.losses.BinaryCrossentropy(), # \"binary_crossentropy\"\n",
    "                  metrics=[tf.keras.metrics.AUC(), \"accuracy\"]) # \"accuracy\"\n",
    "    return model\n",
    "\n",
    "initialize_model(neurons_list, input_dim=1)"
   ]
  },
  {
   "cell_type": "code",
   "execution_count": 25,
   "id": "fb5b8861",
   "metadata": {},
   "outputs": [
    {
     "data": {
      "text/plain": [
       "[32, 16, 8, 4, 2]"
      ]
     },
     "execution_count": 25,
     "metadata": {},
     "output_type": "execute_result"
    }
   ],
   "source": [
    "neurons_list = [32, 16, 8, 4, 2]\n",
    "neurons_list"
   ]
  },
  {
   "cell_type": "code",
   "execution_count": 13,
   "id": "982f99c9",
   "metadata": {},
   "outputs": [],
   "source": [
    "import numpy as np\n",
    "from tensorflow.keras import models\n",
    "from tensorflow.keras import layers\n",
    "import tensorflow as tf"
   ]
  },
  {
   "cell_type": "code",
   "execution_count": 34,
   "id": "338720ad",
   "metadata": {},
   "outputs": [],
   "source": [
    "dict_of_models_neurons_list = {\"model_1\": [16],\n",
    "\"model_2\": [32, 8, 2],\n",
    "\"model_3\": [16, 16, 16, 4],\n",
    "\"model_4\": [64, 2],\n",
    "\"model_5\": [16, 32, 8, 8]\n",
    "}"
   ]
  },
  {
   "cell_type": "code",
   "execution_count": 35,
   "id": "05a049d8",
   "metadata": {},
   "outputs": [
    {
     "name": "stdout",
     "output_type": "stream",
     "text": [
      "added layer 0 with 16 neurons. input_dim=1\n",
      "added layer 0 with 32 neurons. input_dim=1\n",
      "added layer 1 with 8 neurons.\n",
      "added layer 2 with 2 neurons.\n",
      "added layer 0 with 16 neurons. input_dim=1\n",
      "added layer 1 with 16 neurons.\n",
      "added layer 2 with 16 neurons.\n",
      "added layer 3 with 4 neurons.\n",
      "added layer 0 with 64 neurons. input_dim=1\n",
      "added layer 1 with 2 neurons.\n",
      "added layer 0 with 16 neurons. input_dim=1\n",
      "added layer 1 with 32 neurons.\n",
      "added layer 2 with 8 neurons.\n",
      "added layer 3 with 8 neurons.\n"
     ]
    }
   ],
   "source": [
    "dict_models = {}\n",
    "for key, neurons_list in dict_of_models_neurons_list.items():\n",
    "    dict_models[key] = initialize_model(neurons_list, input_dim=1)"
   ]
  },
  {
   "cell_type": "code",
   "execution_count": 66,
   "id": "cd05961c",
   "metadata": {},
   "outputs": [],
   "source": [
    "import pandas as pd\n",
    "from sklearn.model_selection import train_test_split\n",
    "from tensorflow.keras.callbacks import EarlyStopping, ReduceLROnPlateau\n",
    "from tensorflow.keras import models\n",
    "from tensorflow.keras import layers\n",
    "import tensorflow as tf\n"
   ]
  },
  {
   "cell_type": "code",
   "execution_count": 57,
   "id": "cb793218",
   "metadata": {},
   "outputs": [],
   "source": [
    "path_X_train = \"../modeling/X_train_xformed.pkl\"\n",
    "path_y_train = \"../modeling/y_train.pkl\"\n",
    "\n",
    "X_train = pd.read_pickle(path_X_train)\n",
    "y_train = pd.read_pickle(path_y_train)\n",
    "\n",
    "X_train, X_test_model, y_train, y_test_model = train_test_split(X_train, y_train, test_size=0.2)\n",
    "X_train, X_val, y_train, y_val = train_test_split(X_train, y_train, test_size=0.3)\n",
    "validation_data=(X_val, y_val)\n",
    "del X_val\n",
    "del y_val"
   ]
  },
  {
   "cell_type": "code",
   "execution_count": 67,
   "id": "3e1e99e6",
   "metadata": {
    "collapsed": true
   },
   "outputs": [
    {
     "name": "stdout",
     "output_type": "stream",
     "text": [
      "added layer 0 with 16 neurons. input_dim=691\n",
      "added layer 1 with 8 neurons.\n",
      "Epoch 1/1000\n",
      "2691/2691 [==============================] - 21s 5ms/step - loss: 0.3067 - auc_12: 0.6885 - accuracy: 0.9165 - val_loss: 0.2661 - val_auc_12: 0.7133 - val_accuracy: 0.9206\n",
      "Epoch 2/1000\n",
      "2691/2691 [==============================] - 6s 2ms/step - loss: 0.2687 - auc_12: 0.7178 - accuracy: 0.9188 - val_loss: 0.2662 - val_auc_12: 0.7106 - val_accuracy: 0.9206\n",
      "Epoch 3/1000\n",
      "2691/2691 [==============================] - 5s 2ms/step - loss: 0.2676 - auc_12: 0.7187 - accuracy: 0.9188 - val_loss: 0.2634 - val_auc_12: 0.7236 - val_accuracy: 0.9206\n",
      "Epoch 4/1000\n",
      "2691/2691 [==============================] - 5s 2ms/step - loss: 0.2660 - auc_12: 0.7240 - accuracy: 0.9188 - val_loss: 0.2626 - val_auc_12: 0.7201 - val_accuracy: 0.9206\n",
      "Epoch 5/1000\n",
      "2691/2691 [==============================] - 5s 2ms/step - loss: 0.2652 - auc_12: 0.7255 - accuracy: 0.9188 - val_loss: 0.2643 - val_auc_12: 0.7109 - val_accuracy: 0.9206\n",
      "Epoch 6/1000\n",
      "2691/2691 [==============================] - 5s 2ms/step - loss: 0.2643 - auc_12: 0.7268 - accuracy: 0.9188 - val_loss: 0.2599 - val_auc_12: 0.7305 - val_accuracy: 0.9206\n",
      "Epoch 7/1000\n",
      "2691/2691 [==============================] - 5s 2ms/step - loss: 0.2641 - auc_12: 0.7270 - accuracy: 0.9188 - val_loss: 0.2595 - val_auc_12: 0.7279 - val_accuracy: 0.9206\n",
      "Epoch 8/1000\n",
      "2691/2691 [==============================] - 5s 2ms/step - loss: 0.2631 - auc_12: 0.7292 - accuracy: 0.9188 - val_loss: 0.2617 - val_auc_12: 0.7213 - val_accuracy: 0.9206\n",
      "Epoch 9/1000\n",
      "2691/2691 [==============================] - 5s 2ms/step - loss: 0.2624 - auc_12: 0.7299 - accuracy: 0.9188 - val_loss: 0.2581 - val_auc_12: 0.7335 - val_accuracy: 0.9206\n",
      "Epoch 10/1000\n",
      "2691/2691 [==============================] - 5s 2ms/step - loss: 0.2619 - auc_12: 0.7314 - accuracy: 0.9188 - val_loss: 0.2585 - val_auc_12: 0.7291 - val_accuracy: 0.9206\n",
      "Epoch 11/1000\n",
      "2691/2691 [==============================] - 5s 2ms/step - loss: 0.2617 - auc_12: 0.7317 - accuracy: 0.9188 - val_loss: 0.2586 - val_auc_12: 0.7321 - val_accuracy: 0.9206\n",
      "Epoch 12/1000\n",
      "2691/2691 [==============================] - 5s 2ms/step - loss: 0.2618 - auc_12: 0.7306 - accuracy: 0.9188 - val_loss: 0.2578 - val_auc_12: 0.7319 - val_accuracy: 0.9206\n",
      "Epoch 13/1000\n",
      "2691/2691 [==============================] - 5s 2ms/step - loss: 0.2611 - auc_12: 0.7329 - accuracy: 0.9188 - val_loss: 0.2588 - val_auc_12: 0.7264 - val_accuracy: 0.9206\n",
      "Epoch 14/1000\n",
      "2691/2691 [==============================] - 5s 2ms/step - loss: 0.2613 - auc_12: 0.7323 - accuracy: 0.9188 - val_loss: 0.2575 - val_auc_12: 0.7362 - val_accuracy: 0.9206\n",
      "Epoch 15/1000\n",
      "2691/2691 [==============================] - 5s 2ms/step - loss: 0.2608 - auc_12: 0.7346 - accuracy: 0.9188 - val_loss: 0.2573 - val_auc_12: 0.7306 - val_accuracy: 0.9206\n",
      "Epoch 16/1000\n",
      "2691/2691 [==============================] - 5s 2ms/step - loss: 0.2605 - auc_12: 0.7344 - accuracy: 0.9188 - val_loss: 0.2577 - val_auc_12: 0.7319 - val_accuracy: 0.9206\n",
      "Epoch 17/1000\n",
      "2691/2691 [==============================] - 5s 2ms/step - loss: 0.2609 - auc_12: 0.7326 - accuracy: 0.9188 - val_loss: 0.2563 - val_auc_12: 0.7370 - val_accuracy: 0.9206\n",
      "Epoch 18/1000\n",
      "2691/2691 [==============================] - 5s 2ms/step - loss: 0.2606 - auc_12: 0.7336 - accuracy: 0.9188 - val_loss: 0.2561 - val_auc_12: 0.7350 - val_accuracy: 0.9206\n",
      "Epoch 19/1000\n",
      "2691/2691 [==============================] - 5s 2ms/step - loss: 0.2609 - auc_12: 0.7334 - accuracy: 0.9188 - val_loss: 0.2562 - val_auc_12: 0.7379 - val_accuracy: 0.9206\n",
      "Epoch 20/1000\n",
      "2691/2691 [==============================] - 6s 2ms/step - loss: 0.2606 - auc_12: 0.7346 - accuracy: 0.9188 - val_loss: 0.2573 - val_auc_12: 0.7318 - val_accuracy: 0.9206\n",
      "Epoch 21/1000\n",
      "2691/2691 [==============================] - 6s 2ms/step - loss: 0.2608 - auc_12: 0.7336 - accuracy: 0.9188 - val_loss: 0.2571 - val_auc_12: 0.7326 - val_accuracy: 0.9206\n",
      "Epoch 22/1000\n",
      "2691/2691 [==============================] - 7s 2ms/step - loss: 0.2604 - auc_12: 0.7333 - accuracy: 0.9188 - val_loss: 0.2568 - val_auc_12: 0.7358 - val_accuracy: 0.9206\n",
      "Epoch 23/1000\n",
      "2691/2691 [==============================] - 6s 2ms/step - loss: 0.2547 - auc_12: 0.7488 - accuracy: 0.9188 - val_loss: 0.2514 - val_auc_12: 0.7451 - val_accuracy: 0.9206\n",
      "Epoch 24/1000\n",
      "2691/2691 [==============================] - 8s 3ms/step - loss: 0.2530 - auc_12: 0.7520 - accuracy: 0.9188 - val_loss: 0.2512 - val_auc_12: 0.7445 - val_accuracy: 0.9206\n",
      "Epoch 25/1000\n",
      "2691/2691 [==============================] - 6s 2ms/step - loss: 0.2526 - auc_12: 0.7527 - accuracy: 0.9188 - val_loss: 0.2508 - val_auc_12: 0.7450 - val_accuracy: 0.9206\n",
      "Epoch 26/1000\n",
      "2691/2691 [==============================] - 6s 2ms/step - loss: 0.2524 - auc_12: 0.7523 - accuracy: 0.9188 - val_loss: 0.2506 - val_auc_12: 0.7455 - val_accuracy: 0.9206\n",
      "Epoch 27/1000\n",
      "2691/2691 [==============================] - 6s 2ms/step - loss: 0.2522 - auc_12: 0.7524 - accuracy: 0.9188 - val_loss: 0.2505 - val_auc_12: 0.7454 - val_accuracy: 0.9206\n",
      "Epoch 28/1000\n",
      "2691/2691 [==============================] - 6s 2ms/step - loss: 0.2520 - auc_12: 0.7526 - accuracy: 0.9188 - val_loss: 0.2500 - val_auc_12: 0.7467 - val_accuracy: 0.9206\n",
      "Epoch 29/1000\n",
      "2691/2691 [==============================] - 6s 2ms/step - loss: 0.2519 - auc_12: 0.7532 - accuracy: 0.9188 - val_loss: 0.2507 - val_auc_12: 0.7438 - val_accuracy: 0.9206\n",
      "Epoch 30/1000\n",
      "2691/2691 [==============================] - 6s 2ms/step - loss: 0.2520 - auc_12: 0.7525 - accuracy: 0.9188 - val_loss: 0.2500 - val_auc_12: 0.7461 - val_accuracy: 0.9206\n",
      "Epoch 31/1000\n",
      "2691/2691 [==============================] - 6s 2ms/step - loss: 0.2518 - auc_12: 0.7526 - accuracy: 0.9188 - val_loss: 0.2503 - val_auc_12: 0.7453 - val_accuracy: 0.9206\n",
      "Epoch 32/1000\n",
      "2691/2691 [==============================] - 6s 2ms/step - loss: 0.2517 - auc_12: 0.7529 - accuracy: 0.9188 - val_loss: 0.2501 - val_auc_12: 0.7456 - val_accuracy: 0.9206\n",
      "Epoch 33/1000\n",
      "2691/2691 [==============================] - 8s 3ms/step - loss: 0.2507 - auc_12: 0.7563 - accuracy: 0.9188 - val_loss: 0.2498 - val_auc_12: 0.7464 - val_accuracy: 0.9206\n",
      "Epoch 34/1000\n",
      "2691/2691 [==============================] - 10s 4ms/step - loss: 0.2505 - auc_12: 0.7567 - accuracy: 0.9188 - val_loss: 0.2498 - val_auc_12: 0.7463 - val_accuracy: 0.9206\n",
      "Epoch 35/1000\n",
      "2691/2691 [==============================] - 8s 3ms/step - loss: 0.2505 - auc_12: 0.7567 - accuracy: 0.9188 - val_loss: 0.2496 - val_auc_12: 0.7469 - val_accuracy: 0.9206\n",
      "Epoch 36/1000\n",
      "2691/2691 [==============================] - 7s 3ms/step - loss: 0.2504 - auc_12: 0.7566 - accuracy: 0.9188 - val_loss: 0.2496 - val_auc_12: 0.7467 - val_accuracy: 0.9206\n",
      "Epoch 37/1000\n",
      "2691/2691 [==============================] - 7s 3ms/step - loss: 0.2504 - auc_12: 0.7568 - accuracy: 0.9188 - val_loss: 0.2497 - val_auc_12: 0.7465 - val_accuracy: 0.9206\n",
      "Epoch 38/1000\n",
      "2691/2691 [==============================] - 7s 2ms/step - loss: 0.2504 - auc_12: 0.7568 - accuracy: 0.9188 - val_loss: 0.2496 - val_auc_12: 0.7469 - val_accuracy: 0.9206\n",
      "Epoch 39/1000\n",
      "2691/2691 [==============================] - 6s 2ms/step - loss: 0.2503 - auc_12: 0.7568 - accuracy: 0.9188 - val_loss: 0.2496 - val_auc_12: 0.7470 - val_accuracy: 0.9206\n",
      "Epoch 40/1000\n",
      "2691/2691 [==============================] - 6s 2ms/step - loss: 0.2502 - auc_12: 0.7573 - accuracy: 0.9188 - val_loss: 0.2495 - val_auc_12: 0.7471 - val_accuracy: 0.9206\n",
      "Epoch 41/1000\n",
      "2691/2691 [==============================] - 6s 2ms/step - loss: 0.2502 - auc_12: 0.7573 - accuracy: 0.9188 - val_loss: 0.2495 - val_auc_12: 0.7471 - val_accuracy: 0.9206\n",
      "Epoch 42/1000\n",
      "2691/2691 [==============================] - 6s 2ms/step - loss: 0.2502 - auc_12: 0.7574 - accuracy: 0.9188 - val_loss: 0.2495 - val_auc_12: 0.7471 - val_accuracy: 0.9206\n",
      "Epoch 43/1000\n",
      "2691/2691 [==============================] - 6s 2ms/step - loss: 0.2502 - auc_12: 0.7574 - accuracy: 0.9188 - val_loss: 0.2495 - val_auc_12: 0.7471 - val_accuracy: 0.9206\n",
      "Epoch 44/1000\n",
      "2691/2691 [==============================] - 7s 3ms/step - loss: 0.2501 - auc_12: 0.7575 - accuracy: 0.9188 - val_loss: 0.2495 - val_auc_12: 0.7471 - val_accuracy: 0.9206\n"
     ]
    },
    {
     "name": "stdout",
     "output_type": "stream",
     "text": [
      "Epoch 45/1000\n",
      "2691/2691 [==============================] - 6s 2ms/step - loss: 0.2501 - auc_12: 0.7575 - accuracy: 0.9188 - val_loss: 0.2495 - val_auc_12: 0.7471 - val_accuracy: 0.9206\n",
      "Epoch 46/1000\n",
      "2691/2691 [==============================] - 6s 2ms/step - loss: 0.2501 - auc_12: 0.7574 - accuracy: 0.9188 - val_loss: 0.2495 - val_auc_12: 0.7471 - val_accuracy: 0.9206\n",
      "Epoch 47/1000\n",
      "2691/2691 [==============================] - 6s 2ms/step - loss: 0.2501 - auc_12: 0.7574 - accuracy: 0.9188 - val_loss: 0.2495 - val_auc_12: 0.7471 - val_accuracy: 0.9206\n",
      "Epoch 48/1000\n",
      "2691/2691 [==============================] - 7s 2ms/step - loss: 0.2501 - auc_12: 0.7575 - accuracy: 0.9188 - val_loss: 0.2495 - val_auc_12: 0.7471 - val_accuracy: 0.9206\n",
      "Epoch 49/1000\n",
      "2691/2691 [==============================] - 6s 2ms/step - loss: 0.2501 - auc_12: 0.7574 - accuracy: 0.9188 - val_loss: 0.2495 - val_auc_12: 0.7471 - val_accuracy: 0.9206\n",
      "Epoch 50/1000\n",
      "2691/2691 [==============================] - 6s 2ms/step - loss: 0.2501 - auc_12: 0.7574 - accuracy: 0.9188 - val_loss: 0.2495 - val_auc_12: 0.7471 - val_accuracy: 0.9206\n",
      "Epoch 51/1000\n",
      "2691/2691 [==============================] - 7s 2ms/step - loss: 0.2501 - auc_12: 0.7574 - accuracy: 0.9188 - val_loss: 0.2495 - val_auc_12: 0.7471 - val_accuracy: 0.9206\n",
      "Epoch 52/1000\n",
      "2691/2691 [==============================] - 6s 2ms/step - loss: 0.2501 - auc_12: 0.7575 - accuracy: 0.9188 - val_loss: 0.2495 - val_auc_12: 0.7471 - val_accuracy: 0.9206\n"
     ]
    }
   ],
   "source": [
    "model = initialize_model(X_train.shape[1])\n",
    "\n",
    "patience = 2\n",
    "es = EarlyStopping(patience=patience, restore_best_weights=True)\n",
    "rlrp = ReduceLROnPlateau(monitor='val_loss', factor=0.1, patience=patience-1,)\n",
    "\n",
    "history = model.fit(X_train, y_train,\n",
    "                validation_data=validation_data,\n",
    "                validation_split=0,\n",
    "                epochs=1_000, \n",
    "                batch_size=64, \n",
    "                verbose=1,\n",
    "                callbacks=[es, rlrp]\n",
    "                )\n"
   ]
  },
  {
   "cell_type": "code",
   "execution_count": 68,
   "id": "2041bcca",
   "metadata": {},
   "outputs": [
    {
     "name": "stdout",
     "output_type": "stream",
     "text": [
      "1922/1922 [==============================] - 2s 1ms/step - loss: 0.2516 - auc_12: 0.7513 - accuracy: 0.9189\n"
     ]
    },
    {
     "data": {
      "text/plain": [
       "[0.2515675723552704, 0.7512596845626831, 0.9189307689666748]"
      ]
     },
     "execution_count": 68,
     "metadata": {},
     "output_type": "execute_result"
    }
   ],
   "source": [
    "model.evaluate(X_test_model, y_test_model)"
   ]
  },
  {
   "cell_type": "code",
   "execution_count": null,
   "id": "3dc01138",
   "metadata": {},
   "outputs": [],
   "source": []
  },
  {
   "cell_type": "code",
   "execution_count": 1,
   "id": "fbb97ea2",
   "metadata": {},
   "outputs": [
    {
     "ename": "ImportError",
     "evalue": "cannot import name 'predict_test_data' from 'hcdr.modeling.deep_learning' (/home/cmantilla/code/chris14jan/kaggle/package/hcdr/hcdr/modeling/deep_learning.py)",
     "output_type": "error",
     "traceback": [
      "\u001b[0;31m---------------------------------------------------------------------------\u001b[0m",
      "\u001b[0;31mImportError\u001b[0m                               Traceback (most recent call last)",
      "\u001b[0;32m<ipython-input-1-de6a6079e383>\u001b[0m in \u001b[0;36m<module>\u001b[0;34m\u001b[0m\n\u001b[0;32m----> 1\u001b[0;31m \u001b[0;32mfrom\u001b[0m \u001b[0mhcdr\u001b[0m\u001b[0;34m.\u001b[0m\u001b[0mmodeling\u001b[0m\u001b[0;34m.\u001b[0m\u001b[0mdeep_learning\u001b[0m \u001b[0;32mimport\u001b[0m \u001b[0mpreprocess_data\u001b[0m\u001b[0;34m,\u001b[0m \u001b[0mtrain_model\u001b[0m\u001b[0;34m,\u001b[0m \u001b[0mpredict_test_data\u001b[0m\u001b[0;34m\u001b[0m\u001b[0;34m\u001b[0m\u001b[0m\n\u001b[0m\u001b[1;32m      2\u001b[0m \u001b[0;32mimport\u001b[0m \u001b[0mpandas\u001b[0m \u001b[0;32mas\u001b[0m \u001b[0mpd\u001b[0m\u001b[0;34m\u001b[0m\u001b[0;34m\u001b[0m\u001b[0m\n\u001b[1;32m      3\u001b[0m \u001b[0mget_ipython\u001b[0m\u001b[0;34m(\u001b[0m\u001b[0;34m)\u001b[0m\u001b[0;34m.\u001b[0m\u001b[0mrun_line_magic\u001b[0m\u001b[0;34m(\u001b[0m\u001b[0;34m'load_ext'\u001b[0m\u001b[0;34m,\u001b[0m \u001b[0;34m'autoreload'\u001b[0m\u001b[0;34m)\u001b[0m\u001b[0;34m\u001b[0m\u001b[0;34m\u001b[0m\u001b[0m\n\u001b[1;32m      4\u001b[0m \u001b[0mget_ipython\u001b[0m\u001b[0;34m(\u001b[0m\u001b[0;34m)\u001b[0m\u001b[0;34m.\u001b[0m\u001b[0mrun_line_magic\u001b[0m\u001b[0;34m(\u001b[0m\u001b[0;34m'autoreload'\u001b[0m\u001b[0;34m,\u001b[0m \u001b[0;34m'2'\u001b[0m\u001b[0;34m)\u001b[0m\u001b[0;34m\u001b[0m\u001b[0;34m\u001b[0m\u001b[0m\n",
      "\u001b[0;31mImportError\u001b[0m: cannot import name 'predict_test_data' from 'hcdr.modeling.deep_learning' (/home/cmantilla/code/chris14jan/kaggle/package/hcdr/hcdr/modeling/deep_learning.py)"
     ]
    }
   ],
   "source": [
    "from hcdr.modeling.deep_learning import preprocess_data, train_model, predict_test_data\n",
    "import pandas as pd\n",
    "%load_ext autoreload\n",
    "%autoreload 2"
   ]
  },
  {
   "cell_type": "code",
   "execution_count": 2,
   "id": "4959fc7c",
   "metadata": {},
   "outputs": [],
   "source": [
    "# Test Data\n",
    "path_X_test_model = \"../modeling/data/X_test_model.pkl\"\n",
    "X_test_model = pd.read_pickle(path_X_test_model)\n",
    "path_y_test_model = \"../modeling/data/y_test_model.pkl\"\n",
    "y_test_model = pd.read_pickle(path_y_test_model)\n",
    "model_test_data = X_test_model, y_test_model\n",
    "del X_test_model\n",
    "del y_test_model\n",
    "\n",
    "# Val Data\n",
    "path_X_val_model = \"../modeling/data/X_val_model.pkl\"\n",
    "X_val_model = pd.read_pickle(path_X_val_model)\n",
    "path_y_val_model = \"../modeling/data/y_val_model.pkl\"\n",
    "y_val_model = pd.read_pickle(path_y_val_model)\n",
    "model_val_data = X_val_model, y_val_model\n",
    "del X_val_model\n",
    "del y_val_model\n",
    "\n",
    "# Train Data\n",
    "path_X_train = \"../modeling/data/X_train_model.pkl\"\n",
    "X_train = pd.read_pickle(path_X_train)\n",
    "path_y_train = \"../modeling/data/y_train_model.pkl\"\n",
    "y_train = pd.read_pickle(path_y_train)\n"
   ]
  },
  {
   "cell_type": "code",
   "execution_count": 3,
   "id": "567b220c",
   "metadata": {},
   "outputs": [
    {
     "data": {
      "text/plain": [
       "(92254, 691)"
      ]
     },
     "execution_count": 3,
     "metadata": {},
     "output_type": "execute_result"
    }
   ],
   "source": [
    "model_test_data[0].shape"
   ]
  },
  {
   "cell_type": "code",
   "execution_count": 4,
   "id": "2ffbed0c",
   "metadata": {},
   "outputs": [
    {
     "data": {
      "text/plain": [
       "(150679, 691)"
      ]
     },
     "execution_count": 4,
     "metadata": {},
     "output_type": "execute_result"
    }
   ],
   "source": [
    "X_train.shape"
   ]
  },
  {
   "cell_type": "code",
   "execution_count": 5,
   "id": "3902af9f",
   "metadata": {
    "scrolled": true
   },
   "outputs": [
    {
     "name": "stdout",
     "output_type": "stream",
     "text": [
      "added layer 0 with 16 neurons. input_dim=691\n",
      "added layer 1 with 8 neurons.\n",
      "added layer 2 with 2 neurons.\n",
      "Epoch 1/1000\n",
      "1178/1178 [==============================] - 42s 31ms/step - loss: 0.5255 - auc: 0.5048 - accuracy: 0.9157 - val_loss: 0.3951 - val_auc: 0.5000 - val_accuracy: 0.9204\n",
      "Epoch 2/1000\n",
      "1178/1178 [==============================] - 3s 2ms/step - loss: 0.3431 - auc: 0.5026 - accuracy: 0.9194 - val_loss: 0.3064 - val_auc: 0.5000 - val_accuracy: 0.9204\n",
      "Epoch 3/1000\n",
      "1178/1178 [==============================] - 3s 3ms/step - loss: 0.2938 - auc: 0.5024 - accuracy: 0.9194 - val_loss: 0.2828 - val_auc: 0.5000 - val_accuracy: 0.9204\n",
      "Epoch 4/1000\n",
      "1178/1178 [==============================] - 3s 2ms/step - loss: 0.2822 - auc: 0.5030 - accuracy: 0.9194 - val_loss: 0.2783 - val_auc: 0.5000 - val_accuracy: 0.9204\n",
      "Epoch 5/1000\n",
      "1178/1178 [==============================] - 3s 3ms/step - loss: 0.2804 - auc: 0.5032 - accuracy: 0.9194 - val_loss: 0.2778 - val_auc: 0.5000 - val_accuracy: 0.9204\n",
      "Epoch 6/1000\n",
      "1178/1178 [==============================] - 3s 2ms/step - loss: 0.2803 - auc: 0.4993 - accuracy: 0.9194 - val_loss: 0.2778 - val_auc: 0.5000 - val_accuracy: 0.9204\n",
      "Epoch 7/1000\n",
      "1178/1178 [==============================] - 3s 3ms/step - loss: 0.2803 - auc: 0.4990 - accuracy: 0.9194 - val_loss: 0.2778 - val_auc: 0.5000 - val_accuracy: 0.9204\n",
      "Epoch 8/1000\n",
      "1178/1178 [==============================] - 3s 3ms/step - loss: 0.2803 - auc: 0.5000 - accuracy: 0.9194 - val_loss: 0.2778 - val_auc: 0.5000 - val_accuracy: 0.9204\n",
      "Epoch 9/1000\n",
      "1178/1178 [==============================] - 3s 3ms/step - loss: 0.2803 - auc: 0.4977 - accuracy: 0.9194 - val_loss: 0.2778 - val_auc: 0.5000 - val_accuracy: 0.9204\n",
      "Epoch 10/1000\n",
      "1178/1178 [==============================] - 3s 3ms/step - loss: 0.2803 - auc: 0.5000 - accuracy: 0.9194 - val_loss: 0.2778 - val_auc: 0.5000 - val_accuracy: 0.9204\n",
      "2883/2883 [==============================] - 4s 1ms/step - loss: 0.2828 - auc: 0.5000 - accuracy: 0.9183\n",
      "1 0.5\n",
      "added layer 0 with 32 neurons. input_dim=691\n",
      "added layer 1 with 8 neurons.\n",
      "added layer 2 with 2 neurons.\n",
      "Epoch 1/1000\n",
      "1178/1178 [==============================] - 9s 7ms/step - loss: 0.5547 - auc_1: 0.4983 - accuracy: 0.9063 - val_loss: 0.3966 - val_auc_1: 0.5000 - val_accuracy: 0.9204\n",
      "Epoch 2/1000\n",
      "1178/1178 [==============================] - 3s 3ms/step - loss: 0.3441 - auc_1: 0.4987 - accuracy: 0.9194 - val_loss: 0.3069 - val_auc_1: 0.5000 - val_accuracy: 0.9204\n",
      "Epoch 3/1000\n",
      "1178/1178 [==============================] - 3s 3ms/step - loss: 0.2942 - auc_1: 0.5012 - accuracy: 0.9194 - val_loss: 0.2830 - val_auc_1: 0.5000 - val_accuracy: 0.9204\n",
      "Epoch 4/1000\n",
      "1178/1178 [==============================] - 3s 3ms/step - loss: 0.2822 - auc_1: 0.5012 - accuracy: 0.9194 - val_loss: 0.2783 - val_auc_1: 0.5000 - val_accuracy: 0.9204\n",
      "Epoch 5/1000\n",
      "1178/1178 [==============================] - 3s 3ms/step - loss: 0.2805 - auc_1: 0.4974 - accuracy: 0.9194 - val_loss: 0.2778 - val_auc_1: 0.5000 - val_accuracy: 0.9204\n",
      "Epoch 6/1000\n",
      "1178/1178 [==============================] - 3s 3ms/step - loss: 0.2803 - auc_1: 0.4992 - accuracy: 0.9194 - val_loss: 0.2778 - val_auc_1: 0.5000 - val_accuracy: 0.9204\n",
      "Epoch 7/1000\n",
      "1178/1178 [==============================] - 3s 3ms/step - loss: 0.2803 - auc_1: 0.4973 - accuracy: 0.9194 - val_loss: 0.2778 - val_auc_1: 0.5000 - val_accuracy: 0.9204\n",
      "Epoch 8/1000\n",
      "1178/1178 [==============================] - 3s 3ms/step - loss: 0.2803 - auc_1: 0.5000 - accuracy: 0.9194 - val_loss: 0.2778 - val_auc_1: 0.5000 - val_accuracy: 0.9204\n",
      "Epoch 9/1000\n",
      "1178/1178 [==============================] - 3s 3ms/step - loss: 0.2803 - auc_1: 0.5000 - accuracy: 0.9194 - val_loss: 0.2778 - val_auc_1: 0.5000 - val_accuracy: 0.9204\n",
      "Epoch 10/1000\n",
      "1178/1178 [==============================] - 3s 3ms/step - loss: 0.2803 - auc_1: 0.5000 - accuracy: 0.9194 - val_loss: 0.2778 - val_auc_1: 0.5000 - val_accuracy: 0.9204\n",
      "Epoch 11/1000\n",
      "1178/1178 [==============================] - 3s 3ms/step - loss: 0.2803 - auc_1: 0.5000 - accuracy: 0.9194 - val_loss: 0.2778 - val_auc_1: 0.5000 - val_accuracy: 0.9204\n",
      "Epoch 12/1000\n",
      "1178/1178 [==============================] - 4s 3ms/step - loss: 0.2803 - auc_1: 0.5000 - accuracy: 0.9194 - val_loss: 0.2778 - val_auc_1: 0.5000 - val_accuracy: 0.9204\n",
      "Epoch 13/1000\n",
      "1178/1178 [==============================] - 4s 3ms/step - loss: 0.2803 - auc_1: 0.5000 - accuracy: 0.9194 - val_loss: 0.2778 - val_auc_1: 0.5000 - val_accuracy: 0.9204\n",
      "Epoch 14/1000\n",
      "1178/1178 [==============================] - 4s 3ms/step - loss: 0.2803 - auc_1: 0.5000 - accuracy: 0.9194 - val_loss: 0.2778 - val_auc_1: 0.5000 - val_accuracy: 0.9204\n",
      "Epoch 15/1000\n",
      "1178/1178 [==============================] - 3s 3ms/step - loss: 0.2803 - auc_1: 0.5000 - accuracy: 0.9194 - val_loss: 0.2778 - val_auc_1: 0.5000 - val_accuracy: 0.9204\n",
      "Epoch 16/1000\n",
      "1178/1178 [==============================] - 3s 3ms/step - loss: 0.2803 - auc_1: 0.5000 - accuracy: 0.9194 - val_loss: 0.2778 - val_auc_1: 0.5000 - val_accuracy: 0.9204\n",
      "2883/2883 [==============================] - 3s 1ms/step - loss: 0.2828 - auc_1: 0.5000 - accuracy: 0.9183\n",
      "2 0.5\n",
      "added layer 0 with 16 neurons. input_dim=691\n",
      "added layer 1 with 16 neurons.\n",
      "added layer 2 with 16 neurons.\n",
      "added layer 3 with 4 neurons.\n",
      "Epoch 1/1000\n",
      "1178/1178 [==============================] - 4s 3ms/step - loss: 0.3090 - auc_2: 0.6943 - accuracy: 0.9193 - val_loss: 0.2664 - val_auc_2: 0.7173 - val_accuracy: 0.9204\n",
      "Epoch 2/1000\n",
      "1178/1178 [==============================] - 3s 3ms/step - loss: 0.2660 - auc_2: 0.7214 - accuracy: 0.9194 - val_loss: 0.2614 - val_auc_2: 0.7283 - val_accuracy: 0.9204\n",
      "Epoch 3/1000\n",
      "1178/1178 [==============================] - 3s 3ms/step - loss: 0.2641 - auc_2: 0.7249 - accuracy: 0.9194 - val_loss: 0.2643 - val_auc_2: 0.7131 - val_accuracy: 0.9204\n",
      "Epoch 4/1000\n",
      "1178/1178 [==============================] - 3s 3ms/step - loss: 0.2630 - auc_2: 0.7271 - accuracy: 0.9194 - val_loss: 0.2596 - val_auc_2: 0.7345 - val_accuracy: 0.9204\n",
      "Epoch 5/1000\n",
      "1178/1178 [==============================] - 4s 3ms/step - loss: 0.2625 - auc_2: 0.7289 - accuracy: 0.9194 - val_loss: 0.2608 - val_auc_2: 0.7306 - val_accuracy: 0.9204\n",
      "Epoch 6/1000\n",
      "1178/1178 [==============================] - 4s 3ms/step - loss: 0.2613 - auc_2: 0.7298 - accuracy: 0.9194 - val_loss: 0.2591 - val_auc_2: 0.7308 - val_accuracy: 0.9204\n",
      "Epoch 7/1000\n",
      "1178/1178 [==============================] - 3s 3ms/step - loss: 0.2608 - auc_2: 0.7315 - accuracy: 0.9194 - val_loss: 0.2599 - val_auc_2: 0.7273 - val_accuracy: 0.9204\n",
      "Epoch 8/1000\n",
      "1178/1178 [==============================] - 3s 3ms/step - loss: 0.2602 - auc_2: 0.7333 - accuracy: 0.9194 - val_loss: 0.2605 - val_auc_2: 0.7236 - val_accuracy: 0.9204\n",
      "Epoch 9/1000\n",
      "1178/1178 [==============================] - 3s 3ms/step - loss: 0.2536 - auc_2: 0.7499 - accuracy: 0.9194 - val_loss: 0.2522 - val_auc_2: 0.7434 - val_accuracy: 0.9204\n",
      "Epoch 10/1000\n",
      "1178/1178 [==============================] - 3s 3ms/step - loss: 0.2507 - auc_2: 0.7557 - accuracy: 0.9194 - val_loss: 0.2509 - val_auc_2: 0.7467 - val_accuracy: 0.9204\n",
      "Epoch 11/1000\n",
      "1178/1178 [==============================] - 4s 3ms/step - loss: 0.2500 - auc_2: 0.7568 - accuracy: 0.9194 - val_loss: 0.2505 - val_auc_2: 0.7465 - val_accuracy: 0.9204\n",
      "Epoch 12/1000\n",
      "1178/1178 [==============================] - 4s 3ms/step - loss: 0.2496 - auc_2: 0.7574 - accuracy: 0.9194 - val_loss: 0.2501 - val_auc_2: 0.7475 - val_accuracy: 0.9204\n",
      "Epoch 13/1000\n",
      "1178/1178 [==============================] - 3s 3ms/step - loss: 0.2492 - auc_2: 0.7575 - accuracy: 0.9194 - val_loss: 0.2496 - val_auc_2: 0.7484 - val_accuracy: 0.9204\n",
      "Epoch 14/1000\n",
      "1178/1178 [==============================] - 3s 3ms/step - loss: 0.2491 - auc_2: 0.7577 - accuracy: 0.9194 - val_loss: 0.2498 - val_auc_2: 0.7474 - val_accuracy: 0.9204\n",
      "Epoch 15/1000\n",
      "1178/1178 [==============================] - 3s 3ms/step - loss: 0.2489 - auc_2: 0.7581 - accuracy: 0.9194 - val_loss: 0.2496 - val_auc_2: 0.7478 - val_accuracy: 0.9204\n",
      "Epoch 16/1000\n",
      "1178/1178 [==============================] - 4s 3ms/step - loss: 0.2475 - auc_2: 0.7620 - accuracy: 0.9194 - val_loss: 0.2491 - val_auc_2: 0.7490 - val_accuracy: 0.9204\n",
      "Epoch 17/1000\n"
     ]
    },
    {
     "name": "stdout",
     "output_type": "stream",
     "text": [
      "1178/1178 [==============================] - 3s 3ms/step - loss: 0.2472 - auc_2: 0.7626 - accuracy: 0.9194 - val_loss: 0.2491 - val_auc_2: 0.7492 - val_accuracy: 0.9204\n",
      "Epoch 18/1000\n",
      "1178/1178 [==============================] - 3s 3ms/step - loss: 0.2471 - auc_2: 0.7628 - accuracy: 0.9194 - val_loss: 0.2490 - val_auc_2: 0.7493 - val_accuracy: 0.9204\n",
      "Epoch 19/1000\n",
      "1178/1178 [==============================] - 3s 3ms/step - loss: 0.2470 - auc_2: 0.7631 - accuracy: 0.9194 - val_loss: 0.2490 - val_auc_2: 0.7494 - val_accuracy: 0.9204\n",
      "Epoch 20/1000\n",
      "1178/1178 [==============================] - 3s 3ms/step - loss: 0.2469 - auc_2: 0.7632 - accuracy: 0.9194 - val_loss: 0.2491 - val_auc_2: 0.7489 - val_accuracy: 0.9204\n",
      "Epoch 21/1000\n",
      "1178/1178 [==============================] - 3s 3ms/step - loss: 0.2468 - auc_2: 0.7636 - accuracy: 0.9194 - val_loss: 0.2490 - val_auc_2: 0.7491 - val_accuracy: 0.9204\n",
      "Epoch 22/1000\n",
      "1178/1178 [==============================] - 3s 3ms/step - loss: 0.2467 - auc_2: 0.7638 - accuracy: 0.9194 - val_loss: 0.2489 - val_auc_2: 0.7493 - val_accuracy: 0.9204\n",
      "Epoch 23/1000\n",
      "1178/1178 [==============================] - 3s 3ms/step - loss: 0.2467 - auc_2: 0.7639 - accuracy: 0.9194 - val_loss: 0.2489 - val_auc_2: 0.7492 - val_accuracy: 0.9204\n",
      "Epoch 24/1000\n",
      "1178/1178 [==============================] - 3s 3ms/step - loss: 0.2467 - auc_2: 0.7639 - accuracy: 0.9194 - val_loss: 0.2489 - val_auc_2: 0.7492 - val_accuracy: 0.9204\n",
      "Epoch 25/1000\n",
      "1178/1178 [==============================] - 3s 3ms/step - loss: 0.2467 - auc_2: 0.7639 - accuracy: 0.9194 - val_loss: 0.2489 - val_auc_2: 0.7492 - val_accuracy: 0.9204\n",
      "Epoch 26/1000\n",
      "1178/1178 [==============================] - 3s 3ms/step - loss: 0.2467 - auc_2: 0.7639 - accuracy: 0.9194 - val_loss: 0.2489 - val_auc_2: 0.7492 - val_accuracy: 0.9204\n",
      "Epoch 27/1000\n",
      "1178/1178 [==============================] - 3s 3ms/step - loss: 0.2467 - auc_2: 0.7639 - accuracy: 0.9194 - val_loss: 0.2489 - val_auc_2: 0.7492 - val_accuracy: 0.9204\n",
      "2883/2883 [==============================] - 3s 1ms/step - loss: 0.2543 - auc_2: 0.7463 - accuracy: 0.9183\n",
      "2 0.7462776303291321\n",
      "added layer 0 with 64 neurons. input_dim=691\n",
      "added layer 1 with 2 neurons.\n",
      "Epoch 1/1000\n",
      "1178/1178 [==============================] - 6s 4ms/step - loss: 0.3614 - auc_3: 0.6894 - accuracy: 0.9194 - val_loss: 0.2731 - val_auc_3: 0.7064 - val_accuracy: 0.9204\n",
      "Epoch 2/1000\n",
      "1178/1178 [==============================] - 3s 3ms/step - loss: 0.2721 - auc_3: 0.7131 - accuracy: 0.9194 - val_loss: 0.2688 - val_auc_3: 0.7116 - val_accuracy: 0.9204\n",
      "Epoch 3/1000\n",
      "1178/1178 [==============================] - 3s 3ms/step - loss: 0.2671 - auc_3: 0.7205 - accuracy: 0.9194 - val_loss: 0.2666 - val_auc_3: 0.7166 - val_accuracy: 0.9204\n",
      "Epoch 4/1000\n",
      "1178/1178 [==============================] - 3s 3ms/step - loss: 0.2660 - auc_3: 0.7213 - accuracy: 0.9194 - val_loss: 0.2637 - val_auc_3: 0.7186 - val_accuracy: 0.9204\n",
      "Epoch 5/1000\n",
      "1178/1178 [==============================] - 3s 3ms/step - loss: 0.2649 - auc_3: 0.7233 - accuracy: 0.9194 - val_loss: 0.2616 - val_auc_3: 0.7281 - val_accuracy: 0.9204\n",
      "Epoch 6/1000\n",
      "1178/1178 [==============================] - 4s 3ms/step - loss: 0.2628 - auc_3: 0.7274 - accuracy: 0.9194 - val_loss: 0.2603 - val_auc_3: 0.7273 - val_accuracy: 0.9204\n",
      "Epoch 7/1000\n",
      "1178/1178 [==============================] - 4s 3ms/step - loss: 0.2617 - auc_3: 0.7298 - accuracy: 0.9194 - val_loss: 0.2610 - val_auc_3: 0.7216 - val_accuracy: 0.9204\n",
      "Epoch 8/1000\n",
      "1178/1178 [==============================] - 3s 3ms/step - loss: 0.2611 - auc_3: 0.7297 - accuracy: 0.9194 - val_loss: 0.2588 - val_auc_3: 0.7325 - val_accuracy: 0.9204\n",
      "Epoch 9/1000\n",
      "1178/1178 [==============================] - 4s 3ms/step - loss: 0.2603 - auc_3: 0.7325 - accuracy: 0.9194 - val_loss: 0.2580 - val_auc_3: 0.7345 - val_accuracy: 0.9204\n",
      "Epoch 10/1000\n",
      "1178/1178 [==============================] - 3s 3ms/step - loss: 0.2606 - auc_3: 0.7315 - accuracy: 0.9194 - val_loss: 0.2568 - val_auc_3: 0.7370 - val_accuracy: 0.9204\n",
      "Epoch 11/1000\n",
      "1178/1178 [==============================] - 3s 3ms/step - loss: 0.2598 - auc_3: 0.7340 - accuracy: 0.9194 - val_loss: 0.2591 - val_auc_3: 0.7303 - val_accuracy: 0.9204\n",
      "Epoch 12/1000\n",
      "1178/1178 [==============================] - 3s 3ms/step - loss: 0.2594 - auc_3: 0.7345 - accuracy: 0.9194 - val_loss: 0.2574 - val_auc_3: 0.7335 - val_accuracy: 0.9204\n",
      "Epoch 13/1000\n",
      "1178/1178 [==============================] - 3s 3ms/step - loss: 0.2536 - auc_3: 0.7508 - accuracy: 0.9194 - val_loss: 0.2522 - val_auc_3: 0.7457 - val_accuracy: 0.9204\n",
      "Epoch 14/1000\n",
      "1178/1178 [==============================] - 3s 3ms/step - loss: 0.2520 - auc_3: 0.7541 - accuracy: 0.9194 - val_loss: 0.2513 - val_auc_3: 0.7475 - val_accuracy: 0.9204\n",
      "Epoch 15/1000\n",
      "1178/1178 [==============================] - 3s 3ms/step - loss: 0.2515 - auc_3: 0.7546 - accuracy: 0.9194 - val_loss: 0.2515 - val_auc_3: 0.7457 - val_accuracy: 0.9204\n",
      "Epoch 16/1000\n",
      "1178/1178 [==============================] - 3s 3ms/step - loss: 0.2512 - auc_3: 0.7551 - accuracy: 0.9194 - val_loss: 0.2508 - val_auc_3: 0.7476 - val_accuracy: 0.9204\n",
      "Epoch 17/1000\n",
      "1178/1178 [==============================] - 3s 3ms/step - loss: 0.2510 - auc_3: 0.7547 - accuracy: 0.9194 - val_loss: 0.2509 - val_auc_3: 0.7466 - val_accuracy: 0.9204\n",
      "Epoch 18/1000\n",
      "1178/1178 [==============================] - 3s 3ms/step - loss: 0.2508 - auc_3: 0.7547 - accuracy: 0.9194 - val_loss: 0.2506 - val_auc_3: 0.7476 - val_accuracy: 0.9204\n",
      "Epoch 19/1000\n",
      "1178/1178 [==============================] - 3s 3ms/step - loss: 0.2506 - auc_3: 0.7549 - accuracy: 0.9194 - val_loss: 0.2503 - val_auc_3: 0.7479 - val_accuracy: 0.9204\n",
      "Epoch 20/1000\n",
      "1178/1178 [==============================] - 3s 3ms/step - loss: 0.2505 - auc_3: 0.7549 - accuracy: 0.9194 - val_loss: 0.2502 - val_auc_3: 0.7480 - val_accuracy: 0.9204\n",
      "Epoch 21/1000\n",
      "1178/1178 [==============================] - 4s 3ms/step - loss: 0.2504 - auc_3: 0.7551 - accuracy: 0.9194 - val_loss: 0.2502 - val_auc_3: 0.7481 - val_accuracy: 0.9204\n",
      "Epoch 22/1000\n",
      "1178/1178 [==============================] - 4s 3ms/step - loss: 0.2502 - auc_3: 0.7559 - accuracy: 0.9194 - val_loss: 0.2505 - val_auc_3: 0.7465 - val_accuracy: 0.9204\n",
      "Epoch 23/1000\n",
      "1178/1178 [==============================] - 4s 3ms/step - loss: 0.2493 - auc_3: 0.7582 - accuracy: 0.9194 - val_loss: 0.2499 - val_auc_3: 0.7484 - val_accuracy: 0.9204\n",
      "Epoch 24/1000\n",
      "1178/1178 [==============================] - 3s 3ms/step - loss: 0.2491 - auc_3: 0.7587 - accuracy: 0.9194 - val_loss: 0.2498 - val_auc_3: 0.7485 - val_accuracy: 0.9204\n",
      "Epoch 25/1000\n",
      "1178/1178 [==============================] - 3s 3ms/step - loss: 0.2491 - auc_3: 0.7590 - accuracy: 0.9194 - val_loss: 0.2497 - val_auc_3: 0.7489 - val_accuracy: 0.9204\n",
      "Epoch 26/1000\n",
      "1178/1178 [==============================] - 3s 3ms/step - loss: 0.2490 - auc_3: 0.7591 - accuracy: 0.9194 - val_loss: 0.2497 - val_auc_3: 0.7488 - val_accuracy: 0.9204\n",
      "Epoch 27/1000\n",
      "1178/1178 [==============================] - 3s 3ms/step - loss: 0.2489 - auc_3: 0.7597 - accuracy: 0.9194 - val_loss: 0.2497 - val_auc_3: 0.7488 - val_accuracy: 0.9204\n",
      "Epoch 28/1000\n",
      "1178/1178 [==============================] - 3s 3ms/step - loss: 0.2488 - auc_3: 0.7597 - accuracy: 0.9194 - val_loss: 0.2497 - val_auc_3: 0.7489 - val_accuracy: 0.9204\n",
      "Epoch 29/1000\n",
      "1178/1178 [==============================] - 3s 3ms/step - loss: 0.2488 - auc_3: 0.7597 - accuracy: 0.9194 - val_loss: 0.2497 - val_auc_3: 0.7489 - val_accuracy: 0.9204\n",
      "Epoch 30/1000\n",
      "1178/1178 [==============================] - 3s 3ms/step - loss: 0.2488 - auc_3: 0.7597 - accuracy: 0.9194 - val_loss: 0.2497 - val_auc_3: 0.7489 - val_accuracy: 0.9204\n",
      "Epoch 31/1000\n",
      "1178/1178 [==============================] - 3s 3ms/step - loss: 0.2488 - auc_3: 0.7598 - accuracy: 0.9194 - val_loss: 0.2497 - val_auc_3: 0.7489 - val_accuracy: 0.9204\n",
      "Epoch 32/1000\n",
      "1178/1178 [==============================] - 3s 3ms/step - loss: 0.2488 - auc_3: 0.7598 - accuracy: 0.9194 - val_loss: 0.2497 - val_auc_3: 0.7489 - val_accuracy: 0.9204\n",
      "Epoch 33/1000\n",
      "1178/1178 [==============================] - 3s 3ms/step - loss: 0.2488 - auc_3: 0.7598 - accuracy: 0.9194 - val_loss: 0.2497 - val_auc_3: 0.7489 - val_accuracy: 0.9204\n"
     ]
    },
    {
     "name": "stdout",
     "output_type": "stream",
     "text": [
      "Epoch 34/1000\n",
      "1178/1178 [==============================] - 3s 3ms/step - loss: 0.2488 - auc_3: 0.7598 - accuracy: 0.9194 - val_loss: 0.2497 - val_auc_3: 0.7489 - val_accuracy: 0.9204\n",
      "Epoch 35/1000\n",
      "1178/1178 [==============================] - 3s 3ms/step - loss: 0.2488 - auc_3: 0.7598 - accuracy: 0.9194 - val_loss: 0.2497 - val_auc_3: 0.7489 - val_accuracy: 0.9204\n",
      "Epoch 36/1000\n",
      "1178/1178 [==============================] - 4s 3ms/step - loss: 0.2488 - auc_3: 0.7598 - accuracy: 0.9194 - val_loss: 0.2497 - val_auc_3: 0.7489 - val_accuracy: 0.9204\n",
      "Epoch 37/1000\n",
      "1178/1178 [==============================] - 4s 3ms/step - loss: 0.2488 - auc_3: 0.7598 - accuracy: 0.9194 - val_loss: 0.2497 - val_auc_3: 0.7489 - val_accuracy: 0.9204\n",
      "Epoch 38/1000\n",
      "1178/1178 [==============================] - 4s 3ms/step - loss: 0.2488 - auc_3: 0.7598 - accuracy: 0.9194 - val_loss: 0.2497 - val_auc_3: 0.7489 - val_accuracy: 0.9204\n",
      "Epoch 39/1000\n",
      "1178/1178 [==============================] - 4s 3ms/step - loss: 0.2488 - auc_3: 0.7598 - accuracy: 0.9194 - val_loss: 0.2497 - val_auc_3: 0.7489 - val_accuracy: 0.9204\n",
      "2883/2883 [==============================] - 3s 1ms/step - loss: 0.2549 - auc_3: 0.7462 - accuracy: 0.9183\n",
      "2 0.7461928129196167\n",
      "added layer 0 with 16 neurons. input_dim=691\n",
      "added layer 1 with 32 neurons.\n",
      "added layer 2 with 8 neurons.\n",
      "added layer 3 with 8 neurons.\n",
      "Epoch 1/1000\n",
      "1178/1178 [==============================] - 17s 14ms/step - loss: 0.3029 - auc_4: 0.6895 - accuracy: 0.9190 - val_loss: 0.2669 - val_auc_4: 0.7071 - val_accuracy: 0.9204\n",
      "Epoch 2/1000\n",
      "1178/1178 [==============================] - 3s 3ms/step - loss: 0.2647 - auc_4: 0.7228 - accuracy: 0.9194 - val_loss: 0.2625 - val_auc_4: 0.7195 - val_accuracy: 0.9204\n",
      "Epoch 3/1000\n",
      "1178/1178 [==============================] - 3s 3ms/step - loss: 0.2626 - auc_4: 0.7277 - accuracy: 0.9194 - val_loss: 0.2602 - val_auc_4: 0.7271 - val_accuracy: 0.9204\n",
      "Epoch 4/1000\n",
      "1178/1178 [==============================] - 3s 3ms/step - loss: 0.2615 - auc_4: 0.7294 - accuracy: 0.9194 - val_loss: 0.2604 - val_auc_4: 0.7282 - val_accuracy: 0.9204\n",
      "Epoch 5/1000\n",
      "1178/1178 [==============================] - 5s 4ms/step - loss: 0.2604 - auc_4: 0.7327 - accuracy: 0.9194 - val_loss: 0.2590 - val_auc_4: 0.7313 - val_accuracy: 0.9204\n",
      "Epoch 6/1000\n",
      "1178/1178 [==============================] - 3s 3ms/step - loss: 0.2604 - auc_4: 0.7326 - accuracy: 0.9194 - val_loss: 0.2590 - val_auc_4: 0.7308 - val_accuracy: 0.9204\n",
      "Epoch 7/1000\n",
      "1178/1178 [==============================] - 3s 3ms/step - loss: 0.2599 - auc_4: 0.7343 - accuracy: 0.9194 - val_loss: 0.2601 - val_auc_4: 0.7249 - val_accuracy: 0.9204\n",
      "Epoch 8/1000\n",
      "1178/1178 [==============================] - 3s 3ms/step - loss: 0.2538 - auc_4: 0.7486 - accuracy: 0.9194 - val_loss: 0.2519 - val_auc_4: 0.7450 - val_accuracy: 0.9204\n",
      "Epoch 9/1000\n",
      "1178/1178 [==============================] - 3s 3ms/step - loss: 0.2510 - auc_4: 0.7547 - accuracy: 0.9194 - val_loss: 0.2508 - val_auc_4: 0.7465 - val_accuracy: 0.9204\n",
      "Epoch 10/1000\n",
      "1178/1178 [==============================] - 3s 3ms/step - loss: 0.2502 - auc_4: 0.7557 - accuracy: 0.9194 - val_loss: 0.2506 - val_auc_4: 0.7462 - val_accuracy: 0.9204\n",
      "Epoch 11/1000\n",
      "1178/1178 [==============================] - 3s 3ms/step - loss: 0.2497 - auc_4: 0.7571 - accuracy: 0.9194 - val_loss: 0.2505 - val_auc_4: 0.7459 - val_accuracy: 0.9204\n",
      "Epoch 12/1000\n",
      "1178/1178 [==============================] - 3s 3ms/step - loss: 0.2494 - auc_4: 0.7569 - accuracy: 0.9194 - val_loss: 0.2505 - val_auc_4: 0.7449 - val_accuracy: 0.9204\n",
      "Epoch 13/1000\n",
      "1178/1178 [==============================] - 3s 3ms/step - loss: 0.2493 - auc_4: 0.7570 - accuracy: 0.9194 - val_loss: 0.2498 - val_auc_4: 0.7478 - val_accuracy: 0.9204\n",
      "Epoch 14/1000\n",
      "1178/1178 [==============================] - 3s 3ms/step - loss: 0.2490 - auc_4: 0.7574 - accuracy: 0.9194 - val_loss: 0.2499 - val_auc_4: 0.7470 - val_accuracy: 0.9204\n",
      "Epoch 15/1000\n",
      "1178/1178 [==============================] - 3s 3ms/step - loss: 0.2490 - auc_4: 0.7568 - accuracy: 0.9194 - val_loss: 0.2493 - val_auc_4: 0.7481 - val_accuracy: 0.9204\n",
      "Epoch 16/1000\n",
      "1178/1178 [==============================] - 3s 3ms/step - loss: 0.2488 - auc_4: 0.7570 - accuracy: 0.9194 - val_loss: 0.2494 - val_auc_4: 0.7473 - val_accuracy: 0.9204\n",
      "Epoch 17/1000\n",
      "1178/1178 [==============================] - 3s 3ms/step - loss: 0.2487 - auc_4: 0.7573 - accuracy: 0.9194 - val_loss: 0.2495 - val_auc_4: 0.7469 - val_accuracy: 0.9204\n",
      "Epoch 18/1000\n",
      "1178/1178 [==============================] - 3s 3ms/step - loss: 0.2475 - auc_4: 0.7611 - accuracy: 0.9194 - val_loss: 0.2489 - val_auc_4: 0.7488 - val_accuracy: 0.9204\n",
      "Epoch 19/1000\n",
      "1178/1178 [==============================] - 3s 3ms/step - loss: 0.2472 - auc_4: 0.7619 - accuracy: 0.9194 - val_loss: 0.2487 - val_auc_4: 0.7493 - val_accuracy: 0.9204\n",
      "Epoch 20/1000\n",
      "1178/1178 [==============================] - 4s 3ms/step - loss: 0.2470 - auc_4: 0.7622 - accuracy: 0.9194 - val_loss: 0.2487 - val_auc_4: 0.7494 - val_accuracy: 0.9204\n",
      "Epoch 21/1000\n",
      "1178/1178 [==============================] - 4s 3ms/step - loss: 0.2470 - auc_4: 0.7623 - accuracy: 0.9194 - val_loss: 0.2487 - val_auc_4: 0.7493 - val_accuracy: 0.9204\n",
      "Epoch 22/1000\n",
      "1178/1178 [==============================] - 4s 3ms/step - loss: 0.2467 - auc_4: 0.7630 - accuracy: 0.9194 - val_loss: 0.2486 - val_auc_4: 0.7493 - val_accuracy: 0.9204\n",
      "Epoch 23/1000\n",
      "1178/1178 [==============================] - 4s 3ms/step - loss: 0.2467 - auc_4: 0.7630 - accuracy: 0.9194 - val_loss: 0.2486 - val_auc_4: 0.7494 - val_accuracy: 0.9204\n",
      "Epoch 24/1000\n",
      "1178/1178 [==============================] - 4s 3ms/step - loss: 0.2467 - auc_4: 0.7631 - accuracy: 0.9194 - val_loss: 0.2486 - val_auc_4: 0.7494 - val_accuracy: 0.9204\n",
      "Epoch 25/1000\n",
      "1178/1178 [==============================] - 3s 3ms/step - loss: 0.2467 - auc_4: 0.7631 - accuracy: 0.9194 - val_loss: 0.2486 - val_auc_4: 0.7494 - val_accuracy: 0.9204\n",
      "Epoch 26/1000\n",
      "1178/1178 [==============================] - 3s 3ms/step - loss: 0.2467 - auc_4: 0.7631 - accuracy: 0.9194 - val_loss: 0.2486 - val_auc_4: 0.7494 - val_accuracy: 0.9204\n",
      "Epoch 27/1000\n",
      "1178/1178 [==============================] - 3s 3ms/step - loss: 0.2467 - auc_4: 0.7631 - accuracy: 0.9194 - val_loss: 0.2486 - val_auc_4: 0.7494 - val_accuracy: 0.9204\n",
      "Epoch 28/1000\n",
      "1178/1178 [==============================] - 3s 3ms/step - loss: 0.2467 - auc_4: 0.7631 - accuracy: 0.9194 - val_loss: 0.2486 - val_auc_4: 0.7494 - val_accuracy: 0.9204\n",
      "Epoch 29/1000\n",
      "1178/1178 [==============================] - 3s 3ms/step - loss: 0.2467 - auc_4: 0.7631 - accuracy: 0.9194 - val_loss: 0.2486 - val_auc_4: 0.7494 - val_accuracy: 0.9204\n",
      "2883/2883 [==============================] - 4s 1ms/step - loss: 0.2541 - auc_4: 0.7460 - accuracy: 0.9183\n",
      "2 0.7460380792617798\n"
     ]
    }
   ],
   "source": [
    "dict_of_models_neurons_list = {\"model_1\": [16, 8, 2],\n",
    "\"model_2\": [32, 8, 2],\n",
    "\"model_3\": [16, 16, 16, 4],\n",
    "\"model_4\": [64, 2],\n",
    "\"model_5\": [16, 32, 8, 8]\n",
    "}\n",
    "\n",
    "\n",
    "dict_model_info = {}\n",
    "for key, neurons_list in dict_of_models_neurons_list.items():\n",
    "    dict_model_info = train_model(X_train, y_train, model_val_data, model_test_data, neurons_list=neurons_list, dict_model_info=dict_model_info)\n"
   ]
  },
  {
   "cell_type": "code",
   "execution_count": 3,
   "id": "75e81626",
   "metadata": {},
   "outputs": [
    {
     "name": "stderr",
     "output_type": "stream",
     "text": [
      "[autoreload of hcdr.modeling.deep_learning failed: Traceback (most recent call last):\n",
      "  File \"/home/cmantilla/.pyenv/versions/3.8.6/envs/lewagon/lib/python3.8/site-packages/IPython/extensions/autoreload.py\", line 245, in check\n",
      "    superreload(m, reload, self.old_objects)\n",
      "  File \"/home/cmantilla/.pyenv/versions/3.8.6/envs/lewagon/lib/python3.8/site-packages/IPython/extensions/autoreload.py\", line 394, in superreload\n",
      "    module = reload(module)\n",
      "  File \"/home/cmantilla/.pyenv/versions/3.8.6/lib/python3.8/imp.py\", line 314, in reload\n",
      "    return importlib.reload(module)\n",
      "  File \"/home/cmantilla/.pyenv/versions/3.8.6/lib/python3.8/importlib/__init__.py\", line 169, in reload\n",
      "    _bootstrap._exec(spec, module)\n",
      "  File \"<frozen importlib._bootstrap>\", line 604, in _exec\n",
      "  File \"<frozen importlib._bootstrap_external>\", line 783, in exec_module\n",
      "  File \"<frozen importlib._bootstrap>\", line 219, in _call_with_frames_removed\n",
      "  File \"/home/cmantilla/code/chris14jan/kaggle/package/hcdr/hcdr/modeling/deep_learning.py\", line 3, in <module>\n",
      "    from hcdr.data.data import get_data\n",
      "ImportError: cannot import name 'get_data' from 'hcdr.data.data' (/home/cmantilla/code/chris14jan/kaggle/package/hcdr/hcdr/data/data.py)\n",
      "]\n"
     ]
    },
    {
     "name": "stdout",
     "output_type": "stream",
     "text": [
      "2883/2883 [==============================] - 11s 4ms/step - loss: 0.2828 - auc: 0.5000 - accuracy: 0.9183\n"
     ]
    },
    {
     "ename": "KeyboardInterrupt",
     "evalue": "",
     "output_type": "error",
     "traceback": [
      "\u001b[0;31m---------------------------------------------------------------------------\u001b[0m",
      "\u001b[0;31mKeyboardInterrupt\u001b[0m                         Traceback (most recent call last)",
      "\u001b[0;32m<ipython-input-3-85e405c467ad>\u001b[0m in \u001b[0;36m<module>\u001b[0;34m\u001b[0m\n\u001b[0;32m----> 1\u001b[0;31m \u001b[0mpredict_test_data\u001b[0m\u001b[0;34m(\u001b[0m\u001b[0;34m)\u001b[0m\u001b[0;34m\u001b[0m\u001b[0;34m\u001b[0m\u001b[0m\n\u001b[0m",
      "\u001b[0;32m~/code/chris14jan/kaggle/package/hcdr/hcdr/modeling/deep_learning.py\u001b[0m in \u001b[0;36mpredict_test_data\u001b[0;34m(model_id)\u001b[0m\n\u001b[1;32m    227\u001b[0m     \u001b[0mpath_X_test\u001b[0m \u001b[0;34m=\u001b[0m \u001b[0;34m\"../modeling/data/X_test_xformed.pkl\"\u001b[0m\u001b[0;34m\u001b[0m\u001b[0;34m\u001b[0m\u001b[0m\n\u001b[1;32m    228\u001b[0m     \u001b[0mX_test\u001b[0m \u001b[0;34m=\u001b[0m \u001b[0mpd\u001b[0m\u001b[0;34m.\u001b[0m\u001b[0mread_pickle\u001b[0m\u001b[0;34m(\u001b[0m\u001b[0mpath_X_test\u001b[0m\u001b[0;34m)\u001b[0m\u001b[0;34m\u001b[0m\u001b[0;34m\u001b[0m\u001b[0m\n\u001b[0;32m--> 229\u001b[0;31m     \u001b[0my_test\u001b[0m \u001b[0;34m=\u001b[0m \u001b[0mmodel\u001b[0m\u001b[0;34m.\u001b[0m\u001b[0mpredict\u001b[0m\u001b[0;34m(\u001b[0m\u001b[0mX_test\u001b[0m\u001b[0;34m)\u001b[0m\u001b[0;34m\u001b[0m\u001b[0;34m\u001b[0m\u001b[0m\n\u001b[0m\u001b[1;32m    230\u001b[0m \u001b[0;34m\u001b[0m\u001b[0m\n\u001b[1;32m    231\u001b[0m \u001b[0;34m\u001b[0m\u001b[0m\n",
      "\u001b[0;32m~/.pyenv/versions/3.8.6/envs/lewagon/lib/python3.8/site-packages/tensorflow/python/keras/engine/training.py\u001b[0m in \u001b[0;36mpredict\u001b[0;34m(self, x, batch_size, verbose, steps, callbacks, max_queue_size, workers, use_multiprocessing)\u001b[0m\n\u001b[1;32m   1694\u001b[0m                         '. Consider setting it to AutoShardPolicy.DATA.')\n\u001b[1;32m   1695\u001b[0m \u001b[0;34m\u001b[0m\u001b[0m\n\u001b[0;32m-> 1696\u001b[0;31m       data_handler = data_adapter.get_data_handler(\n\u001b[0m\u001b[1;32m   1697\u001b[0m           \u001b[0mx\u001b[0m\u001b[0;34m=\u001b[0m\u001b[0mx\u001b[0m\u001b[0;34m,\u001b[0m\u001b[0;34m\u001b[0m\u001b[0;34m\u001b[0m\u001b[0m\n\u001b[1;32m   1698\u001b[0m           \u001b[0mbatch_size\u001b[0m\u001b[0;34m=\u001b[0m\u001b[0mbatch_size\u001b[0m\u001b[0;34m,\u001b[0m\u001b[0;34m\u001b[0m\u001b[0;34m\u001b[0m\u001b[0m\n",
      "\u001b[0;32m~/.pyenv/versions/3.8.6/envs/lewagon/lib/python3.8/site-packages/tensorflow/python/keras/engine/data_adapter.py\u001b[0m in \u001b[0;36mget_data_handler\u001b[0;34m(*args, **kwargs)\u001b[0m\n\u001b[1;32m   1362\u001b[0m   \u001b[0;32mif\u001b[0m \u001b[0mgetattr\u001b[0m\u001b[0;34m(\u001b[0m\u001b[0mkwargs\u001b[0m\u001b[0;34m[\u001b[0m\u001b[0;34m\"model\"\u001b[0m\u001b[0;34m]\u001b[0m\u001b[0;34m,\u001b[0m \u001b[0;34m\"_cluster_coordinator\"\u001b[0m\u001b[0;34m,\u001b[0m \u001b[0;32mNone\u001b[0m\u001b[0;34m)\u001b[0m\u001b[0;34m:\u001b[0m\u001b[0;34m\u001b[0m\u001b[0;34m\u001b[0m\u001b[0m\n\u001b[1;32m   1363\u001b[0m     \u001b[0;32mreturn\u001b[0m \u001b[0m_ClusterCoordinatorDataHandler\u001b[0m\u001b[0;34m(\u001b[0m\u001b[0;34m*\u001b[0m\u001b[0margs\u001b[0m\u001b[0;34m,\u001b[0m \u001b[0;34m**\u001b[0m\u001b[0mkwargs\u001b[0m\u001b[0;34m)\u001b[0m\u001b[0;34m\u001b[0m\u001b[0;34m\u001b[0m\u001b[0m\n\u001b[0;32m-> 1364\u001b[0;31m   \u001b[0;32mreturn\u001b[0m \u001b[0mDataHandler\u001b[0m\u001b[0;34m(\u001b[0m\u001b[0;34m*\u001b[0m\u001b[0margs\u001b[0m\u001b[0;34m,\u001b[0m \u001b[0;34m**\u001b[0m\u001b[0mkwargs\u001b[0m\u001b[0;34m)\u001b[0m\u001b[0;34m\u001b[0m\u001b[0;34m\u001b[0m\u001b[0m\n\u001b[0m\u001b[1;32m   1365\u001b[0m \u001b[0;34m\u001b[0m\u001b[0m\n\u001b[1;32m   1366\u001b[0m \u001b[0;34m\u001b[0m\u001b[0m\n",
      "\u001b[0;32m~/.pyenv/versions/3.8.6/envs/lewagon/lib/python3.8/site-packages/tensorflow/python/keras/engine/data_adapter.py\u001b[0m in \u001b[0;36m__init__\u001b[0;34m(self, x, y, sample_weight, batch_size, steps_per_epoch, initial_epoch, epochs, shuffle, class_weight, max_queue_size, workers, use_multiprocessing, model, steps_per_execution, distribute)\u001b[0m\n\u001b[1;32m   1152\u001b[0m     \u001b[0madapter_cls\u001b[0m \u001b[0;34m=\u001b[0m \u001b[0mselect_data_adapter\u001b[0m\u001b[0;34m(\u001b[0m\u001b[0mx\u001b[0m\u001b[0;34m,\u001b[0m \u001b[0my\u001b[0m\u001b[0;34m)\u001b[0m\u001b[0;34m\u001b[0m\u001b[0;34m\u001b[0m\u001b[0m\n\u001b[1;32m   1153\u001b[0m     \u001b[0mself\u001b[0m\u001b[0;34m.\u001b[0m\u001b[0m_verify_data_adapter_compatibility\u001b[0m\u001b[0;34m(\u001b[0m\u001b[0madapter_cls\u001b[0m\u001b[0;34m)\u001b[0m\u001b[0;34m\u001b[0m\u001b[0;34m\u001b[0m\u001b[0m\n\u001b[0;32m-> 1154\u001b[0;31m     self._adapter = adapter_cls(\n\u001b[0m\u001b[1;32m   1155\u001b[0m         \u001b[0mx\u001b[0m\u001b[0;34m,\u001b[0m\u001b[0;34m\u001b[0m\u001b[0;34m\u001b[0m\u001b[0m\n\u001b[1;32m   1156\u001b[0m         \u001b[0my\u001b[0m\u001b[0;34m,\u001b[0m\u001b[0;34m\u001b[0m\u001b[0;34m\u001b[0m\u001b[0m\n",
      "\u001b[0;32m~/.pyenv/versions/3.8.6/envs/lewagon/lib/python3.8/site-packages/tensorflow/python/keras/engine/data_adapter.py\u001b[0m in \u001b[0;36m__init__\u001b[0;34m(self, x, y, sample_weights, sample_weight_modes, batch_size, epochs, steps, shuffle, **kwargs)\u001b[0m\n\u001b[1;32m    337\u001b[0m     \u001b[0mindices_dataset\u001b[0m \u001b[0;34m=\u001b[0m \u001b[0mindices_dataset\u001b[0m\u001b[0;34m.\u001b[0m\u001b[0mflat_map\u001b[0m\u001b[0;34m(\u001b[0m\u001b[0mslice_batch_indices\u001b[0m\u001b[0;34m)\u001b[0m\u001b[0;34m\u001b[0m\u001b[0;34m\u001b[0m\u001b[0m\n\u001b[1;32m    338\u001b[0m \u001b[0;34m\u001b[0m\u001b[0m\n\u001b[0;32m--> 339\u001b[0;31m     \u001b[0mdataset\u001b[0m \u001b[0;34m=\u001b[0m \u001b[0mself\u001b[0m\u001b[0;34m.\u001b[0m\u001b[0mslice_inputs\u001b[0m\u001b[0;34m(\u001b[0m\u001b[0mindices_dataset\u001b[0m\u001b[0;34m,\u001b[0m \u001b[0minputs\u001b[0m\u001b[0;34m)\u001b[0m\u001b[0;34m\u001b[0m\u001b[0;34m\u001b[0m\u001b[0m\n\u001b[0m\u001b[1;32m    340\u001b[0m \u001b[0;34m\u001b[0m\u001b[0m\n\u001b[1;32m    341\u001b[0m     \u001b[0;32mif\u001b[0m \u001b[0mshuffle\u001b[0m \u001b[0;34m==\u001b[0m \u001b[0;34m\"batch\"\u001b[0m\u001b[0;34m:\u001b[0m\u001b[0;34m\u001b[0m\u001b[0;34m\u001b[0m\u001b[0m\n",
      "\u001b[0;32m~/.pyenv/versions/3.8.6/envs/lewagon/lib/python3.8/site-packages/tensorflow/python/keras/engine/data_adapter.py\u001b[0m in \u001b[0;36mslice_inputs\u001b[0;34m(self, indices_dataset, inputs)\u001b[0m\n\u001b[1;32m    363\u001b[0m     dataset = dataset_ops.DatasetV2.zip((\n\u001b[1;32m    364\u001b[0m         \u001b[0mindices_dataset\u001b[0m\u001b[0;34m,\u001b[0m\u001b[0;34m\u001b[0m\u001b[0;34m\u001b[0m\u001b[0m\n\u001b[0;32m--> 365\u001b[0;31m         \u001b[0mdataset_ops\u001b[0m\u001b[0;34m.\u001b[0m\u001b[0mDatasetV2\u001b[0m\u001b[0;34m.\u001b[0m\u001b[0mfrom_tensors\u001b[0m\u001b[0;34m(\u001b[0m\u001b[0minputs\u001b[0m\u001b[0;34m)\u001b[0m\u001b[0;34m.\u001b[0m\u001b[0mrepeat\u001b[0m\u001b[0;34m(\u001b[0m\u001b[0;34m)\u001b[0m\u001b[0;34m\u001b[0m\u001b[0;34m\u001b[0m\u001b[0m\n\u001b[0m\u001b[1;32m    366\u001b[0m     ))\n\u001b[1;32m    367\u001b[0m \u001b[0;34m\u001b[0m\u001b[0m\n",
      "\u001b[0;32m~/.pyenv/versions/3.8.6/envs/lewagon/lib/python3.8/site-packages/tensorflow/python/data/ops/dataset_ops.py\u001b[0m in \u001b[0;36mfrom_tensors\u001b[0;34m(tensors)\u001b[0m\n\u001b[1;32m    679\u001b[0m       \u001b[0mDataset\u001b[0m\u001b[0;34m:\u001b[0m \u001b[0mA\u001b[0m\u001b[0;31m \u001b[0m\u001b[0;31m`\u001b[0m\u001b[0mDataset\u001b[0m\u001b[0;31m`\u001b[0m\u001b[0;34m.\u001b[0m\u001b[0;34m\u001b[0m\u001b[0;34m\u001b[0m\u001b[0m\n\u001b[1;32m    680\u001b[0m     \"\"\"\n\u001b[0;32m--> 681\u001b[0;31m     \u001b[0;32mreturn\u001b[0m \u001b[0mTensorDataset\u001b[0m\u001b[0;34m(\u001b[0m\u001b[0mtensors\u001b[0m\u001b[0;34m)\u001b[0m\u001b[0;34m\u001b[0m\u001b[0;34m\u001b[0m\u001b[0m\n\u001b[0m\u001b[1;32m    682\u001b[0m \u001b[0;34m\u001b[0m\u001b[0m\n\u001b[1;32m    683\u001b[0m   \u001b[0;34m@\u001b[0m\u001b[0mstaticmethod\u001b[0m\u001b[0;34m\u001b[0m\u001b[0;34m\u001b[0m\u001b[0m\n",
      "\u001b[0;32m~/.pyenv/versions/3.8.6/envs/lewagon/lib/python3.8/site-packages/tensorflow/python/data/ops/dataset_ops.py\u001b[0m in \u001b[0;36m__init__\u001b[0;34m(self, element)\u001b[0m\n\u001b[1;32m   3299\u001b[0m   \u001b[0;32mdef\u001b[0m \u001b[0m__init__\u001b[0m\u001b[0;34m(\u001b[0m\u001b[0mself\u001b[0m\u001b[0;34m,\u001b[0m \u001b[0melement\u001b[0m\u001b[0;34m)\u001b[0m\u001b[0;34m:\u001b[0m\u001b[0;34m\u001b[0m\u001b[0;34m\u001b[0m\u001b[0m\n\u001b[1;32m   3300\u001b[0m     \u001b[0;34m\"\"\"See `Dataset.from_tensors()` for details.\"\"\"\u001b[0m\u001b[0;34m\u001b[0m\u001b[0;34m\u001b[0m\u001b[0m\n\u001b[0;32m-> 3301\u001b[0;31m     \u001b[0melement\u001b[0m \u001b[0;34m=\u001b[0m \u001b[0mstructure\u001b[0m\u001b[0;34m.\u001b[0m\u001b[0mnormalize_element\u001b[0m\u001b[0;34m(\u001b[0m\u001b[0melement\u001b[0m\u001b[0;34m)\u001b[0m\u001b[0;34m\u001b[0m\u001b[0;34m\u001b[0m\u001b[0m\n\u001b[0m\u001b[1;32m   3302\u001b[0m     \u001b[0mself\u001b[0m\u001b[0;34m.\u001b[0m\u001b[0m_structure\u001b[0m \u001b[0;34m=\u001b[0m \u001b[0mstructure\u001b[0m\u001b[0;34m.\u001b[0m\u001b[0mtype_spec_from_value\u001b[0m\u001b[0;34m(\u001b[0m\u001b[0melement\u001b[0m\u001b[0;34m)\u001b[0m\u001b[0;34m\u001b[0m\u001b[0;34m\u001b[0m\u001b[0m\n\u001b[1;32m   3303\u001b[0m     \u001b[0mself\u001b[0m\u001b[0;34m.\u001b[0m\u001b[0m_tensors\u001b[0m \u001b[0;34m=\u001b[0m \u001b[0mstructure\u001b[0m\u001b[0;34m.\u001b[0m\u001b[0mto_tensor_list\u001b[0m\u001b[0;34m(\u001b[0m\u001b[0mself\u001b[0m\u001b[0;34m.\u001b[0m\u001b[0m_structure\u001b[0m\u001b[0;34m,\u001b[0m \u001b[0melement\u001b[0m\u001b[0;34m)\u001b[0m\u001b[0;34m\u001b[0m\u001b[0;34m\u001b[0m\u001b[0m\n",
      "\u001b[0;32m~/.pyenv/versions/3.8.6/envs/lewagon/lib/python3.8/site-packages/tensorflow/python/data/util/structure.py\u001b[0m in \u001b[0;36mnormalize_element\u001b[0;34m(element, element_signature)\u001b[0m\n\u001b[1;32m    104\u001b[0m       \u001b[0;32mtry\u001b[0m\u001b[0;34m:\u001b[0m\u001b[0;34m\u001b[0m\u001b[0;34m\u001b[0m\u001b[0m\n\u001b[1;32m    105\u001b[0m         \u001b[0;32mif\u001b[0m \u001b[0mspec\u001b[0m \u001b[0;32mis\u001b[0m \u001b[0;32mNone\u001b[0m\u001b[0;34m:\u001b[0m\u001b[0;34m\u001b[0m\u001b[0;34m\u001b[0m\u001b[0m\n\u001b[0;32m--> 106\u001b[0;31m           \u001b[0mspec\u001b[0m \u001b[0;34m=\u001b[0m \u001b[0mtype_spec_from_value\u001b[0m\u001b[0;34m(\u001b[0m\u001b[0mt\u001b[0m\u001b[0;34m,\u001b[0m \u001b[0muse_fallback\u001b[0m\u001b[0;34m=\u001b[0m\u001b[0;32mFalse\u001b[0m\u001b[0;34m)\u001b[0m\u001b[0;34m\u001b[0m\u001b[0;34m\u001b[0m\u001b[0m\n\u001b[0m\u001b[1;32m    107\u001b[0m       \u001b[0;32mexcept\u001b[0m \u001b[0mTypeError\u001b[0m\u001b[0;34m:\u001b[0m\u001b[0;34m\u001b[0m\u001b[0;34m\u001b[0m\u001b[0m\n\u001b[1;32m    108\u001b[0m         \u001b[0;31m# TypeError indicates it was not possible to compute a `TypeSpec` for\u001b[0m\u001b[0;34m\u001b[0m\u001b[0;34m\u001b[0m\u001b[0;34m\u001b[0m\u001b[0m\n",
      "\u001b[0;32m~/.pyenv/versions/3.8.6/envs/lewagon/lib/python3.8/site-packages/tensorflow/python/data/util/structure.py\u001b[0m in \u001b[0;36mtype_spec_from_value\u001b[0;34m(element, use_fallback)\u001b[0m\n\u001b[1;32m    477\u001b[0m           3, \"Failed to convert %r to tensor: %s\" % (type(element).__name__, e))\n\u001b[1;32m    478\u001b[0m \u001b[0;34m\u001b[0m\u001b[0m\n\u001b[0;32m--> 479\u001b[0;31m   raise TypeError(\"Could not build a TypeSpec for %r with type %s\" %\n\u001b[0m\u001b[1;32m    480\u001b[0m                   (element, type(element).__name__))\n\u001b[1;32m    481\u001b[0m \u001b[0;34m\u001b[0m\u001b[0m\n",
      "\u001b[0;32m~/.pyenv/versions/3.8.6/envs/lewagon/lib/python3.8/site-packages/pandas/core/frame.py\u001b[0m in \u001b[0;36m__repr__\u001b[0;34m(self)\u001b[0m\n\u001b[1;32m    801\u001b[0m         \u001b[0;32melse\u001b[0m\u001b[0;34m:\u001b[0m\u001b[0;34m\u001b[0m\u001b[0;34m\u001b[0m\u001b[0m\n\u001b[1;32m    802\u001b[0m             \u001b[0mwidth\u001b[0m \u001b[0;34m=\u001b[0m \u001b[0;32mNone\u001b[0m\u001b[0;34m\u001b[0m\u001b[0;34m\u001b[0m\u001b[0m\n\u001b[0;32m--> 803\u001b[0;31m         self.to_string(\n\u001b[0m\u001b[1;32m    804\u001b[0m             \u001b[0mbuf\u001b[0m\u001b[0;34m=\u001b[0m\u001b[0mbuf\u001b[0m\u001b[0;34m,\u001b[0m\u001b[0;34m\u001b[0m\u001b[0;34m\u001b[0m\u001b[0m\n\u001b[1;32m    805\u001b[0m             \u001b[0mmax_rows\u001b[0m\u001b[0;34m=\u001b[0m\u001b[0mmax_rows\u001b[0m\u001b[0;34m,\u001b[0m\u001b[0;34m\u001b[0m\u001b[0;34m\u001b[0m\u001b[0m\n",
      "\u001b[0;32m~/.pyenv/versions/3.8.6/envs/lewagon/lib/python3.8/site-packages/pandas/core/frame.py\u001b[0m in \u001b[0;36mto_string\u001b[0;34m(self, buf, columns, col_space, header, index, na_rep, formatters, float_format, sparsify, index_names, justify, max_rows, min_rows, max_cols, show_dimensions, decimal, line_width, max_colwidth, encoding)\u001b[0m\n\u001b[1;32m    919\u001b[0m \u001b[0;34m\u001b[0m\u001b[0m\n\u001b[1;32m    920\u001b[0m         \u001b[0;32mwith\u001b[0m \u001b[0moption_context\u001b[0m\u001b[0;34m(\u001b[0m\u001b[0;34m\"display.max_colwidth\"\u001b[0m\u001b[0;34m,\u001b[0m \u001b[0mmax_colwidth\u001b[0m\u001b[0;34m)\u001b[0m\u001b[0;34m:\u001b[0m\u001b[0;34m\u001b[0m\u001b[0;34m\u001b[0m\u001b[0m\n\u001b[0;32m--> 921\u001b[0;31m             formatter = fmt.DataFrameFormatter(\n\u001b[0m\u001b[1;32m    922\u001b[0m                 \u001b[0mself\u001b[0m\u001b[0;34m,\u001b[0m\u001b[0;34m\u001b[0m\u001b[0;34m\u001b[0m\u001b[0m\n\u001b[1;32m    923\u001b[0m                 \u001b[0mcolumns\u001b[0m\u001b[0;34m=\u001b[0m\u001b[0mcolumns\u001b[0m\u001b[0;34m,\u001b[0m\u001b[0;34m\u001b[0m\u001b[0;34m\u001b[0m\u001b[0m\n",
      "\u001b[0;32m~/.pyenv/versions/3.8.6/envs/lewagon/lib/python3.8/site-packages/pandas/io/formats/format.py\u001b[0m in \u001b[0;36m__init__\u001b[0;34m(self, frame, columns, col_space, header, index, na_rep, formatters, justify, float_format, sparsify, index_names, max_rows, min_rows, max_cols, show_dimensions, decimal, bold_rows, escape)\u001b[0m\n\u001b[1;32m    510\u001b[0m \u001b[0;34m\u001b[0m\u001b[0m\n\u001b[1;32m    511\u001b[0m         \u001b[0mself\u001b[0m\u001b[0;34m.\u001b[0m\u001b[0mtr_frame\u001b[0m \u001b[0;34m=\u001b[0m \u001b[0mself\u001b[0m\u001b[0;34m.\u001b[0m\u001b[0mframe\u001b[0m\u001b[0;34m\u001b[0m\u001b[0;34m\u001b[0m\u001b[0m\n\u001b[0;32m--> 512\u001b[0;31m         \u001b[0mself\u001b[0m\u001b[0;34m.\u001b[0m\u001b[0mtruncate\u001b[0m\u001b[0;34m(\u001b[0m\u001b[0;34m)\u001b[0m\u001b[0;34m\u001b[0m\u001b[0;34m\u001b[0m\u001b[0m\n\u001b[0m\u001b[1;32m    513\u001b[0m         \u001b[0mself\u001b[0m\u001b[0;34m.\u001b[0m\u001b[0madj\u001b[0m \u001b[0;34m=\u001b[0m \u001b[0mget_adjustment\u001b[0m\u001b[0;34m(\u001b[0m\u001b[0;34m)\u001b[0m\u001b[0;34m\u001b[0m\u001b[0;34m\u001b[0m\u001b[0m\n\u001b[1;32m    514\u001b[0m \u001b[0;34m\u001b[0m\u001b[0m\n",
      "\u001b[0;32m~/.pyenv/versions/3.8.6/envs/lewagon/lib/python3.8/site-packages/pandas/io/formats/format.py\u001b[0m in \u001b[0;36mtruncate\u001b[0;34m(self)\u001b[0m\n\u001b[1;32m    698\u001b[0m         \"\"\"\n\u001b[1;32m    699\u001b[0m         \u001b[0;32mif\u001b[0m \u001b[0mself\u001b[0m\u001b[0;34m.\u001b[0m\u001b[0mis_truncated_horizontally\u001b[0m\u001b[0;34m:\u001b[0m\u001b[0;34m\u001b[0m\u001b[0;34m\u001b[0m\u001b[0m\n\u001b[0;32m--> 700\u001b[0;31m             \u001b[0mself\u001b[0m\u001b[0;34m.\u001b[0m\u001b[0m_truncate_horizontally\u001b[0m\u001b[0;34m(\u001b[0m\u001b[0;34m)\u001b[0m\u001b[0;34m\u001b[0m\u001b[0;34m\u001b[0m\u001b[0m\n\u001b[0m\u001b[1;32m    701\u001b[0m \u001b[0;34m\u001b[0m\u001b[0m\n\u001b[1;32m    702\u001b[0m         \u001b[0;32mif\u001b[0m \u001b[0mself\u001b[0m\u001b[0;34m.\u001b[0m\u001b[0mis_truncated_vertically\u001b[0m\u001b[0;34m:\u001b[0m\u001b[0;34m\u001b[0m\u001b[0;34m\u001b[0m\u001b[0m\n",
      "\u001b[0;32m~/.pyenv/versions/3.8.6/envs/lewagon/lib/python3.8/site-packages/pandas/io/formats/format.py\u001b[0m in \u001b[0;36m_truncate_horizontally\u001b[0;34m(self)\u001b[0m\n\u001b[1;32m    716\u001b[0m             \u001b[0mleft\u001b[0m \u001b[0;34m=\u001b[0m \u001b[0mself\u001b[0m\u001b[0;34m.\u001b[0m\u001b[0mtr_frame\u001b[0m\u001b[0;34m.\u001b[0m\u001b[0miloc\u001b[0m\u001b[0;34m[\u001b[0m\u001b[0;34m:\u001b[0m\u001b[0;34m,\u001b[0m \u001b[0;34m:\u001b[0m\u001b[0mcol_num\u001b[0m\u001b[0;34m]\u001b[0m\u001b[0;34m\u001b[0m\u001b[0;34m\u001b[0m\u001b[0m\n\u001b[1;32m    717\u001b[0m             \u001b[0mright\u001b[0m \u001b[0;34m=\u001b[0m \u001b[0mself\u001b[0m\u001b[0;34m.\u001b[0m\u001b[0mtr_frame\u001b[0m\u001b[0;34m.\u001b[0m\u001b[0miloc\u001b[0m\u001b[0;34m[\u001b[0m\u001b[0;34m:\u001b[0m\u001b[0;34m,\u001b[0m \u001b[0;34m-\u001b[0m\u001b[0mcol_num\u001b[0m\u001b[0;34m:\u001b[0m\u001b[0;34m]\u001b[0m\u001b[0;34m\u001b[0m\u001b[0;34m\u001b[0m\u001b[0m\n\u001b[0;32m--> 718\u001b[0;31m             \u001b[0mself\u001b[0m\u001b[0;34m.\u001b[0m\u001b[0mtr_frame\u001b[0m \u001b[0;34m=\u001b[0m \u001b[0mconcat\u001b[0m\u001b[0;34m(\u001b[0m\u001b[0;34m(\u001b[0m\u001b[0mleft\u001b[0m\u001b[0;34m,\u001b[0m \u001b[0mright\u001b[0m\u001b[0;34m)\u001b[0m\u001b[0;34m,\u001b[0m \u001b[0maxis\u001b[0m\u001b[0;34m=\u001b[0m\u001b[0;36m1\u001b[0m\u001b[0;34m)\u001b[0m\u001b[0;34m\u001b[0m\u001b[0;34m\u001b[0m\u001b[0m\n\u001b[0m\u001b[1;32m    719\u001b[0m \u001b[0;34m\u001b[0m\u001b[0m\n\u001b[1;32m    720\u001b[0m             \u001b[0;31m# truncate formatter\u001b[0m\u001b[0;34m\u001b[0m\u001b[0;34m\u001b[0m\u001b[0;34m\u001b[0m\u001b[0m\n",
      "\u001b[0;32m~/.pyenv/versions/3.8.6/envs/lewagon/lib/python3.8/site-packages/pandas/core/reshape/concat.py\u001b[0m in \u001b[0;36mconcat\u001b[0;34m(objs, axis, join, ignore_index, keys, levels, names, verify_integrity, sort, copy)\u001b[0m\n\u001b[1;32m    296\u001b[0m     )\n\u001b[1;32m    297\u001b[0m \u001b[0;34m\u001b[0m\u001b[0m\n\u001b[0;32m--> 298\u001b[0;31m     \u001b[0;32mreturn\u001b[0m \u001b[0mop\u001b[0m\u001b[0;34m.\u001b[0m\u001b[0mget_result\u001b[0m\u001b[0;34m(\u001b[0m\u001b[0;34m)\u001b[0m\u001b[0;34m\u001b[0m\u001b[0;34m\u001b[0m\u001b[0m\n\u001b[0m\u001b[1;32m    299\u001b[0m \u001b[0;34m\u001b[0m\u001b[0m\n\u001b[1;32m    300\u001b[0m \u001b[0;34m\u001b[0m\u001b[0m\n",
      "\u001b[0;32m~/.pyenv/versions/3.8.6/envs/lewagon/lib/python3.8/site-packages/pandas/core/reshape/concat.py\u001b[0m in \u001b[0;36mget_result\u001b[0;34m(self)\u001b[0m\n\u001b[1;32m    518\u001b[0m                 \u001b[0mmgrs_indexers\u001b[0m\u001b[0;34m.\u001b[0m\u001b[0mappend\u001b[0m\u001b[0;34m(\u001b[0m\u001b[0;34m(\u001b[0m\u001b[0mobj\u001b[0m\u001b[0;34m.\u001b[0m\u001b[0m_mgr\u001b[0m\u001b[0;34m,\u001b[0m \u001b[0mindexers\u001b[0m\u001b[0;34m)\u001b[0m\u001b[0;34m)\u001b[0m\u001b[0;34m\u001b[0m\u001b[0;34m\u001b[0m\u001b[0m\n\u001b[1;32m    519\u001b[0m \u001b[0;34m\u001b[0m\u001b[0m\n\u001b[0;32m--> 520\u001b[0;31m             new_data = concatenate_block_managers(\n\u001b[0m\u001b[1;32m    521\u001b[0m                 \u001b[0mmgrs_indexers\u001b[0m\u001b[0;34m,\u001b[0m \u001b[0mself\u001b[0m\u001b[0;34m.\u001b[0m\u001b[0mnew_axes\u001b[0m\u001b[0;34m,\u001b[0m \u001b[0mconcat_axis\u001b[0m\u001b[0;34m=\u001b[0m\u001b[0mself\u001b[0m\u001b[0;34m.\u001b[0m\u001b[0mbm_axis\u001b[0m\u001b[0;34m,\u001b[0m \u001b[0mcopy\u001b[0m\u001b[0;34m=\u001b[0m\u001b[0mself\u001b[0m\u001b[0;34m.\u001b[0m\u001b[0mcopy\u001b[0m\u001b[0;34m\u001b[0m\u001b[0;34m\u001b[0m\u001b[0m\n\u001b[1;32m    522\u001b[0m             )\n",
      "\u001b[0;32m~/.pyenv/versions/3.8.6/envs/lewagon/lib/python3.8/site-packages/pandas/core/internals/concat.py\u001b[0m in \u001b[0;36mconcatenate_block_managers\u001b[0;34m(mgrs_indexers, axes, concat_axis, copy)\u001b[0m\n\u001b[1;32m     62\u001b[0m             \u001b[0mvalues\u001b[0m \u001b[0;34m=\u001b[0m \u001b[0mb\u001b[0m\u001b[0;34m.\u001b[0m\u001b[0mvalues\u001b[0m\u001b[0;34m\u001b[0m\u001b[0;34m\u001b[0m\u001b[0m\n\u001b[1;32m     63\u001b[0m             \u001b[0;32mif\u001b[0m \u001b[0mcopy\u001b[0m\u001b[0;34m:\u001b[0m\u001b[0;34m\u001b[0m\u001b[0;34m\u001b[0m\u001b[0m\n\u001b[0;32m---> 64\u001b[0;31m                 \u001b[0mvalues\u001b[0m \u001b[0;34m=\u001b[0m \u001b[0mvalues\u001b[0m\u001b[0;34m.\u001b[0m\u001b[0mcopy\u001b[0m\u001b[0;34m(\u001b[0m\u001b[0;34m)\u001b[0m\u001b[0;34m\u001b[0m\u001b[0;34m\u001b[0m\u001b[0m\n\u001b[0m\u001b[1;32m     65\u001b[0m             \u001b[0;32melse\u001b[0m\u001b[0;34m:\u001b[0m\u001b[0;34m\u001b[0m\u001b[0;34m\u001b[0m\u001b[0m\n\u001b[1;32m     66\u001b[0m                 \u001b[0mvalues\u001b[0m \u001b[0;34m=\u001b[0m \u001b[0mvalues\u001b[0m\u001b[0;34m.\u001b[0m\u001b[0mview\u001b[0m\u001b[0;34m(\u001b[0m\u001b[0;34m)\u001b[0m\u001b[0;34m\u001b[0m\u001b[0;34m\u001b[0m\u001b[0m\n",
      "\u001b[0;31mKeyboardInterrupt\u001b[0m: "
     ]
    }
   ],
   "source": [
    "predict_test_data()"
   ]
  },
  {
   "cell_type": "code",
   "execution_count": 2,
   "id": "4233f123",
   "metadata": {
    "scrolled": true
   },
   "outputs": [
    {
     "name": "stdout",
     "output_type": "stream",
     "text": [
      "2883/2883 [==============================] - 5s 1ms/step - loss: 0.2828 - auc: 0.5000 - accuracy: 0.9183\n",
      "1 [0.07998532]\n",
      "2883/2883 [==============================] - 4s 1ms/step - loss: 0.2541 - auc_4: 0.7460 - accuracy: 0.9183\n",
      "2 [0.02888796]\n"
     ]
    },
    {
     "ename": "OSError",
     "evalue": "SavedModel file does not exist at: ../modeling/tf_model_3.h5/{saved_model.pbtxt|saved_model.pb}",
     "output_type": "error",
     "traceback": [
      "\u001b[0;31m---------------------------------------------------------------------------\u001b[0m",
      "\u001b[0;31mOSError\u001b[0m                                   Traceback (most recent call last)",
      "\u001b[0;32m<ipython-input-2-4d5545f1fed2>\u001b[0m in \u001b[0;36m<module>\u001b[0;34m\u001b[0m\n\u001b[1;32m      6\u001b[0m }\n\u001b[1;32m      7\u001b[0m \u001b[0;32mfor\u001b[0m \u001b[0mi\u001b[0m \u001b[0;32min\u001b[0m \u001b[0mrange\u001b[0m\u001b[0;34m(\u001b[0m\u001b[0;36m1\u001b[0m\u001b[0;34m,\u001b[0m \u001b[0mlen\u001b[0m\u001b[0;34m(\u001b[0m\u001b[0mdict_of_models_neurons_list\u001b[0m\u001b[0;34m)\u001b[0m\u001b[0;34m+\u001b[0m\u001b[0;36m1\u001b[0m\u001b[0;34m)\u001b[0m\u001b[0;34m:\u001b[0m\u001b[0;34m\u001b[0m\u001b[0;34m\u001b[0m\u001b[0m\n\u001b[0;32m----> 8\u001b[0;31m     \u001b[0mprint\u001b[0m\u001b[0;34m(\u001b[0m\u001b[0mi\u001b[0m\u001b[0;34m,\u001b[0m \u001b[0mpredict_test_data\u001b[0m\u001b[0;34m(\u001b[0m\u001b[0mi\u001b[0m\u001b[0;34m)\u001b[0m\u001b[0;34m[\u001b[0m\u001b[0;36m2\u001b[0m\u001b[0;34m]\u001b[0m\u001b[0;34m)\u001b[0m\u001b[0;34m\u001b[0m\u001b[0;34m\u001b[0m\u001b[0m\n\u001b[0m",
      "\u001b[0;32m~/code/chris14jan/kaggle/package/hcdr/hcdr/modeling/deep_learning.py\u001b[0m in \u001b[0;36mpredict_test_data\u001b[0;34m(model_id)\u001b[0m\n\u001b[1;32m    215\u001b[0m \u001b[0;32mdef\u001b[0m \u001b[0mpredict_test_data\u001b[0m\u001b[0;34m(\u001b[0m\u001b[0mmodel_id\u001b[0m\u001b[0;34m=\u001b[0m\u001b[0;36m1\u001b[0m\u001b[0;34m)\u001b[0m\u001b[0;34m:\u001b[0m\u001b[0;34m\u001b[0m\u001b[0;34m\u001b[0m\u001b[0m\n\u001b[1;32m    216\u001b[0m     \u001b[0mmodel_path\u001b[0m \u001b[0;34m=\u001b[0m \u001b[0;34m\"../modeling/tf_model_\"\u001b[0m\u001b[0;34m+\u001b[0m\u001b[0mstr\u001b[0m\u001b[0;34m(\u001b[0m\u001b[0mmodel_id\u001b[0m\u001b[0;34m)\u001b[0m\u001b[0;34m+\u001b[0m\u001b[0;34m\".h5\"\u001b[0m\u001b[0;34m\u001b[0m\u001b[0;34m\u001b[0m\u001b[0m\n\u001b[0;32m--> 217\u001b[0;31m     \u001b[0mmodel\u001b[0m \u001b[0;34m=\u001b[0m \u001b[0mtf\u001b[0m\u001b[0;34m.\u001b[0m\u001b[0mkeras\u001b[0m\u001b[0;34m.\u001b[0m\u001b[0mmodels\u001b[0m\u001b[0;34m.\u001b[0m\u001b[0mload_model\u001b[0m\u001b[0;34m(\u001b[0m\u001b[0mmodel_path\u001b[0m\u001b[0;34m,\u001b[0m \u001b[0mcompile\u001b[0m\u001b[0;34m=\u001b[0m\u001b[0;32mTrue\u001b[0m\u001b[0;34m)\u001b[0m\u001b[0;34m\u001b[0m\u001b[0;34m\u001b[0m\u001b[0m\n\u001b[0m\u001b[1;32m    218\u001b[0m     \u001b[0;31m# model = compile_model(model)\u001b[0m\u001b[0;34m\u001b[0m\u001b[0;34m\u001b[0m\u001b[0;34m\u001b[0m\u001b[0m\n\u001b[1;32m    219\u001b[0m \u001b[0;34m\u001b[0m\u001b[0m\n",
      "\u001b[0;32m~/.pyenv/versions/3.8.6/envs/lewagon/lib/python3.8/site-packages/tensorflow/python/keras/saving/save.py\u001b[0m in \u001b[0;36mload_model\u001b[0;34m(filepath, custom_objects, compile, options)\u001b[0m\n\u001b[1;32m    204\u001b[0m         \u001b[0mfilepath\u001b[0m \u001b[0;34m=\u001b[0m \u001b[0mpath_to_string\u001b[0m\u001b[0;34m(\u001b[0m\u001b[0mfilepath\u001b[0m\u001b[0;34m)\u001b[0m\u001b[0;34m\u001b[0m\u001b[0;34m\u001b[0m\u001b[0m\n\u001b[1;32m    205\u001b[0m         \u001b[0;32mif\u001b[0m \u001b[0misinstance\u001b[0m\u001b[0;34m(\u001b[0m\u001b[0mfilepath\u001b[0m\u001b[0;34m,\u001b[0m \u001b[0mstr\u001b[0m\u001b[0;34m)\u001b[0m\u001b[0;34m:\u001b[0m\u001b[0;34m\u001b[0m\u001b[0;34m\u001b[0m\u001b[0m\n\u001b[0;32m--> 206\u001b[0;31m           \u001b[0;32mreturn\u001b[0m \u001b[0msaved_model_load\u001b[0m\u001b[0;34m.\u001b[0m\u001b[0mload\u001b[0m\u001b[0;34m(\u001b[0m\u001b[0mfilepath\u001b[0m\u001b[0;34m,\u001b[0m \u001b[0mcompile\u001b[0m\u001b[0;34m,\u001b[0m \u001b[0moptions\u001b[0m\u001b[0;34m)\u001b[0m\u001b[0;34m\u001b[0m\u001b[0;34m\u001b[0m\u001b[0m\n\u001b[0m\u001b[1;32m    207\u001b[0m \u001b[0;34m\u001b[0m\u001b[0m\n\u001b[1;32m    208\u001b[0m   raise IOError(\n",
      "\u001b[0;32m~/.pyenv/versions/3.8.6/envs/lewagon/lib/python3.8/site-packages/tensorflow/python/keras/saving/saved_model/load.py\u001b[0m in \u001b[0;36mload\u001b[0;34m(path, compile, options)\u001b[0m\n\u001b[1;32m    119\u001b[0m   \u001b[0;31m# Look for metadata file or parse the SavedModel\u001b[0m\u001b[0;34m\u001b[0m\u001b[0;34m\u001b[0m\u001b[0;34m\u001b[0m\u001b[0m\n\u001b[1;32m    120\u001b[0m   \u001b[0mmetadata\u001b[0m \u001b[0;34m=\u001b[0m \u001b[0msaved_metadata_pb2\u001b[0m\u001b[0;34m.\u001b[0m\u001b[0mSavedMetadata\u001b[0m\u001b[0;34m(\u001b[0m\u001b[0;34m)\u001b[0m\u001b[0;34m\u001b[0m\u001b[0;34m\u001b[0m\u001b[0m\n\u001b[0;32m--> 121\u001b[0;31m   \u001b[0mmeta_graph_def\u001b[0m \u001b[0;34m=\u001b[0m \u001b[0mloader_impl\u001b[0m\u001b[0;34m.\u001b[0m\u001b[0mparse_saved_model\u001b[0m\u001b[0;34m(\u001b[0m\u001b[0mpath\u001b[0m\u001b[0;34m)\u001b[0m\u001b[0;34m.\u001b[0m\u001b[0mmeta_graphs\u001b[0m\u001b[0;34m[\u001b[0m\u001b[0;36m0\u001b[0m\u001b[0;34m]\u001b[0m\u001b[0;34m\u001b[0m\u001b[0;34m\u001b[0m\u001b[0m\n\u001b[0m\u001b[1;32m    122\u001b[0m   \u001b[0mobject_graph_def\u001b[0m \u001b[0;34m=\u001b[0m \u001b[0mmeta_graph_def\u001b[0m\u001b[0;34m.\u001b[0m\u001b[0mobject_graph_def\u001b[0m\u001b[0;34m\u001b[0m\u001b[0;34m\u001b[0m\u001b[0m\n\u001b[1;32m    123\u001b[0m   \u001b[0mpath_to_metadata_pb\u001b[0m \u001b[0;34m=\u001b[0m \u001b[0mos\u001b[0m\u001b[0;34m.\u001b[0m\u001b[0mpath\u001b[0m\u001b[0;34m.\u001b[0m\u001b[0mjoin\u001b[0m\u001b[0;34m(\u001b[0m\u001b[0mpath\u001b[0m\u001b[0;34m,\u001b[0m \u001b[0mconstants\u001b[0m\u001b[0;34m.\u001b[0m\u001b[0mSAVED_METADATA_PATH\u001b[0m\u001b[0;34m)\u001b[0m\u001b[0;34m\u001b[0m\u001b[0;34m\u001b[0m\u001b[0m\n",
      "\u001b[0;32m~/.pyenv/versions/3.8.6/envs/lewagon/lib/python3.8/site-packages/tensorflow/python/saved_model/loader_impl.py\u001b[0m in \u001b[0;36mparse_saved_model\u001b[0;34m(export_dir)\u001b[0m\n\u001b[1;32m    111\u001b[0m       \u001b[0;32mraise\u001b[0m \u001b[0mIOError\u001b[0m\u001b[0;34m(\u001b[0m\u001b[0;34m\"Cannot parse file %s: %s.\"\u001b[0m \u001b[0;34m%\u001b[0m \u001b[0;34m(\u001b[0m\u001b[0mpath_to_pbtxt\u001b[0m\u001b[0;34m,\u001b[0m \u001b[0mstr\u001b[0m\u001b[0;34m(\u001b[0m\u001b[0me\u001b[0m\u001b[0;34m)\u001b[0m\u001b[0;34m)\u001b[0m\u001b[0;34m)\u001b[0m\u001b[0;34m\u001b[0m\u001b[0;34m\u001b[0m\u001b[0m\n\u001b[1;32m    112\u001b[0m   \u001b[0;32melse\u001b[0m\u001b[0;34m:\u001b[0m\u001b[0;34m\u001b[0m\u001b[0;34m\u001b[0m\u001b[0m\n\u001b[0;32m--> 113\u001b[0;31m     raise IOError(\n\u001b[0m\u001b[1;32m    114\u001b[0m         \u001b[0;34m\"SavedModel file does not exist at: %s%s{%s|%s}\"\u001b[0m \u001b[0;34m%\u001b[0m\u001b[0;34m\u001b[0m\u001b[0;34m\u001b[0m\u001b[0m\n\u001b[1;32m    115\u001b[0m         (export_dir, os.path.sep, constants.SAVED_MODEL_FILENAME_PBTXT,\n",
      "\u001b[0;31mOSError\u001b[0m: SavedModel file does not exist at: ../modeling/tf_model_3.h5/{saved_model.pbtxt|saved_model.pb}"
     ]
    }
   ],
   "source": [
    "dict_of_models_neurons_list = {\"model_1\": [16, 8, 2],\n",
    "\"model_2\": [32, 8, 2],\n",
    "\"model_3\": [16, 16, 16, 4],\n",
    "\"model_4\": [64, 2],\n",
    "\"model_5\": [16, 32, 8, 8]\n",
    "}\n",
    "for i in range(1, len(dict_of_models_neurons_list)+1):\n",
    "    print(i, predict_test_data(i)[2])"
   ]
  },
  {
   "cell_type": "code",
   "execution_count": 7,
   "id": "be81d3d2",
   "metadata": {},
   "outputs": [],
   "source": [
    "import tensorflow as tf"
   ]
  },
  {
   "cell_type": "code",
   "execution_count": 8,
   "id": "c6911e29",
   "metadata": {},
   "outputs": [
    {
     "name": "stdout",
     "output_type": "stream",
     "text": [
      "1\n",
      "2\n",
      "3\n",
      "4\n",
      "5\n"
     ]
    }
   ],
   "source": [
    "for i in range(1, 5+1):\n",
    "    print(i)"
   ]
  },
  {
   "cell_type": "code",
   "execution_count": null,
   "id": "b700ccdd",
   "metadata": {},
   "outputs": [],
   "source": [
    "import pandas as pd"
   ]
  },
  {
   "cell_type": "code",
   "execution_count": null,
   "id": "12036523",
   "metadata": {},
   "outputs": [],
   "source": [
    "pd.read_csv()"
   ]
  },
  {
   "cell_type": "code",
   "execution_count": null,
   "id": "e3b3e0cd",
   "metadata": {},
   "outputs": [],
   "source": []
  },
  {
   "cell_type": "code",
   "execution_count": null,
   "id": "16e8956d",
   "metadata": {},
   "outputs": [],
   "source": []
  },
  {
   "cell_type": "code",
   "execution_count": null,
   "id": "ac823701",
   "metadata": {},
   "outputs": [],
   "source": []
  },
  {
   "cell_type": "code",
   "execution_count": null,
   "id": "82773140",
   "metadata": {},
   "outputs": [],
   "source": []
  },
  {
   "cell_type": "code",
   "execution_count": null,
   "id": "0ccdbb49",
   "metadata": {},
   "outputs": [],
   "source": []
  },
  {
   "cell_type": "code",
   "execution_count": null,
   "id": "0c761246",
   "metadata": {},
   "outputs": [],
   "source": [
    "from hcdr.modeling.deep_learning import preprocess_data, train_model, predict_test_data\n",
    "import pandas as pd\n",
    "%load_ext autoreload\n",
    "%autoreload 2"
   ]
  },
  {
   "cell_type": "code",
   "execution_count": null,
   "id": "22ae33d2",
   "metadata": {},
   "outputs": [
    {
     "name": "stdout",
     "output_type": "stream",
     "text": [
      "LOADING TRAIN DATA\n",
      "SPLITTING MERGED DF INTO X and Y...\n",
      "DELETING MERGED DF FROM MEMORY...\n",
      "save y_train\n",
      "Creating the preprocessor...\n",
      "Running preprocessor...\n",
      "scaler_type=None\n",
      "Fitting the preprocessor...\n"
     ]
    }
   ],
   "source": [
    "preprocess_data(scaler_type=None)"
   ]
  },
  {
   "cell_type": "code",
   "execution_count": null,
   "id": "720137f2",
   "metadata": {},
   "outputs": [],
   "source": []
  }
 ],
 "metadata": {
  "kernelspec": {
   "display_name": "Python 3",
   "language": "python",
   "name": "python3"
  },
  "language_info": {
   "codemirror_mode": {
    "name": "ipython",
    "version": 3
   },
   "file_extension": ".py",
   "mimetype": "text/x-python",
   "name": "python",
   "nbconvert_exporter": "python",
   "pygments_lexer": "ipython3",
   "version": "3.8.6"
  },
  "toc": {
   "base_numbering": 1,
   "nav_menu": {},
   "number_sections": true,
   "sideBar": true,
   "skip_h1_title": false,
   "title_cell": "Table of Contents",
   "title_sidebar": "Contents",
   "toc_cell": false,
   "toc_position": {},
   "toc_section_display": true,
   "toc_window_display": true
  },
  "varInspector": {
   "cols": {
    "lenName": 16,
    "lenType": 16,
    "lenVar": 40
   },
   "kernels_config": {
    "python": {
     "delete_cmd_postfix": "",
     "delete_cmd_prefix": "del ",
     "library": "var_list.py",
     "varRefreshCmd": "print(var_dic_list())"
    },
    "r": {
     "delete_cmd_postfix": ") ",
     "delete_cmd_prefix": "rm(",
     "library": "var_list.r",
     "varRefreshCmd": "cat(var_dic_list()) "
    }
   },
   "types_to_exclude": [
    "module",
    "function",
    "builtin_function_or_method",
    "instance",
    "_Feature"
   ],
   "window_display": false
  }
 },
 "nbformat": 4,
 "nbformat_minor": 5
}
