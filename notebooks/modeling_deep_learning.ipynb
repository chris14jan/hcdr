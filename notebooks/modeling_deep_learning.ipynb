{
 "cells": [
  {
   "cell_type": "markdown",
   "id": "cc70d3c1",
   "metadata": {},
   "source": [
    "# Lib Imports"
   ]
  },
  {
   "cell_type": "code",
   "execution_count": 1,
   "id": "4ab3f813",
   "metadata": {},
   "outputs": [],
   "source": [
    "import pandas as pd\n",
    "import numpy as np\n",
    "import seaborn as sns\n",
    "import matplotlib.pyplot as plt\n",
    "\n",
    "from hcdr.modeling.preproc import preproc_pipeline\n",
    "from hcdr.data.merged_data import merge_dfs\n",
    "from sklearn.model_selection import train_test_split"
   ]
  },
  {
   "cell_type": "code",
   "execution_count": 2,
   "id": "5b6c536e",
   "metadata": {},
   "outputs": [],
   "source": [
    "from sklearn import set_config; set_config(display='diagram')\n",
    "\n",
    "%load_ext autoreload\n",
    "%autoreload 2"
   ]
  },
  {
   "cell_type": "markdown",
   "id": "50d658e4",
   "metadata": {},
   "source": [
    "# Get Merged df"
   ]
  },
  {
   "cell_type": "code",
   "execution_count": 3,
   "id": "9dbc5cc1",
   "metadata": {},
   "outputs": [
    {
     "data": {
      "text/plain": [
       "'Code to create new df_merged df'"
      ]
     },
     "execution_count": 3,
     "metadata": {},
     "output_type": "execute_result"
    }
   ],
   "source": [
    "\"\"\"Code to create new df_merged df\"\"\"\n",
    "# %%time\n",
    "# df_merged = merge_dfs(df_app=\"application_train\", verbose=True)"
   ]
  },
  {
   "cell_type": "code",
   "execution_count": 4,
   "id": "0dac4e34",
   "metadata": {},
   "outputs": [],
   "source": [
    "# Use instead of running script to create merged df everytime.\n",
    "\"\"\"Save df_merged\"\"\"\n",
    "df_merged_path = \"../raw_data/df_merged.pkl\"\n",
    "# df_merged.to_pickle(df_merged_path)\n",
    "\n",
    "\"\"\"Load df_merged\"\"\"\n",
    "df_merged = pd.read_pickle(df_merged_path)"
   ]
  },
  {
   "cell_type": "code",
   "execution_count": 5,
   "id": "a34a4e61",
   "metadata": {},
   "outputs": [],
   "source": [
    "# df_merged = df_merged.replace(to_replace=np.inf,value=np.nan).replace(to_replace=-np.inf,value=np.nan)"
   ]
  },
  {
   "cell_type": "markdown",
   "id": "be3f7804",
   "metadata": {},
   "source": [
    "# X & y"
   ]
  },
  {
   "cell_type": "code",
   "execution_count": 6,
   "id": "9e76ce68",
   "metadata": {},
   "outputs": [],
   "source": [
    "X = df_merged.drop(columns=[\"SK_ID_CURR\", \"TARGET\"])\n",
    "y = df_merged[\"TARGET\"]\n",
    "\n",
    "del df_merged"
   ]
  },
  {
   "cell_type": "code",
   "execution_count": 7,
   "id": "9f4e50fa",
   "metadata": {},
   "outputs": [],
   "source": [
    "from sklearn.model_selection import train_test_split\n",
    "X_train, X_val, y_train, y_val = train_test_split(X, y, test_size=0.3)\n",
    "\n",
    "del X\n",
    "del y"
   ]
  },
  {
   "cell_type": "markdown",
   "id": "b09f8842",
   "metadata": {},
   "source": [
    "# Preprocess df"
   ]
  },
  {
   "cell_type": "code",
   "execution_count": 8,
   "id": "f1e4f9b6",
   "metadata": {},
   "outputs": [
    {
     "name": "stdout",
     "output_type": "stream",
     "text": [
      "Running preprocessor...\n",
      "scaler_type=standard\n"
     ]
    },
    {
     "data": {
      "text/html": [
       "<style>#sk-f691f8cf-58fe-4ee5-b0da-38dfe12dd9e8 {color: black;background-color: white;}#sk-f691f8cf-58fe-4ee5-b0da-38dfe12dd9e8 pre{padding: 0;}#sk-f691f8cf-58fe-4ee5-b0da-38dfe12dd9e8 div.sk-toggleable {background-color: white;}#sk-f691f8cf-58fe-4ee5-b0da-38dfe12dd9e8 label.sk-toggleable__label {cursor: pointer;display: block;width: 100%;margin-bottom: 0;padding: 0.2em 0.3em;box-sizing: border-box;text-align: center;}#sk-f691f8cf-58fe-4ee5-b0da-38dfe12dd9e8 div.sk-toggleable__content {max-height: 0;max-width: 0;overflow: hidden;text-align: left;background-color: #f0f8ff;}#sk-f691f8cf-58fe-4ee5-b0da-38dfe12dd9e8 div.sk-toggleable__content pre {margin: 0.2em;color: black;border-radius: 0.25em;background-color: #f0f8ff;}#sk-f691f8cf-58fe-4ee5-b0da-38dfe12dd9e8 input.sk-toggleable__control:checked~div.sk-toggleable__content {max-height: 200px;max-width: 100%;overflow: auto;}#sk-f691f8cf-58fe-4ee5-b0da-38dfe12dd9e8 div.sk-estimator input.sk-toggleable__control:checked~label.sk-toggleable__label {background-color: #d4ebff;}#sk-f691f8cf-58fe-4ee5-b0da-38dfe12dd9e8 div.sk-label input.sk-toggleable__control:checked~label.sk-toggleable__label {background-color: #d4ebff;}#sk-f691f8cf-58fe-4ee5-b0da-38dfe12dd9e8 input.sk-hidden--visually {border: 0;clip: rect(1px 1px 1px 1px);clip: rect(1px, 1px, 1px, 1px);height: 1px;margin: -1px;overflow: hidden;padding: 0;position: absolute;width: 1px;}#sk-f691f8cf-58fe-4ee5-b0da-38dfe12dd9e8 div.sk-estimator {font-family: monospace;background-color: #f0f8ff;margin: 0.25em 0.25em;border: 1px dotted black;border-radius: 0.25em;box-sizing: border-box;}#sk-f691f8cf-58fe-4ee5-b0da-38dfe12dd9e8 div.sk-estimator:hover {background-color: #d4ebff;}#sk-f691f8cf-58fe-4ee5-b0da-38dfe12dd9e8 div.sk-parallel-item::after {content: \"\";width: 100%;border-bottom: 1px solid gray;flex-grow: 1;}#sk-f691f8cf-58fe-4ee5-b0da-38dfe12dd9e8 div.sk-label:hover label.sk-toggleable__label {background-color: #d4ebff;}#sk-f691f8cf-58fe-4ee5-b0da-38dfe12dd9e8 div.sk-serial::before {content: \"\";position: absolute;border-left: 1px solid gray;box-sizing: border-box;top: 2em;bottom: 0;left: 50%;}#sk-f691f8cf-58fe-4ee5-b0da-38dfe12dd9e8 div.sk-serial {display: flex;flex-direction: column;align-items: center;background-color: white;}#sk-f691f8cf-58fe-4ee5-b0da-38dfe12dd9e8 div.sk-item {z-index: 1;}#sk-f691f8cf-58fe-4ee5-b0da-38dfe12dd9e8 div.sk-parallel {display: flex;align-items: stretch;justify-content: center;background-color: white;}#sk-f691f8cf-58fe-4ee5-b0da-38dfe12dd9e8 div.sk-parallel-item {display: flex;flex-direction: column;position: relative;background-color: white;}#sk-f691f8cf-58fe-4ee5-b0da-38dfe12dd9e8 div.sk-parallel-item:first-child::after {align-self: flex-end;width: 50%;}#sk-f691f8cf-58fe-4ee5-b0da-38dfe12dd9e8 div.sk-parallel-item:last-child::after {align-self: flex-start;width: 50%;}#sk-f691f8cf-58fe-4ee5-b0da-38dfe12dd9e8 div.sk-parallel-item:only-child::after {width: 0;}#sk-f691f8cf-58fe-4ee5-b0da-38dfe12dd9e8 div.sk-dashed-wrapped {border: 1px dashed gray;margin: 0.2em;box-sizing: border-box;padding-bottom: 0.1em;background-color: white;position: relative;}#sk-f691f8cf-58fe-4ee5-b0da-38dfe12dd9e8 div.sk-label label {font-family: monospace;font-weight: bold;background-color: white;display: inline-block;line-height: 1.2em;}#sk-f691f8cf-58fe-4ee5-b0da-38dfe12dd9e8 div.sk-label-container {position: relative;z-index: 2;text-align: center;}#sk-f691f8cf-58fe-4ee5-b0da-38dfe12dd9e8 div.sk-container {display: inline-block;position: relative;}</style><div id=\"sk-f691f8cf-58fe-4ee5-b0da-38dfe12dd9e8\" class\"sk-top-container\"><div class=\"sk-container\"><div class=\"sk-item sk-dashed-wrapped\"><div class=\"sk-label-container\"><div class=\"sk-label sk-toggleable\"><input class=\"sk-toggleable__control sk-hidden--visually\" id=\"5e82d3ec-87e2-4a43-b19c-5f6776be1125\" type=\"checkbox\" ><label class=\"sk-toggleable__label\" for=\"5e82d3ec-87e2-4a43-b19c-5f6776be1125\">Pipeline</label><div class=\"sk-toggleable__content\"><pre>Pipeline(steps=[('preprocessor1',\n",
       "                 ColumnTransformer(transformers=[('num_transformer',\n",
       "                                                  Pipeline(steps=[('imputer',\n",
       "                                                                   SimpleImputer())]),\n",
       "                                                  <sklearn.compose._column_transformer.make_column_selector object at 0x7fd9412ec0d0>),\n",
       "                                                 ('cat_transformer',\n",
       "                                                  Pipeline(steps=[('imputer',\n",
       "                                                                   SimpleImputer(fill_value='missing',\n",
       "                                                                                 strategy='constant')),\n",
       "                                                                  ('ohe',\n",
       "                                                                   OneHotEncoder(handle_unknown='ignore',\n",
       "                                                                                 sparse=False))]),\n",
       "                                                  <sklearn.compose._column_transformer.make_column_selector object at 0x7fd9412ec250>)])),\n",
       "                ('scaler', StandardScaler())])</pre></div></div></div><div class=\"sk-serial\"><div class=\"sk-item sk-dashed-wrapped\"><div class=\"sk-label-container\"><div class=\"sk-label sk-toggleable\"><input class=\"sk-toggleable__control sk-hidden--visually\" id=\"b87f8013-d874-40a0-a036-57d1753b54cd\" type=\"checkbox\" ><label class=\"sk-toggleable__label\" for=\"b87f8013-d874-40a0-a036-57d1753b54cd\">preprocessor1: ColumnTransformer</label><div class=\"sk-toggleable__content\"><pre>ColumnTransformer(transformers=[('num_transformer',\n",
       "                                 Pipeline(steps=[('imputer', SimpleImputer())]),\n",
       "                                 <sklearn.compose._column_transformer.make_column_selector object at 0x7fd9412ec0d0>),\n",
       "                                ('cat_transformer',\n",
       "                                 Pipeline(steps=[('imputer',\n",
       "                                                  SimpleImputer(fill_value='missing',\n",
       "                                                                strategy='constant')),\n",
       "                                                 ('ohe',\n",
       "                                                  OneHotEncoder(handle_unknown='ignore',\n",
       "                                                                sparse=False))]),\n",
       "                                 <sklearn.compose._column_transformer.make_column_selector object at 0x7fd9412ec250>)])</pre></div></div></div><div class=\"sk-parallel\"><div class=\"sk-parallel-item\"><div class=\"sk-item\"><div class=\"sk-label-container\"><div class=\"sk-label sk-toggleable\"><input class=\"sk-toggleable__control sk-hidden--visually\" id=\"8b5bf7cd-0681-43c5-b265-fa37cdb98754\" type=\"checkbox\" ><label class=\"sk-toggleable__label\" for=\"8b5bf7cd-0681-43c5-b265-fa37cdb98754\">num_transformer</label><div class=\"sk-toggleable__content\"><pre><sklearn.compose._column_transformer.make_column_selector object at 0x7fd9412ec0d0></pre></div></div></div><div class=\"sk-serial\"><div class=\"sk-item\"><div class=\"sk-serial\"><div class=\"sk-item\"><div class=\"sk-estimator sk-toggleable\"><input class=\"sk-toggleable__control sk-hidden--visually\" id=\"8d2ceb62-fa2e-4ca4-97ca-3bd9a5cbdd24\" type=\"checkbox\" ><label class=\"sk-toggleable__label\" for=\"8d2ceb62-fa2e-4ca4-97ca-3bd9a5cbdd24\">SimpleImputer</label><div class=\"sk-toggleable__content\"><pre>SimpleImputer()</pre></div></div></div></div></div></div></div></div><div class=\"sk-parallel-item\"><div class=\"sk-item\"><div class=\"sk-label-container\"><div class=\"sk-label sk-toggleable\"><input class=\"sk-toggleable__control sk-hidden--visually\" id=\"7b8d3384-6386-438e-955f-3da43e03ced8\" type=\"checkbox\" ><label class=\"sk-toggleable__label\" for=\"7b8d3384-6386-438e-955f-3da43e03ced8\">cat_transformer</label><div class=\"sk-toggleable__content\"><pre><sklearn.compose._column_transformer.make_column_selector object at 0x7fd9412ec250></pre></div></div></div><div class=\"sk-serial\"><div class=\"sk-item\"><div class=\"sk-serial\"><div class=\"sk-item\"><div class=\"sk-estimator sk-toggleable\"><input class=\"sk-toggleable__control sk-hidden--visually\" id=\"c4cd7f6d-284c-42a4-8248-218c49600d2f\" type=\"checkbox\" ><label class=\"sk-toggleable__label\" for=\"c4cd7f6d-284c-42a4-8248-218c49600d2f\">SimpleImputer</label><div class=\"sk-toggleable__content\"><pre>SimpleImputer(fill_value='missing', strategy='constant')</pre></div></div></div><div class=\"sk-item\"><div class=\"sk-estimator sk-toggleable\"><input class=\"sk-toggleable__control sk-hidden--visually\" id=\"8d60966f-ea9e-4d21-bd71-50dce16ac616\" type=\"checkbox\" ><label class=\"sk-toggleable__label\" for=\"8d60966f-ea9e-4d21-bd71-50dce16ac616\">OneHotEncoder</label><div class=\"sk-toggleable__content\"><pre>OneHotEncoder(handle_unknown='ignore', sparse=False)</pre></div></div></div></div></div></div></div></div></div></div><div class=\"sk-item\"><div class=\"sk-estimator sk-toggleable\"><input class=\"sk-toggleable__control sk-hidden--visually\" id=\"45789fb9-072a-4ac5-9d44-90785ab34c67\" type=\"checkbox\" ><label class=\"sk-toggleable__label\" for=\"45789fb9-072a-4ac5-9d44-90785ab34c67\">StandardScaler</label><div class=\"sk-toggleable__content\"><pre>StandardScaler()</pre></div></div></div></div></div></div></div>"
      ],
      "text/plain": [
       "Pipeline(steps=[('preprocessor1',\n",
       "                 ColumnTransformer(transformers=[('num_transformer',\n",
       "                                                  Pipeline(steps=[('imputer',\n",
       "                                                                   SimpleImputer())]),\n",
       "                                                  <sklearn.compose._column_transformer.make_column_selector object at 0x7fd9412ec0d0>),\n",
       "                                                 ('cat_transformer',\n",
       "                                                  Pipeline(steps=[('imputer',\n",
       "                                                                   SimpleImputer(fill_value='missing',\n",
       "                                                                                 strategy='constant')),\n",
       "                                                                  ('ohe',\n",
       "                                                                   OneHotEncoder(handle_unknown='ignore',\n",
       "                                                                                 sparse=False))]),\n",
       "                                                  <sklearn.compose._column_transformer.make_column_selector object at 0x7fd9412ec250>)])),\n",
       "                ('scaler', StandardScaler())])"
      ]
     },
     "execution_count": 8,
     "metadata": {},
     "output_type": "execute_result"
    }
   ],
   "source": [
    "# Use standard scaler for DL:\n",
    "preproc = preproc_pipeline(scaler_type=\"standard\")\n",
    "preproc"
   ]
  },
  {
   "cell_type": "markdown",
   "id": "bb42297a",
   "metadata": {},
   "source": [
    "## fit and transform X"
   ]
  },
  {
   "cell_type": "code",
   "execution_count": 9,
   "id": "64738238",
   "metadata": {
    "scrolled": true
   },
   "outputs": [],
   "source": [
    "preproc.fit(X_train)\n",
    "X_train_xformed = preproc.transform(X_train)\n",
    "X_val_xformed = preproc.transform(X_val)\n",
    "\n",
    "del X_train\n",
    "del X_val"
   ]
  },
  {
   "cell_type": "code",
   "execution_count": 75,
   "id": "a3c6cef4",
   "metadata": {},
   "outputs": [],
   "source": [
    "from imblearn.under_sampling import RandomUnderSampler\n",
    "undersample = RandomUnderSampler(sampling_strategy=0.2, replacement=True)\n",
    "X_train_xformed_under, y_train_under = undersample.fit_resample(X_train_xformed, y_train)"
   ]
  },
  {
   "cell_type": "code",
   "execution_count": 76,
   "id": "9909e4ec",
   "metadata": {
    "scrolled": true
   },
   "outputs": [
    {
     "data": {
      "text/plain": [
       "((215257, 691), (104838, 691), (92254, 691))"
      ]
     },
     "execution_count": 76,
     "metadata": {},
     "output_type": "execute_result"
    }
   ],
   "source": [
    "X_train_xformed.shape, X_train_xformed_under.shape, X_val_xformed.shape"
   ]
  },
  {
   "cell_type": "code",
   "execution_count": 77,
   "id": "54248085",
   "metadata": {},
   "outputs": [
    {
     "data": {
      "text/plain": [
       "0    87365\n",
       "1    17473\n",
       "Name: TARGET, dtype: int64"
      ]
     },
     "execution_count": 77,
     "metadata": {},
     "output_type": "execute_result"
    }
   ],
   "source": [
    "y_train_under.value_counts()"
   ]
  },
  {
   "cell_type": "code",
   "execution_count": 78,
   "id": "9d3ab0d0",
   "metadata": {},
   "outputs": [
    {
     "data": {
      "text/plain": [
       "0    0.833333\n",
       "1    0.166667\n",
       "Name: TARGET, dtype: float64"
      ]
     },
     "execution_count": 78,
     "metadata": {},
     "output_type": "execute_result"
    }
   ],
   "source": [
    "y_train_under.value_counts(normalize=True)"
   ]
  },
  {
   "cell_type": "markdown",
   "id": "c4977270",
   "metadata": {},
   "source": [
    "# Model Setup"
   ]
  },
  {
   "cell_type": "code",
   "execution_count": 11,
   "id": "588ac85e",
   "metadata": {},
   "outputs": [],
   "source": [
    "from tensorflow.keras import models\n",
    "from tensorflow.keras import layers\n",
    "import tensorflow as tf"
   ]
  },
  {
   "cell_type": "markdown",
   "id": "bd10657a",
   "metadata": {},
   "source": [
    "Kaggle metric is ROC_AUC."
   ]
  },
  {
   "cell_type": "code",
   "execution_count": 81,
   "id": "eac360dd",
   "metadata": {},
   "outputs": [
    {
     "name": "stdout",
     "output_type": "stream",
     "text": [
      "Model: \"sequential_7\"\n",
      "_________________________________________________________________\n",
      "Layer (type)                 Output Shape              Param #   \n",
      "=================================================================\n",
      "dense_17 (Dense)             (None, 16)                11072     \n",
      "_________________________________________________________________\n",
      "dense_18 (Dense)             (None, 8)                 136       \n",
      "_________________________________________________________________\n",
      "dense_19 (Dense)             (None, 1)                 9         \n",
      "=================================================================\n",
      "Total params: 11,217\n",
      "Trainable params: 11,217\n",
      "Non-trainable params: 0\n",
      "_________________________________________________________________\n"
     ]
    }
   ],
   "source": [
    "def initialize_model(input_dim):\n",
    "    \"\"\"\"\"\"\n",
    "    model = models.Sequential()\n",
    "\n",
    "    model.add(layers.Dense(16, activation='relu', input_dim=input_dim))\n",
    "    model.add(layers.Dense(8, activation='relu'))\n",
    "    model.add(layers.Dense(1, activation='sigmoid'))\n",
    "    \n",
    "    ### Model optimization : Optimizer, loss and metric \n",
    "    model.compile(optimizer='adam',\n",
    "                  loss=tf.keras.losses.BinaryCrossentropy(), # \"binary_crossentropy\"\n",
    "                  metrics=[tf.keras.metrics.AUC(), \"accuracy\"]) # \"accuracy\"\n",
    "    return model\n",
    "\n",
    "input_dim = X_train_xformed.shape[1]\n",
    "model = initialize_model(input_dim)\n",
    "model.summary()"
   ]
  },
  {
   "cell_type": "code",
   "execution_count": 50,
   "id": "5876065e",
   "metadata": {},
   "outputs": [],
   "source": [
    "from tensorflow.keras.callbacks import EarlyStopping"
   ]
  },
  {
   "cell_type": "code",
   "execution_count": 51,
   "id": "4f8d633c",
   "metadata": {},
   "outputs": [],
   "source": [
    "es = EarlyStopping(patience=5)"
   ]
  },
  {
   "cell_type": "code",
   "execution_count": 83,
   "id": "44a57dc1",
   "metadata": {
    "scrolled": false
   },
   "outputs": [
    {
     "name": "stdout",
     "output_type": "stream",
     "text": [
      "Epoch 1/1000\n",
      "1639/1639 [==============================] - 9s 5ms/step - loss: 0.3863 - auc_7: 0.7627 - accuracy: 0.8400 - val_loss: 0.2777 - val_auc_7: 0.7453 - val_accuracy: 0.9100\n",
      "Epoch 2/1000\n",
      "1639/1639 [==============================] - 8s 5ms/step - loss: 0.3816 - auc_7: 0.7703 - accuracy: 0.8410 - val_loss: 0.2843 - val_auc_7: 0.7445 - val_accuracy: 0.9076\n",
      "Epoch 3/1000\n",
      "1639/1639 [==============================] - 8s 5ms/step - loss: 0.3799 - auc_7: 0.7731 - accuracy: 0.8420 - val_loss: 0.2864 - val_auc_7: 0.7432 - val_accuracy: 0.9095\n",
      "Epoch 4/1000\n",
      "1639/1639 [==============================] - 7s 4ms/step - loss: 0.3782 - auc_7: 0.7759 - accuracy: 0.8426 - val_loss: 0.2831 - val_auc_7: 0.7447 - val_accuracy: 0.9080\n",
      "Epoch 5/1000\n",
      "1639/1639 [==============================] - 7s 4ms/step - loss: 0.3772 - auc_7: 0.7775 - accuracy: 0.8428 - val_loss: 0.2786 - val_auc_7: 0.7412 - val_accuracy: 0.9113\n",
      "Epoch 6/1000\n",
      "1639/1639 [==============================] - 7s 4ms/step - loss: 0.3756 - auc_7: 0.7804 - accuracy: 0.8430 - val_loss: 0.2771 - val_auc_7: 0.7406 - val_accuracy: 0.9117\n",
      "Epoch 7/1000\n",
      "1639/1639 [==============================] - 8s 5ms/step - loss: 0.3742 - auc_7: 0.7821 - accuracy: 0.8436 - val_loss: 0.2831 - val_auc_7: 0.7415 - val_accuracy: 0.9069\n",
      "Epoch 8/1000\n",
      "1639/1639 [==============================] - 7s 4ms/step - loss: 0.3733 - auc_7: 0.7836 - accuracy: 0.8446 - val_loss: 0.2881 - val_auc_7: 0.7346 - val_accuracy: 0.9055\n",
      "Epoch 9/1000\n",
      "1639/1639 [==============================] - 7s 4ms/step - loss: 0.3724 - auc_7: 0.7849 - accuracy: 0.8449 - val_loss: 0.2809 - val_auc_7: 0.7361 - val_accuracy: 0.9090\n",
      "Epoch 10/1000\n",
      "1639/1639 [==============================] - 7s 4ms/step - loss: 0.3715 - auc_7: 0.7867 - accuracy: 0.8450 - val_loss: 0.2958 - val_auc_7: 0.7388 - val_accuracy: 0.9013\n",
      "Epoch 11/1000\n",
      "1639/1639 [==============================] - 7s 4ms/step - loss: 0.3706 - auc_7: 0.7879 - accuracy: 0.8456 - val_loss: 0.2942 - val_auc_7: 0.7367 - val_accuracy: 0.9042\n"
     ]
    }
   ],
   "source": [
    "history = model.fit(X_train_xformed_under, y_train_under,\n",
    "                    validation_data=(X_val_xformed, y_val),\n",
    "                    epochs=1_000, \n",
    "                    batch_size=64, \n",
    "                    verbose=1,\n",
    "                    callbacks=[es]\n",
    "                    )"
   ]
  },
  {
   "cell_type": "code",
   "execution_count": 84,
   "id": "b0e64a23",
   "metadata": {},
   "outputs": [
    {
     "data": {
      "image/png": "[encoded data removed]",
      "text/plain": [
       "<Figure size 432x288 with 1 Axes>"
      ]
     },
     "metadata": {
      "needs_background": "light"
     },
     "output_type": "display_data"
    }
   ],
   "source": [
    "def plot_history(history):\n",
    "    plt.plot(history.history['loss'])\n",
    "    plt.title('Model loss')\n",
    "    plt.ylabel('Loss')\n",
    "    plt.xlabel('Epoch')\n",
    "    plt.show()\n",
    "\n",
    "plot_history(history)"
   ]
  },
  {
   "cell_type": "markdown",
   "id": "2d86acb9",
   "metadata": {},
   "source": [
    "Baseline ROC_AUC = 0.5"
   ]
  },
  {
   "cell_type": "code",
   "execution_count": 15,
   "id": "2fab3b65",
   "metadata": {},
   "outputs": [],
   "source": [
    "from sklearn.metrics import roc_auc_score"
   ]
  },
  {
   "cell_type": "code",
   "execution_count": 85,
   "id": "f2b2bcd7",
   "metadata": {},
   "outputs": [
    {
     "data": {
      "text/plain": [
       "0.7367952898918037"
      ]
     },
     "execution_count": 85,
     "metadata": {},
     "output_type": "execute_result"
    }
   ],
   "source": [
    "y_prob = model.predict(X_val_xformed)\n",
    "roc_auc = roc_auc_score(y_val, y_prob)\n",
    "roc_auc"
   ]
  },
  {
   "cell_type": "markdown",
   "id": "488d9cd3",
   "metadata": {},
   "source": [
    "Baseline Accuracy:"
   ]
  },
  {
   "cell_type": "code",
   "execution_count": 86,
   "id": "7b814b86",
   "metadata": {},
   "outputs": [
    {
     "data": {
      "text/plain": [
       "0    0.833333\n",
       "1    0.166667\n",
       "Name: TARGET, dtype: float64"
      ]
     },
     "execution_count": 86,
     "metadata": {},
     "output_type": "execute_result"
    }
   ],
   "source": [
    "y_train_under.value_counts(normalize=True)"
   ]
  },
  {
   "cell_type": "code",
   "execution_count": 87,
   "id": "c971434f",
   "metadata": {},
   "outputs": [
    {
     "data": {
      "text/plain": [
       "3989"
      ]
     },
     "execution_count": 87,
     "metadata": {},
     "output_type": "execute_result"
    }
   ],
   "source": [
    "(y_prob>0.5).sum()"
   ]
  },
  {
   "cell_type": "code",
   "execution_count": 88,
   "id": "45257ff5",
   "metadata": {},
   "outputs": [
    {
     "data": {
      "text/plain": [
       "Text(0.5, 1.0, 'Precision-Recall Curve')"
      ]
     },
     "execution_count": 88,
     "metadata": {},
     "output_type": "execute_result"
    },
    {
     "data": {
      "image/png": "[encoded data removed]",
      "text/plain": [
       "<Figure size 432x288 with 1 Axes>"
      ]
     },
     "metadata": {
      "needs_background": "light"
     },
     "output_type": "display_data"
    }
   ],
   "source": [
    "# Plot Precision-Recall curve using sklearn.\n",
    "from sklearn.metrics import precision_recall_curve\n",
    "precision, recall, treshold = precision_recall_curve(y_val, y_prob)\n",
    "  \n",
    "# Plot the output.\n",
    "plt.plot(treshold, precision[:-1], c ='r', label ='PRECISION')\n",
    "plt.plot(treshold, recall[:-1], c ='b', label ='RECALL')\n",
    "plt.grid()\n",
    "plt.legend()\n",
    "plt.title('Precision-Recall Curve')\n"
   ]
  },
  {
   "cell_type": "code",
   "execution_count": null,
   "id": "97e76675",
   "metadata": {},
   "outputs": [],
   "source": []
  }
 ],
 "metadata": {
  "kernelspec": {
   "display_name": "Python 3",
   "language": "python",
   "name": "python3"
  },
  "language_info": {
   "codemirror_mode": {
    "name": "ipython",
    "version": 3
   },
   "file_extension": ".py",
   "mimetype": "text/x-python",
   "name": "python",
   "nbconvert_exporter": "python",
   "pygments_lexer": "ipython3",
   "version": "3.8.6"
  }
 },
 "nbformat": 4,
 "nbformat_minor": 5
}
