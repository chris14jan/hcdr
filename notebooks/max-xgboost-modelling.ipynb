{
 "cells": [
  {
   "cell_type": "markdown",
   "id": "1487ed1c",
   "metadata": {},
   "source": [
    "# XGBoost Modelling"
   ]
  },
  {
   "cell_type": "code",
   "execution_count": 1,
   "id": "6a639054",
   "metadata": {},
   "outputs": [],
   "source": [
    "from xgboost import XGBClassifier\n",
    "\n",
    "from sklearn.metrics import roc_auc_score\n",
    "from sklearn.model_selection import cross_validate\n",
    "\n",
    "import matplotlib.pyplot as plt"
   ]
  },
  {
   "cell_type": "code",
   "execution_count": 2,
   "id": "856e8b77",
   "metadata": {},
   "outputs": [],
   "source": [
    "from sklearn.model_selection import train_test_split\n",
    "from xgboost import XGBRegressor\n",
    "import pandas as pd\n",
    "import numpy as np\n",
    "from sklearn import set_config; set_config(display='diagram')\n",
    "\n",
    "pd.set_option('display.max_rows', 10000)\n",
    "pd.set_option('display.max_columns', 500)\n",
    "pd.set_option('display.width', 1000)"
   ]
  },
  {
   "cell_type": "code",
   "execution_count": 3,
   "id": "606644a9",
   "metadata": {},
   "outputs": [],
   "source": [
    "from hcdr.modeling.preproc import preproc_pipeline\n",
    "from hcdr.data.merged_data import merge_dfs"
   ]
  },
  {
   "cell_type": "code",
   "execution_count": 4,
   "id": "5731bf13",
   "metadata": {},
   "outputs": [
    {
     "name": "stdout",
     "output_type": "stream",
     "text": [
      "Aggregating non-application dataframes...\n",
      "application_train:       122 --> 72. Dropped 50 columns\n",
      "application_test:       121 --> 71. Dropped 50 columns\n",
      "previous_application:       37 --> 26. Dropped 11 columns\n",
      "Loading credit card balance data table...\n",
      "23 --> 23. Dropped 0 columns\n",
      "optimized size by 26.0 % | 0.0078625 GB\n",
      "Loading 'bureau' AND 'bureau_balance' data tables...\n",
      "Running get_bureau_final function...\n",
      "Running get_bureau_balance_final function...\n",
      "optimized size by 65.99999999999999 % | 0.002092907 GB\n",
      "Loading isntallments payments data table...\n",
      "8 --> 8. Dropped 0 columns\n",
      "optimized size by 19.999999999999996 % | 0.002400128 GB\n",
      "Loading POS_CASH_balance data table...\n",
      "8 --> 8. Dropped 0 columns\n",
      "optimized size by 32.99999999999999 % | 0.005126624 GB\n",
      "application_train:       72 --> 72. Dropped 0 columns\n",
      "application_test:       71 --> 71. Dropped 0 columns\n",
      "previous_application:       26 --> 26. Dropped 0 columns\n",
      "credit_card_balance:       23 --> 16. Dropped 7 columns\n",
      "bureau:       493 --> 479. Dropped 14 columns\n",
      "installments_payments:       6 --> 6. Dropped 0 columns\n",
      "POS_CASH_balance:       6 --> 6. Dropped 0 columns\n",
      "Merging previous_application table ...\n",
      "Original shape: 300000, shape after merge: 300000\n",
      "Merging credit_card_balance table ...\n",
      "Original shape: 300000, shape after merge: 300000\n",
      "Merging bureau table ...\n",
      "Original shape: 300000, shape after merge: 300000\n",
      "Merging installments_payments table ...\n",
      "Original shape: 300000, shape after merge: 300000\n",
      "Merging POS_CASH_balance table ...\n",
      "Original shape: 300000, shape after merge: 300000\n"
     ]
    }
   ],
   "source": [
    "#%%time\n",
    "df_merged = merge_dfs(df_app=\"application_train\", verbose=True)\n",
    "df_merged = df_merged.replace(to_replace=np.inf,value=np.nan).replace(to_replace=-np.inf,value=np.nan)"
   ]
  },
  {
   "cell_type": "code",
   "execution_count": 5,
   "id": "a2f6617e",
   "metadata": {},
   "outputs": [],
   "source": [
    "df_merged_path =\"../raw_data/df_merged.pkl\"\n",
    "#df_merged.to_pickle(df_merged_path)"
   ]
  },
  {
   "cell_type": "code",
   "execution_count": 6,
   "id": "bc41ad8d",
   "metadata": {},
   "outputs": [],
   "source": [
    "#df_merged = pd.read_pickle(df_merged_path)"
   ]
  },
  {
   "cell_type": "code",
   "execution_count": 7,
   "id": "85fe1d03",
   "metadata": {},
   "outputs": [],
   "source": [
    "X = df_merged.drop(columns=[\"SK_ID_CURR\", \"TARGET\"]).iloc[:1000]\n",
    "y = df_merged[\"TARGET\"].iloc[:1000]\n",
    "\n",
    "del df_merged"
   ]
  },
  {
   "cell_type": "code",
   "execution_count": 8,
   "id": "ff171d9a",
   "metadata": {},
   "outputs": [],
   "source": [
    "X_train, X_val, y_train, y_val = train_test_split(X, y, test_size=0.3)\n",
    "\n",
    "del X\n",
    "del y"
   ]
  },
  {
   "cell_type": "code",
   "execution_count": 9,
   "id": "75aa28be",
   "metadata": {},
   "outputs": [
    {
     "name": "stdout",
     "output_type": "stream",
     "text": [
      "Running preprocessor...\n",
      "scaler_type=None\n"
     ]
    }
   ],
   "source": [
    "preproc = preproc_pipeline(scaler_type=None)"
   ]
  },
  {
   "cell_type": "code",
   "execution_count": 10,
   "id": "dbd91822",
   "metadata": {},
   "outputs": [],
   "source": [
    "X_train_transformed = preproc.fit_transform(X_train)\n",
    "X_val_transformed = preproc.transform(X_val)"
   ]
  },
  {
   "cell_type": "code",
   "execution_count": 11,
   "id": "64a6ff7f",
   "metadata": {},
   "outputs": [
    {
     "name": "stdout",
     "output_type": "stream",
     "text": [
      "(700, 661) (300, 661)\n"
     ]
    }
   ],
   "source": [
    "print(X_train_transformed.shape, X_val_transformed.shape)"
   ]
  },
  {
   "cell_type": "code",
   "execution_count": 12,
   "id": "231a2f9d",
   "metadata": {},
   "outputs": [
    {
     "name": "stdout",
     "output_type": "stream",
     "text": [
      "[0]\tvalidation_0-auc:0.71883\n",
      "[1]\tvalidation_0-auc:0.73380\n",
      "[2]\tvalidation_0-auc:0.80129\n",
      "[3]\tvalidation_0-auc:0.81556\n",
      "[4]\tvalidation_0-auc:0.77941\n",
      "[5]\tvalidation_0-auc:0.79778\n",
      "[6]\tvalidation_0-auc:0.79345\n",
      "[7]\tvalidation_0-auc:0.78737\n",
      "[8]\tvalidation_0-auc:0.78901\n",
      "[9]\tvalidation_0-auc:0.78748\n",
      "[10]\tvalidation_0-auc:0.78491\n",
      "[11]\tvalidation_0-auc:0.79333\n",
      "[12]\tvalidation_0-auc:0.79205\n"
     ]
    },
    {
     "name": "stderr",
     "output_type": "stream",
     "text": [
      "/Users/maximilianglasmacher/.pyenv/versions/3.8.6/envs/home-credit-default-risk/lib/python3.8/site-packages/xgboost/sklearn.py:1146: UserWarning: The use of label encoder in XGBClassifier is deprecated and will be removed in a future release. To remove this warning, do the following: 1) Pass option use_label_encoder=False when constructing XGBClassifier object; and 2) Encode your labels (y) as integers starting with 0, i.e. 0, 1, 2, ..., [num_class - 1].\n",
      "  warnings.warn(label_encoder_deprecation_msg, UserWarning)\n"
     ]
    },
    {
     "data": {
      "text/html": [
       "<style>#sk-d691e237-8647-4fa3-9981-e619bfa37875 {color: black;background-color: white;}#sk-d691e237-8647-4fa3-9981-e619bfa37875 pre{padding: 0;}#sk-d691e237-8647-4fa3-9981-e619bfa37875 div.sk-toggleable {background-color: white;}#sk-d691e237-8647-4fa3-9981-e619bfa37875 label.sk-toggleable__label {cursor: pointer;display: block;width: 100%;margin-bottom: 0;padding: 0.2em 0.3em;box-sizing: border-box;text-align: center;}#sk-d691e237-8647-4fa3-9981-e619bfa37875 div.sk-toggleable__content {max-height: 0;max-width: 0;overflow: hidden;text-align: left;background-color: #f0f8ff;}#sk-d691e237-8647-4fa3-9981-e619bfa37875 div.sk-toggleable__content pre {margin: 0.2em;color: black;border-radius: 0.25em;background-color: #f0f8ff;}#sk-d691e237-8647-4fa3-9981-e619bfa37875 input.sk-toggleable__control:checked~div.sk-toggleable__content {max-height: 200px;max-width: 100%;overflow: auto;}#sk-d691e237-8647-4fa3-9981-e619bfa37875 div.sk-estimator input.sk-toggleable__control:checked~label.sk-toggleable__label {background-color: #d4ebff;}#sk-d691e237-8647-4fa3-9981-e619bfa37875 div.sk-label input.sk-toggleable__control:checked~label.sk-toggleable__label {background-color: #d4ebff;}#sk-d691e237-8647-4fa3-9981-e619bfa37875 input.sk-hidden--visually {border: 0;clip: rect(1px 1px 1px 1px);clip: rect(1px, 1px, 1px, 1px);height: 1px;margin: -1px;overflow: hidden;padding: 0;position: absolute;width: 1px;}#sk-d691e237-8647-4fa3-9981-e619bfa37875 div.sk-estimator {font-family: monospace;background-color: #f0f8ff;margin: 0.25em 0.25em;border: 1px dotted black;border-radius: 0.25em;box-sizing: border-box;}#sk-d691e237-8647-4fa3-9981-e619bfa37875 div.sk-estimator:hover {background-color: #d4ebff;}#sk-d691e237-8647-4fa3-9981-e619bfa37875 div.sk-parallel-item::after {content: \"\";width: 100%;border-bottom: 1px solid gray;flex-grow: 1;}#sk-d691e237-8647-4fa3-9981-e619bfa37875 div.sk-label:hover label.sk-toggleable__label {background-color: #d4ebff;}#sk-d691e237-8647-4fa3-9981-e619bfa37875 div.sk-serial::before {content: \"\";position: absolute;border-left: 1px solid gray;box-sizing: border-box;top: 2em;bottom: 0;left: 50%;}#sk-d691e237-8647-4fa3-9981-e619bfa37875 div.sk-serial {display: flex;flex-direction: column;align-items: center;background-color: white;}#sk-d691e237-8647-4fa3-9981-e619bfa37875 div.sk-item {z-index: 1;}#sk-d691e237-8647-4fa3-9981-e619bfa37875 div.sk-parallel {display: flex;align-items: stretch;justify-content: center;background-color: white;}#sk-d691e237-8647-4fa3-9981-e619bfa37875 div.sk-parallel-item {display: flex;flex-direction: column;position: relative;background-color: white;}#sk-d691e237-8647-4fa3-9981-e619bfa37875 div.sk-parallel-item:first-child::after {align-self: flex-end;width: 50%;}#sk-d691e237-8647-4fa3-9981-e619bfa37875 div.sk-parallel-item:last-child::after {align-self: flex-start;width: 50%;}#sk-d691e237-8647-4fa3-9981-e619bfa37875 div.sk-parallel-item:only-child::after {width: 0;}#sk-d691e237-8647-4fa3-9981-e619bfa37875 div.sk-dashed-wrapped {border: 1px dashed gray;margin: 0.2em;box-sizing: border-box;padding-bottom: 0.1em;background-color: white;position: relative;}#sk-d691e237-8647-4fa3-9981-e619bfa37875 div.sk-label label {font-family: monospace;font-weight: bold;background-color: white;display: inline-block;line-height: 1.2em;}#sk-d691e237-8647-4fa3-9981-e619bfa37875 div.sk-label-container {position: relative;z-index: 2;text-align: center;}#sk-d691e237-8647-4fa3-9981-e619bfa37875 div.sk-container {display: inline-block;position: relative;}</style><div id=\"sk-d691e237-8647-4fa3-9981-e619bfa37875\" class\"sk-top-container\"><div class=\"sk-container\"><div class=\"sk-item\"><div class=\"sk-estimator sk-toggleable\"><input class=\"sk-toggleable__control sk-hidden--visually\" id=\"e9ef0920-31fd-4e6c-86b0-62bd5f5d079a\" type=\"checkbox\" checked><label class=\"sk-toggleable__label\" for=\"e9ef0920-31fd-4e6c-86b0-62bd5f5d079a\">XGBClassifier</label><div class=\"sk-toggleable__content\"><pre>XGBClassifier(base_score=0.5, booster='gbtree', colsample_bylevel=1,\n",
       "              colsample_bynode=1, colsample_bytree=1, gamma=0, gpu_id=-1,\n",
       "              importance_type='gain', interaction_constraints='',\n",
       "              learning_rate=0.300000012, max_delta_step=0, max_depth=6,\n",
       "              min_child_weight=1, missing=nan, monotone_constraints='()',\n",
       "              n_estimators=100, n_jobs=-1, num_parallel_tree=1, random_state=0,\n",
       "              reg_alpha=0, reg_lambda=1, scale_pos_weight=1, subsample=1,\n",
       "              tree_method='exact', validate_parameters=1, verbosity=None)</pre></div></div></div></div></div>"
      ],
      "text/plain": [
       "XGBClassifier(base_score=0.5, booster='gbtree', colsample_bylevel=1,\n",
       "              colsample_bynode=1, colsample_bytree=1, gamma=0, gpu_id=-1,\n",
       "              importance_type='gain', interaction_constraints='',\n",
       "              learning_rate=0.300000012, max_delta_step=0, max_depth=6,\n",
       "              min_child_weight=1, missing=nan, monotone_constraints='()',\n",
       "              n_estimators=100, n_jobs=-1, num_parallel_tree=1, random_state=0,\n",
       "              reg_alpha=0, reg_lambda=1, scale_pos_weight=1, subsample=1,\n",
       "              tree_method='exact', validate_parameters=1, verbosity=None)"
      ]
     },
     "execution_count": 12,
     "metadata": {},
     "output_type": "execute_result"
    }
   ],
   "source": [
    "initial_xgb = XGBClassifier(n_jobs=-1)\n",
    "\n",
    "initial_xgb.fit(\n",
    "    X_train_transformed, y_train,\n",
    "    eval_metric=\"auc\",\n",
    "    # evaluate loss at each iteration\n",
    "    eval_set=[(X_val_transformed, y_val)], \n",
    "    # stop iterating when eval loss increases 5 times in a row\n",
    "    early_stopping_rounds=10, \n",
    "    \n",
    ") "
   ]
  },
  {
   "cell_type": "code",
   "execution_count": 13,
   "id": "767ed320",
   "metadata": {},
   "outputs": [],
   "source": [
    "y_pred = initial_xgb.predict_proba(X_val_transformed)"
   ]
  },
  {
   "cell_type": "code",
   "execution_count": 14,
   "id": "d4df94a0",
   "metadata": {},
   "outputs": [
    {
     "data": {
      "text/plain": [
       "array([[0.8568001 , 0.1431999 ],\n",
       "       [0.8568001 , 0.1431999 ],\n",
       "       [0.819942  , 0.18005803],\n",
       "       [0.83394295, 0.16605705],\n",
       "       [0.76447755, 0.23552243],\n",
       "       [0.8568001 , 0.1431999 ],\n",
       "       [0.7742279 , 0.22577207],\n",
       "       [0.803209  , 0.19679101],\n",
       "       [0.8568001 , 0.1431999 ],\n",
       "       [0.8568001 , 0.1431999 ],\n",
       "       [0.78813744, 0.2118626 ],\n",
       "       [0.8526512 , 0.14734884],\n",
       "       [0.7135043 , 0.2864957 ],\n",
       "       [0.83455503, 0.16544499],\n",
       "       [0.8532064 , 0.14679359],\n",
       "       [0.8512719 , 0.14872806],\n",
       "       [0.81227225, 0.18772773],\n",
       "       [0.8526512 , 0.14734884],\n",
       "       [0.81972754, 0.18027245],\n",
       "       [0.8526512 , 0.14734884],\n",
       "       [0.8568001 , 0.1431999 ],\n",
       "       [0.8568001 , 0.1431999 ],\n",
       "       [0.756774  , 0.243226  ],\n",
       "       [0.803209  , 0.19679101],\n",
       "       [0.8526512 , 0.14734884],\n",
       "       [0.7040026 , 0.2959974 ],\n",
       "       [0.83545977, 0.16454022],\n",
       "       [0.8568001 , 0.1431999 ],\n",
       "       [0.8292719 , 0.17072807],\n",
       "       [0.8313232 , 0.16867681],\n",
       "       [0.8568001 , 0.1431999 ],\n",
       "       [0.8568001 , 0.1431999 ],\n",
       "       [0.8526512 , 0.14734884],\n",
       "       [0.8568001 , 0.1431999 ],\n",
       "       [0.8147368 , 0.18526322],\n",
       "       [0.819942  , 0.18005803],\n",
       "       [0.8313232 , 0.16867681],\n",
       "       [0.8385189 , 0.1614811 ],\n",
       "       [0.81972754, 0.18027245],\n",
       "       [0.8526512 , 0.14734884],\n",
       "       [0.7566717 , 0.24332827],\n",
       "       [0.8469914 , 0.15300855],\n",
       "       [0.77813375, 0.22186622],\n",
       "       [0.8532064 , 0.14679359],\n",
       "       [0.8568001 , 0.1431999 ],\n",
       "       [0.8568001 , 0.1431999 ],\n",
       "       [0.82484704, 0.17515296],\n",
       "       [0.8568001 , 0.1431999 ],\n",
       "       [0.8568001 , 0.1431999 ],\n",
       "       [0.8568001 , 0.1431999 ],\n",
       "       [0.8526512 , 0.14734884],\n",
       "       [0.8568001 , 0.1431999 ],\n",
       "       [0.81972754, 0.18027245],\n",
       "       [0.8408054 , 0.15919456],\n",
       "       [0.8313232 , 0.16867681],\n",
       "       [0.8313232 , 0.16867681],\n",
       "       [0.8130079 , 0.18699211],\n",
       "       [0.8385189 , 0.1614811 ],\n",
       "       [0.8526512 , 0.14734884],\n",
       "       [0.60294473, 0.3970553 ],\n",
       "       [0.8568001 , 0.1431999 ],\n",
       "       [0.8568001 , 0.1431999 ],\n",
       "       [0.8568001 , 0.1431999 ],\n",
       "       [0.84522736, 0.15477264],\n",
       "       [0.8147368 , 0.18526322],\n",
       "       [0.8389784 , 0.16102159],\n",
       "       [0.8526512 , 0.14734884],\n",
       "       [0.8568001 , 0.1431999 ],\n",
       "       [0.6358409 , 0.3641591 ],\n",
       "       [0.64026666, 0.35973334],\n",
       "       [0.78813744, 0.2118626 ],\n",
       "       [0.8568001 , 0.1431999 ],\n",
       "       [0.75207067, 0.24792935],\n",
       "       [0.8526512 , 0.14734884],\n",
       "       [0.8147368 , 0.18526322],\n",
       "       [0.83394295, 0.16605705],\n",
       "       [0.8250124 , 0.17498763],\n",
       "       [0.8147368 , 0.18526322],\n",
       "       [0.8568001 , 0.1431999 ],\n",
       "       [0.60961723, 0.39038274],\n",
       "       [0.8147368 , 0.18526322],\n",
       "       [0.8526512 , 0.14734884],\n",
       "       [0.8389784 , 0.16102159],\n",
       "       [0.8385189 , 0.1614811 ],\n",
       "       [0.83455503, 0.16544499],\n",
       "       [0.584862  , 0.41513804],\n",
       "       [0.730121  , 0.269879  ],\n",
       "       [0.8385189 , 0.1614811 ],\n",
       "       [0.7804107 , 0.2195893 ],\n",
       "       [0.8526512 , 0.14734884],\n",
       "       [0.8526512 , 0.14734884],\n",
       "       [0.8568001 , 0.1431999 ],\n",
       "       [0.7804107 , 0.2195893 ],\n",
       "       [0.7761658 , 0.22383422],\n",
       "       [0.8568001 , 0.1431999 ],\n",
       "       [0.736387  , 0.263613  ],\n",
       "       [0.83545977, 0.16454022],\n",
       "       [0.8568001 , 0.1431999 ],\n",
       "       [0.8526512 , 0.14734884],\n",
       "       [0.8532064 , 0.14679359],\n",
       "       [0.8385189 , 0.1614811 ],\n",
       "       [0.78813744, 0.2118626 ],\n",
       "       [0.77271587, 0.22728415],\n",
       "       [0.8208312 , 0.17916884],\n",
       "       [0.7560662 , 0.24393377],\n",
       "       [0.8054765 , 0.19452353],\n",
       "       [0.83455503, 0.16544499],\n",
       "       [0.8031479 , 0.19685206],\n",
       "       [0.8385189 , 0.1614811 ],\n",
       "       [0.8568001 , 0.1431999 ],\n",
       "       [0.81555396, 0.18444605],\n",
       "       [0.83545977, 0.16454022],\n",
       "       [0.8532064 , 0.14679359],\n",
       "       [0.7227503 , 0.2772497 ],\n",
       "       [0.83545977, 0.16454022],\n",
       "       [0.8532064 , 0.14679359],\n",
       "       [0.8385189 , 0.1614811 ],\n",
       "       [0.75516415, 0.24483582],\n",
       "       [0.8385189 , 0.1614811 ],\n",
       "       [0.8568001 , 0.1431999 ],\n",
       "       [0.79368734, 0.20631266],\n",
       "       [0.8526512 , 0.14734884],\n",
       "       [0.8208312 , 0.17916884],\n",
       "       [0.83545977, 0.16454022],\n",
       "       [0.8568001 , 0.1431999 ],\n",
       "       [0.8389784 , 0.16102159],\n",
       "       [0.8526512 , 0.14734884],\n",
       "       [0.8526512 , 0.14734884],\n",
       "       [0.8526512 , 0.14734884],\n",
       "       [0.819942  , 0.18005803],\n",
       "       [0.8568001 , 0.1431999 ],\n",
       "       [0.8568001 , 0.1431999 ],\n",
       "       [0.8385189 , 0.1614811 ],\n",
       "       [0.6931354 , 0.30686462],\n",
       "       [0.8568001 , 0.1431999 ],\n",
       "       [0.8526512 , 0.14734884],\n",
       "       [0.8568001 , 0.1431999 ],\n",
       "       [0.8568001 , 0.1431999 ],\n",
       "       [0.83394295, 0.16605705],\n",
       "       [0.8147368 , 0.18526322],\n",
       "       [0.8385189 , 0.1614811 ],\n",
       "       [0.7016753 , 0.29832473],\n",
       "       [0.8031479 , 0.19685206],\n",
       "       [0.8385189 , 0.1614811 ],\n",
       "       [0.8568001 , 0.1431999 ],\n",
       "       [0.8568001 , 0.1431999 ],\n",
       "       [0.82484704, 0.17515296],\n",
       "       [0.7566717 , 0.24332827],\n",
       "       [0.83394295, 0.16605705],\n",
       "       [0.6851596 , 0.31484038],\n",
       "       [0.8568001 , 0.1431999 ],\n",
       "       [0.83545977, 0.16454022],\n",
       "       [0.8568001 , 0.1431999 ],\n",
       "       [0.8385189 , 0.1614811 ],\n",
       "       [0.8526512 , 0.14734884],\n",
       "       [0.8351085 , 0.16489151],\n",
       "       [0.7440182 , 0.25598183],\n",
       "       [0.7818077 , 0.21819228],\n",
       "       [0.8568001 , 0.1431999 ],\n",
       "       [0.8568001 , 0.1431999 ],\n",
       "       [0.8532064 , 0.14679359],\n",
       "       [0.67787486, 0.32212514],\n",
       "       [0.8568001 , 0.1431999 ],\n",
       "       [0.8532064 , 0.14679359],\n",
       "       [0.7423057 , 0.2576943 ],\n",
       "       [0.80520225, 0.19479772],\n",
       "       [0.8027077 , 0.1972923 ],\n",
       "       [0.8526512 , 0.14734884],\n",
       "       [0.8526512 , 0.14734884],\n",
       "       [0.83455503, 0.16544499],\n",
       "       [0.83545977, 0.16454022],\n",
       "       [0.83545977, 0.16454022],\n",
       "       [0.8526512 , 0.14734884],\n",
       "       [0.8385189 , 0.1614811 ],\n",
       "       [0.8568001 , 0.1431999 ],\n",
       "       [0.72491026, 0.2750897 ],\n",
       "       [0.78813744, 0.2118626 ],\n",
       "       [0.8532064 , 0.14679359],\n",
       "       [0.7758204 , 0.22417963],\n",
       "       [0.83394295, 0.16605705],\n",
       "       [0.8568001 , 0.1431999 ],\n",
       "       [0.8532064 , 0.14679359],\n",
       "       [0.8385189 , 0.1614811 ],\n",
       "       [0.8469914 , 0.15300855],\n",
       "       [0.8568001 , 0.1431999 ],\n",
       "       [0.8532064 , 0.14679359],\n",
       "       [0.84381986, 0.15618017],\n",
       "       [0.6571339 , 0.34286612],\n",
       "       [0.8351085 , 0.16489151],\n",
       "       [0.45552486, 0.54447514],\n",
       "       [0.8568001 , 0.1431999 ],\n",
       "       [0.8526512 , 0.14734884],\n",
       "       [0.8526512 , 0.14734884],\n",
       "       [0.8408054 , 0.15919456],\n",
       "       [0.8532064 , 0.14679359],\n",
       "       [0.8150423 , 0.18495767],\n",
       "       [0.8526512 , 0.14734884],\n",
       "       [0.8385189 , 0.1614811 ],\n",
       "       [0.63415873, 0.3658413 ],\n",
       "       [0.8568001 , 0.1431999 ],\n",
       "       [0.8526512 , 0.14734884],\n",
       "       [0.83394295, 0.16605705],\n",
       "       [0.7818077 , 0.21819228],\n",
       "       [0.5236244 , 0.47637558],\n",
       "       [0.8568001 , 0.1431999 ],\n",
       "       [0.8568001 , 0.1431999 ],\n",
       "       [0.8568001 , 0.1431999 ],\n",
       "       [0.79806435, 0.20193563],\n",
       "       [0.8208312 , 0.17916884],\n",
       "       [0.7227503 , 0.2772497 ],\n",
       "       [0.8385189 , 0.1614811 ],\n",
       "       [0.8351085 , 0.16489151],\n",
       "       [0.7979496 , 0.20205037],\n",
       "       [0.8568001 , 0.1431999 ],\n",
       "       [0.85124975, 0.14875023],\n",
       "       [0.8568001 , 0.1431999 ],\n",
       "       [0.8147368 , 0.18526322],\n",
       "       [0.81540394, 0.18459605],\n",
       "       [0.8147368 , 0.18526322],\n",
       "       [0.8568001 , 0.1431999 ],\n",
       "       [0.7557435 , 0.24425648],\n",
       "       [0.8389784 , 0.16102159],\n",
       "       [0.8568001 , 0.1431999 ],\n",
       "       [0.8568001 , 0.1431999 ],\n",
       "       [0.8532064 , 0.14679359],\n",
       "       [0.8289101 , 0.17108986],\n",
       "       [0.8385189 , 0.1614811 ],\n",
       "       [0.81227225, 0.18772773],\n",
       "       [0.64058435, 0.35941562],\n",
       "       [0.67151374, 0.32848626],\n",
       "       [0.8568001 , 0.1431999 ],\n",
       "       [0.8385189 , 0.1614811 ],\n",
       "       [0.8147368 , 0.18526322],\n",
       "       [0.8568001 , 0.1431999 ],\n",
       "       [0.83394295, 0.16605705],\n",
       "       [0.8568001 , 0.1431999 ],\n",
       "       [0.81972754, 0.18027245],\n",
       "       [0.7928494 , 0.2071506 ],\n",
       "       [0.8526512 , 0.14734884],\n",
       "       [0.8568001 , 0.1431999 ],\n",
       "       [0.78813744, 0.2118626 ],\n",
       "       [0.83545977, 0.16454022],\n",
       "       [0.85124975, 0.14875023],\n",
       "       [0.83394295, 0.16605705],\n",
       "       [0.8526512 , 0.14734884],\n",
       "       [0.8226386 , 0.17736144],\n",
       "       [0.83455503, 0.16544499],\n",
       "       [0.8568001 , 0.1431999 ],\n",
       "       [0.78813744, 0.2118626 ],\n",
       "       [0.7882683 , 0.21173169],\n",
       "       [0.8568001 , 0.1431999 ],\n",
       "       [0.66290104, 0.337099  ],\n",
       "       [0.7135043 , 0.2864957 ],\n",
       "       [0.83455503, 0.16544499],\n",
       "       [0.8532064 , 0.14679359],\n",
       "       [0.8532064 , 0.14679359],\n",
       "       [0.8192751 , 0.18072492],\n",
       "       [0.83394295, 0.16605705],\n",
       "       [0.8568001 , 0.1431999 ],\n",
       "       [0.8385189 , 0.1614811 ],\n",
       "       [0.8313232 , 0.16867681],\n",
       "       [0.8150423 , 0.18495767],\n",
       "       [0.83394295, 0.16605705],\n",
       "       [0.54873955, 0.45126042],\n",
       "       [0.7882683 , 0.21173169],\n",
       "       [0.8526512 , 0.14734884],\n",
       "       [0.8526512 , 0.14734884],\n",
       "       [0.83545977, 0.16454022],\n",
       "       [0.8568001 , 0.1431999 ],\n",
       "       [0.7741476 , 0.22585236],\n",
       "       [0.68295693, 0.31704307],\n",
       "       [0.8313232 , 0.16867681],\n",
       "       [0.8526512 , 0.14734884],\n",
       "       [0.5236244 , 0.47637558],\n",
       "       [0.7227503 , 0.2772497 ],\n",
       "       [0.5352914 , 0.46470863],\n",
       "       [0.8368314 , 0.16316861],\n",
       "       [0.67151374, 0.32848626],\n",
       "       [0.8526512 , 0.14734884],\n",
       "       [0.78813744, 0.2118626 ],\n",
       "       [0.8526512 , 0.14734884],\n",
       "       [0.8526512 , 0.14734884],\n",
       "       [0.7387099 , 0.26129004],\n",
       "       [0.42930865, 0.57069135],\n",
       "       [0.8532064 , 0.14679359],\n",
       "       [0.8526512 , 0.14734884],\n",
       "       [0.8351085 , 0.16489151],\n",
       "       [0.8368314 , 0.16316861],\n",
       "       [0.7882683 , 0.21173169],\n",
       "       [0.81374675, 0.18625323],\n",
       "       [0.7885722 , 0.21142781],\n",
       "       [0.83455503, 0.16544499],\n",
       "       [0.8568001 , 0.1431999 ],\n",
       "       [0.8526512 , 0.14734884],\n",
       "       [0.8526512 , 0.14734884],\n",
       "       [0.8385189 , 0.1614811 ],\n",
       "       [0.8568001 , 0.1431999 ],\n",
       "       [0.6502961 , 0.3497039 ],\n",
       "       [0.7566717 , 0.24332827],\n",
       "       [0.8568001 , 0.1431999 ]], dtype=float32)"
      ]
     },
     "execution_count": 14,
     "metadata": {},
     "output_type": "execute_result"
    }
   ],
   "source": [
    "y_pred"
   ]
  },
  {
   "cell_type": "code",
   "execution_count": 15,
   "id": "64ec4551",
   "metadata": {},
   "outputs": [],
   "source": [
    "y_pred = y_pred[:, 1]"
   ]
  },
  {
   "cell_type": "code",
   "execution_count": 16,
   "id": "2175f150",
   "metadata": {},
   "outputs": [
    {
     "name": "stdout",
     "output_type": "stream",
     "text": [
      "(300,) (300,)\n"
     ]
    }
   ],
   "source": [
    "print(y_val.shape, y_pred.shape)"
   ]
  },
  {
   "cell_type": "code",
   "execution_count": 17,
   "id": "e5159024",
   "metadata": {},
   "outputs": [],
   "source": [
    "roc_auc = roc_auc_score(y_val, y_pred)"
   ]
  },
  {
   "cell_type": "code",
   "execution_count": 18,
   "id": "118b1684",
   "metadata": {},
   "outputs": [
    {
     "data": {
      "text/plain": [
       "0.8155555555555556"
      ]
     },
     "execution_count": 18,
     "metadata": {},
     "output_type": "execute_result"
    }
   ],
   "source": [
    "roc_auc"
   ]
  },
  {
   "cell_type": "code",
   "execution_count": 19,
   "id": "995f64cf",
   "metadata": {
    "scrolled": true
   },
   "outputs": [
    {
     "data": {
      "text/plain": [
       "2"
      ]
     },
     "execution_count": 19,
     "metadata": {},
     "output_type": "execute_result"
    }
   ],
   "source": [
    "(y_pred>0.5).sum()"
   ]
  },
  {
   "cell_type": "code",
   "execution_count": 20,
   "id": "e1a28364",
   "metadata": {
    "scrolled": true
   },
   "outputs": [
    {
     "data": {
      "text/plain": [
       "Text(0.5, 1.0, 'Precision-Recall Curve')"
      ]
     },
     "execution_count": 20,
     "metadata": {},
     "output_type": "execute_result"
    },
    {
     "data": {
      "image/png": "[encoded data removed]",
      "text/plain": [
       "<Figure size 432x288 with 1 Axes>"
      ]
     },
     "metadata": {
      "needs_background": "light"
     },
     "output_type": "display_data"
    }
   ],
   "source": [
    "# Plot Precision-Recall curve using sklearn.\n",
    "from sklearn.metrics import precision_recall_curve\n",
    "precision, recall, treshold = precision_recall_curve(y_val, y_pred)\n",
    "  \n",
    "# Plot the output.\n",
    "plt.plot(treshold, precision[:-1], c ='r', label ='PRECISION')\n",
    "plt.plot(treshold, recall[:-1], c ='b', label ='RECALL')\n",
    "plt.grid()\n",
    "plt.legend()\n",
    "plt.title('Precision-Recall Curve')"
   ]
  },
  {
   "cell_type": "markdown",
   "id": "0da3e138",
   "metadata": {},
   "source": [
    "## XGBoost Random Search"
   ]
  },
  {
   "cell_type": "code",
   "execution_count": 21,
   "id": "d2e0a21a",
   "metadata": {},
   "outputs": [],
   "source": [
    "from sklearn.model_selection import RandomizedSearchCV\n",
    "from sklearn.model_selection import StratifiedKFold\n",
    "from datetime import datetime\n"
   ]
  },
  {
   "cell_type": "code",
   "execution_count": 22,
   "id": "a3263d38",
   "metadata": {},
   "outputs": [],
   "source": [
    "def timer(start_time=None):\n",
    "    if not start_time:\n",
    "        start_time = datetime.now()\n",
    "        return start_time\n",
    "    elif start_time:\n",
    "        thour, temp_sec = divmod((datetime.now() - start_time).total_seconds(), 3600)\n",
    "        tmin, tsec = divmod(temp_sec, 60)\n",
    "        print('\\n Time taken: %i hours %i minutes and %s seconds.' % (thour, tmin, round(tsec, 2)))"
   ]
  },
  {
   "cell_type": "code",
   "execution_count": 23,
   "id": "be21b1c4",
   "metadata": {},
   "outputs": [],
   "source": [
    "xgb = XGBClassifier(learning_rate=0.02, n_estimators=600, objective='binary:logistic',\n",
    "                    silent=True, nthread=1)"
   ]
  },
  {
   "cell_type": "code",
   "execution_count": 24,
   "id": "78362f90",
   "metadata": {},
   "outputs": [],
   "source": [
    "params = {\n",
    "        'min_child_weight': [1, 5, 10],\n",
    "        'gamma': [0.5, 1, 1.5, 2, 5],\n",
    "        'subsample': [0.6, 0.8, 1.0],\n",
    "        'colsample_bytree': [0.6, 0.8, 1.0],\n",
    "        'max_depth': [3, 4, 5]\n",
    "}"
   ]
  },
  {
   "cell_type": "code",
   "execution_count": 25,
   "id": "7a24d56d",
   "metadata": {},
   "outputs": [
    {
     "name": "stdout",
     "output_type": "stream",
     "text": [
      "Fitting 3 folds for each of 5 candidates, totalling 15 fits\n"
     ]
    },
    {
     "name": "stderr",
     "output_type": "stream",
     "text": [
      "/Users/maximilianglasmacher/.pyenv/versions/3.8.6/envs/home-credit-default-risk/lib/python3.8/site-packages/xgboost/sklearn.py:1146: UserWarning: The use of label encoder in XGBClassifier is deprecated and will be removed in a future release. To remove this warning, do the following: 1) Pass option use_label_encoder=False when constructing XGBClassifier object; and 2) Encode your labels (y) as integers starting with 0, i.e. 0, 1, 2, ..., [num_class - 1].\n",
      "  warnings.warn(label_encoder_deprecation_msg, UserWarning)\n"
     ]
    },
    {
     "name": "stdout",
     "output_type": "stream",
     "text": [
      "[10:54:12] WARNING: /Users/travis/build/dmlc/xgboost/src/learner.cc:573: \n",
      "Parameters: { \"silent\" } might not be used.\n",
      "\n",
      "  This may not be accurate due to some parameters are only used in language bindings but\n",
      "  passed down to XGBoost core.  Or some parameters are not used but slip through this\n",
      "  verification. Please open an issue if you find above cases.\n",
      "\n",
      "\n",
      "[10:54:12] WARNING: /Users/travis/build/dmlc/xgboost/src/learner.cc:1095: Starting in XGBoost 1.3.0, the default evaluation metric used with the objective 'binary:logistic' was changed from 'error' to 'logloss'. Explicitly set eval_metric if you'd like to restore the old behavior.\n",
      "\n",
      " Time taken: 0 hours 0 minutes and 28.14 seconds.\n"
     ]
    }
   ],
   "source": [
    "folds = 3\n",
    "param_comb = 5\n",
    "\n",
    "skf = StratifiedKFold(n_splits=folds, shuffle = True, random_state = 1001)\n",
    "\n",
    "random_search = RandomizedSearchCV(xgb, param_distributions=params, n_iter=param_comb, scoring='roc_auc', n_jobs=4, cv=skf.split(X_train_transformed, y_train), verbose=3, random_state=1001 )\n",
    "\n",
    "# Here we go\n",
    "start_time = timer(None)\n",
    "random_search.fit(X_train_transformed, y_train)\n",
    "timer(start_time)"
   ]
  },
  {
   "cell_type": "code",
   "execution_count": 29,
   "id": "4fc44817",
   "metadata": {},
   "outputs": [
    {
     "name": "stdout",
     "output_type": "stream",
     "text": [
      "\n",
      " All results:\n",
      "{'mean_fit_time': array([5.11627452, 4.83249354, 3.85751677, 3.82041287, 5.19870075]), 'std_fit_time': array([0.04029919, 0.17798233, 0.07840874, 0.05735699, 0.07424441]), 'mean_score_time': array([0.00494607, 0.00670719, 0.00596801, 0.00635759, 0.00608826]), 'std_score_time': array([0.00041091, 0.00089825, 0.0002248 , 0.00060822, 0.0002305 ]), 'param_subsample': masked_array(data=[1.0, 0.6, 0.8, 1.0, 0.8],\n",
      "             mask=[False, False, False, False, False],\n",
      "       fill_value='?',\n",
      "            dtype=object), 'param_min_child_weight': masked_array(data=[5, 1, 5, 5, 1],\n",
      "             mask=[False, False, False, False, False],\n",
      "       fill_value='?',\n",
      "            dtype=object), 'param_max_depth': masked_array(data=[3, 5, 5, 5, 4],\n",
      "             mask=[False, False, False, False, False],\n",
      "       fill_value='?',\n",
      "            dtype=object), 'param_gamma': masked_array(data=[5, 1.5, 1, 5, 1],\n",
      "             mask=[False, False, False, False, False],\n",
      "       fill_value='?',\n",
      "            dtype=object), 'param_colsample_bytree': masked_array(data=[1.0, 0.8, 0.8, 0.6, 1.0],\n",
      "             mask=[False, False, False, False, False],\n",
      "       fill_value='?',\n",
      "            dtype=object), 'params': [{'subsample': 1.0, 'min_child_weight': 5, 'max_depth': 3, 'gamma': 5, 'colsample_bytree': 1.0}, {'subsample': 0.6, 'min_child_weight': 1, 'max_depth': 5, 'gamma': 1.5, 'colsample_bytree': 0.8}, {'subsample': 0.8, 'min_child_weight': 5, 'max_depth': 5, 'gamma': 1, 'colsample_bytree': 0.8}, {'subsample': 1.0, 'min_child_weight': 5, 'max_depth': 5, 'gamma': 5, 'colsample_bytree': 0.6}, {'subsample': 0.8, 'min_child_weight': 1, 'max_depth': 4, 'gamma': 1, 'colsample_bytree': 1.0}], 'split0_test_score': array([0.63623011, 0.66854345, 0.68518972, 0.64406365, 0.67637699]), 'split1_test_score': array([0.73591731, 0.74237726, 0.74702842, 0.74832041, 0.74392765]), 'split2_test_score': array([0.76369509, 0.75555556, 0.74237726, 0.75943152, 0.76511628]), 'mean_test_score': array([0.7119475 , 0.72215876, 0.72486513, 0.71727186, 0.72847364]), 'std_test_score': array([0.05472808, 0.03829158, 0.02811894, 0.05196439, 0.03783988]), 'rank_test_score': array([5, 3, 2, 4, 1], dtype=int32)}\n",
      "\n",
      " Best estimator:\n",
      "XGBClassifier(base_score=0.5, booster='gbtree', colsample_bylevel=1,\n",
      "              colsample_bynode=1, colsample_bytree=1.0, gamma=1, gpu_id=-1,\n",
      "              importance_type='gain', interaction_constraints='',\n",
      "              learning_rate=0.02, max_delta_step=0, max_depth=4,\n",
      "              min_child_weight=1, missing=nan, monotone_constraints='()',\n",
      "              n_estimators=600, n_jobs=1, nthread=1, num_parallel_tree=1,\n",
      "              random_state=0, reg_alpha=0, reg_lambda=1, scale_pos_weight=1,\n",
      "              silent=True, subsample=0.8, tree_method='exact',\n",
      "              validate_parameters=1, verbosity=None)\n",
      "\n",
      " Best AUC score for 3-fold search with 5 parameter combinations:\n",
      "0.7284736388775556\n",
      "\n",
      " Best hyperparameters:\n",
      "{'subsample': 0.8, 'min_child_weight': 1, 'max_depth': 4, 'gamma': 1, 'colsample_bytree': 1.0}\n"
     ]
    }
   ],
   "source": [
    "print('\\n All results:')\n",
    "print(random_search.cv_results_)\n",
    "print('\\n Best estimator:')\n",
    "print(random_search.best_estimator_)\n",
    "print('\\n Best AUC score for %d-fold search with %d parameter combinations:' % (folds, param_comb))\n",
    "print(random_search.best_score_)\n",
    "print('\\n Best hyperparameters:')\n",
    "print(random_search.best_params_)\n",
    "#results = pd.DataFrame(random_search.cv_results_)\n",
    "#results.to_csv('xgb-random-grid-search-results-01.csv', index=False)"
   ]
  },
  {
   "cell_type": "code",
   "execution_count": null,
   "id": "09debc1f",
   "metadata": {},
   "outputs": [],
   "source": []
  }
 ],
 "metadata": {
  "kernelspec": {
   "display_name": "Python 3",
   "language": "python",
   "name": "python3"
  },
  "language_info": {
   "codemirror_mode": {
    "name": "ipython",
    "version": 3
   },
   "file_extension": ".py",
   "mimetype": "text/x-python",
   "name": "python",
   "nbconvert_exporter": "python",
   "pygments_lexer": "ipython3",
   "version": "3.8.6"
  },
  "toc": {
   "base_numbering": 1,
   "nav_menu": {},
   "number_sections": true,
   "sideBar": true,
   "skip_h1_title": false,
   "title_cell": "Table of Contents",
   "title_sidebar": "Contents",
   "toc_cell": false,
   "toc_position": {},
   "toc_section_display": true,
   "toc_window_display": false
  },
  "varInspector": {
   "cols": {
    "lenName": 16,
    "lenType": 16,
    "lenVar": 40
   },
   "kernels_config": {
    "python": {
     "delete_cmd_postfix": "",
     "delete_cmd_prefix": "del ",
     "library": "var_list.py",
     "varRefreshCmd": "print(var_dic_list())"
    },
    "r": {
     "delete_cmd_postfix": ") ",
     "delete_cmd_prefix": "rm(",
     "library": "var_list.r",
     "varRefreshCmd": "cat(var_dic_list()) "
    }
   },
   "types_to_exclude": [
    "module",
    "function",
    "builtin_function_or_method",
    "instance",
    "_Feature"
   ],
   "window_display": false
  }
 },
 "nbformat": 4,
 "nbformat_minor": 5
}
